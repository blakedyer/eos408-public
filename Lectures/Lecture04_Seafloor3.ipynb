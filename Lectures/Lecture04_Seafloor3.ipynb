{
 "cells": [
  {
   "cell_type": "code",
   "execution_count": null,
   "metadata": {
    "slideshow": {
     "slide_type": "skip"
    }
   },
   "outputs": [],
   "source": [
    "Lecture 4: Sea-floor depth, age, and heat flow"
   ]
  },
  {
   "cell_type": "code",
   "execution_count": 1,
   "metadata": {
    "slideshow": {
     "slide_type": "skip"
    }
   },
   "outputs": [],
   "source": [
    "import numpy as np\n",
    "from IPython.core.display import HTML\n",
    "from matplotlib import pyplot as plt"
   ]
  },
  {
   "cell_type": "code",
   "execution_count": 1,
   "metadata": {
    "slideshow": {
     "slide_type": "skip"
    }
   },
   "outputs": [
    {
     "name": "stdout",
     "output_type": "stream",
     "text": [
      "Loading page http://localhost:8888/notebooks/Lecture04_Seafloor3.ipynb?token=8c9ee22068dfe5b9dc8defbd49cae9ea230c780df1f7f47f ...\n",
      "\u001b[38;2;255;165;0mactions\u001b[39m \u001b[38;2;255;165;0mjupyter-notebook:find-and-replace\u001b[39m \u001b[38;2;255;165;0mdoes not exist, still binding it in case it will be defined later...\u001b[39m\n",
      "\u001b[90mload_extensions\u001b[39m \u001b[90m{\u001b[39m\n",
      "\u001b[90m  '0': 'nbextensions_configurator/config_menu/main',\u001b[39m\n",
      "\u001b[90m  '1': 'contrib_nbextensions_help_item/main',\u001b[39m\n",
      "\u001b[90m  '2': 'rise/main',\u001b[39m\n",
      "\u001b[90m  '3': 'jupyter-js-widgets/extension',\u001b[39m\n",
      "\u001b[90m  '4': 'jupyter-black-master/jupyter-black',\u001b[39m\n",
      "\u001b[90m  '5': 'toc2/main',\u001b[39m\n",
      "\u001b[90m  '6': 'hide_code/hide_code',\u001b[39m\n",
      "\u001b[90m  '7': 'hide_input/main',\u001b[39m\n",
      "\u001b[90m  '8': 'codefolding/main',\u001b[39m\n",
      "\u001b[90m  '9': 'splitcell/splitcell'\u001b[39m\n",
      "\u001b[90m}\u001b[39m\n",
      "\u001b[90mLoaded moment locale\u001b[39m \u001b[90men-gb\u001b[39m\n",
      "\u001b[31mFailed to load resource: the server responded with a status of 404 (Not Found)\u001b[39m\n",
      "\u001b[90mHTML Sanitizer\u001b[39m \u001b[90mdiv.style changed\u001b[39m \u001b[90m{\u001b[39m\n",
      "\u001b[90m  change: 'changed',\u001b[39m\n",
      "\u001b[90m  tagName: 'div',\u001b[39m\n",
      "\u001b[90m  attribName: 'style',\u001b[39m\n",
      "\u001b[90m  oldValue: 'display:flex;height:60vh',\u001b[39m\n",
      "\u001b[90m  newValue: 'display: flex ; height: 60vh'\u001b[39m\n",
      "\u001b[90m}\u001b[39m\n",
      "\u001b[90mHTML Sanitizer\u001b[39m \u001b[90mdiv.style changed\u001b[39m \u001b[90m{\u001b[39m\n",
      "\u001b[90m  change: 'changed',\u001b[39m\n",
      "\u001b[90m  tagName: 'div',\u001b[39m\n",
      "\u001b[90m  attribName: 'style',\u001b[39m\n",
      "\u001b[90m  oldValue: 'visibility: visible;',\u001b[39m\n",
      "\u001b[90m  newValue: 'visibility: visible'\u001b[39m\n",
      "\u001b[90m}\u001b[39m\n",
      "\u001b[90mHTML Sanitizer\u001b[39m \u001b[90mdiv.style changed\u001b[39m \u001b[90m{\u001b[39m\n",
      "\u001b[90m  change: 'changed',\u001b[39m\n",
      "\u001b[90m  tagName: 'div',\u001b[39m\n",
      "\u001b[90m  attribName: 'style',\u001b[39m\n",
      "\u001b[90m  oldValue: 'visibility: visible;',\u001b[39m\n",
      "\u001b[90m  newValue: 'visibility: visible'\u001b[39m\n",
      "\u001b[90m}\u001b[39m\n",
      "\u001b[90mHTML Sanitizer\u001b[39m \u001b[90mimg.style changed\u001b[39m \u001b[90m{\u001b[39m\n",
      "\u001b[90m  change: 'changed',\u001b[39m\n",
      "\u001b[90m  tagName: 'img',\u001b[39m\n",
      "\u001b[90m  attribName: 'style',\u001b[39m\n",
      "\u001b[90m  oldValue: 'height:60vh;display:block; margin:auto',\u001b[39m\n",
      "\u001b[90m  newValue: 'height: 60vh ; display: block ; margin: auto'\u001b[39m\n",
      "\u001b[90m}\u001b[39m\n",
      "\u001b[90mHTML Sanitizer\u001b[39m \u001b[90mdiv.style changed\u001b[39m \u001b[90m{\u001b[39m\n",
      "\u001b[90m  change: 'changed',\u001b[39m\n",
      "\u001b[90m  tagName: 'div',\u001b[39m\n",
      "\u001b[90m  attribName: 'style',\u001b[39m\n",
      "\u001b[90m  oldValue: 'font-size:25px',\u001b[39m\n",
      "\u001b[90m  newValue: 'font-size: 25px'\u001b[39m\n",
      "\u001b[90m}\u001b[39m\n",
      "\u001b[90mHTML Sanitizer\u001b[39m \u001b[90mimg.style changed\u001b[39m \u001b[90m{\u001b[39m\n",
      "\u001b[90m  change: 'changed',\u001b[39m\n",
      "\u001b[90m  tagName: 'img',\u001b[39m\n",
      "\u001b[90m  attribName: 'style',\u001b[39m\n",
      "\u001b[90m  oldValue: 'height:60vh',\u001b[39m\n",
      "\u001b[90m  newValue: 'height: 60vh'\u001b[39m\n",
      "\u001b[90m}\u001b[39m\n",
      "\u001b[90mHTML Sanitizer\u001b[39m \u001b[90mspan.style changed\u001b[39m \u001b[90m{\u001b[39m\n",
      "\u001b[90m  change: 'changed',\u001b[39m\n",
      "\u001b[90m  tagName: 'span',\u001b[39m\n",
      "\u001b[90m  attribName: 'style',\u001b[39m\n",
      "\u001b[90m  oldValue: 'color:dodgerblue',\u001b[39m\n",
      "\u001b[90m  newValue: 'color: dodgerblue'\u001b[39m\n",
      "\u001b[90m}\u001b[39m\n",
      "\u001b[90mHTML Sanitizer\u001b[39m \u001b[90mdiv.style changed\u001b[39m \u001b[90m{\u001b[39m\n",
      "\u001b[90m  change: 'changed',\u001b[39m\n",
      "\u001b[90m  tagName: 'div',\u001b[39m\n",
      "\u001b[90m  attribName: 'style',\u001b[39m\n",
      "\u001b[90m  oldValue: 'display:flex;height:60vh',\u001b[39m\n",
      "\u001b[90m  newValue: 'display: flex ; height: 60vh'\u001b[39m\n",
      "\u001b[90m}\u001b[39m\n",
      "\u001b[90mHTML Sanitizer\u001b[39m \u001b[90mdiv.style changed\u001b[39m \u001b[90m{\u001b[39m\n",
      "\u001b[90m  change: 'changed',\u001b[39m\n",
      "\u001b[90m  tagName: 'div',\u001b[39m\n",
      "\u001b[90m  attribName: 'style',\u001b[39m\n",
      "\u001b[90m  oldValue: 'visibility: visible;',\u001b[39m\n",
      "\u001b[90m  newValue: 'visibility: visible'\u001b[39m\n",
      "\u001b[90m}\u001b[39m\n",
      "\u001b[90mHTML Sanitizer\u001b[39m \u001b[90mimg.style changed\u001b[39m \u001b[90m{\u001b[39m\n",
      "\u001b[90m  change: 'changed',\u001b[39m\n",
      "\u001b[90m  tagName: 'img',\u001b[39m\n",
      "\u001b[90m  attribName: 'style',\u001b[39m\n",
      "\u001b[90m  oldValue: 'max-height:60vh',\u001b[39m\n",
      "\u001b[90m  newValue: 'max-height: 60vh'\u001b[39m\n",
      "\u001b[90m}\u001b[39m\n",
      "\u001b[90mHTML Sanitizer\u001b[39m \u001b[90mdiv.style changed\u001b[39m \u001b[90m{\u001b[39m\n",
      "\u001b[90m  change: 'changed',\u001b[39m\n",
      "\u001b[90m  tagName: 'div',\u001b[39m\n",
      "\u001b[90m  attribName: 'style',\u001b[39m\n",
      "\u001b[90m  oldValue: 'visibility: visible;',\u001b[39m\n",
      "\u001b[90m  newValue: 'visibility: visible'\u001b[39m\n",
      "\u001b[90m}\u001b[39m\n",
      "\u001b[90mHTML Sanitizer\u001b[39m \u001b[90mspan.style changed\u001b[39m \u001b[90m{\u001b[39m\n",
      "\u001b[90m  change: 'changed',\u001b[39m\n",
      "\u001b[90m  tagName: 'span',\u001b[39m\n",
      "\u001b[90m  attribName: 'style',\u001b[39m\n",
      "\u001b[90m  oldValue: 'color:dodgerblue',\u001b[39m\n",
      "\u001b[90m  newValue: 'color: dodgerblue'\u001b[39m\n",
      "\u001b[90m}\u001b[39m\n",
      "\u001b[90mHTML Sanitizer\u001b[39m \u001b[90mul.style changed\u001b[39m \u001b[90m{\u001b[39m\n",
      "\u001b[90m  change: 'changed',\u001b[39m\n",
      "\u001b[90m  tagName: 'ul',\u001b[39m\n",
      "\u001b[90m  attribName: 'style',\u001b[39m\n",
      "\u001b[90m  oldValue: 'list-style-type:none;',\u001b[39m\n",
      "\u001b[90m  newValue: 'list-style-type: none'\u001b[39m\n",
      "\u001b[90m}\u001b[39m\n",
      "\u001b[90mHTML Sanitizer\u001b[39m \u001b[90mimg.style changed\u001b[39m \u001b[90m{\u001b[39m\n",
      "\u001b[90m  change: 'changed',\u001b[39m\n",
      "\u001b[90m  tagName: 'img',\u001b[39m\n",
      "\u001b[90m  attribName: 'style',\u001b[39m\n",
      "\u001b[90m  oldValue: 'height:65vh',\u001b[39m\n",
      "\u001b[90m  newValue: 'height: 65vh'\u001b[39m\n",
      "\u001b[90m}\u001b[39m\n",
      "\u001b[90mHTML Sanitizer\u001b[39m \u001b[90mimg.style changed\u001b[39m \u001b[90m{\u001b[39m\n",
      "\u001b[90m  change: 'changed',\u001b[39m\n",
      "\u001b[90m  tagName: 'img',\u001b[39m\n",
      "\u001b[90m  attribName: 'style',\u001b[39m\n",
      "\u001b[90m  oldValue: 'height:65vh',\u001b[39m\n",
      "\u001b[90m  newValue: 'height: 65vh'\u001b[39m\n",
      "\u001b[90m}\u001b[39m\n",
      "\u001b[90mHTML Sanitizer\u001b[39m \u001b[90mspan.style changed\u001b[39m \u001b[90m{\u001b[39m\n",
      "\u001b[90m  change: 'changed',\u001b[39m\n",
      "\u001b[90m  tagName: 'span',\u001b[39m\n",
      "\u001b[90m  attribName: 'style',\u001b[39m\n",
      "\u001b[90m  oldValue: 'color:dodgerblue',\u001b[39m\n",
      "\u001b[90m  newValue: 'color: dodgerblue'\u001b[39m\n",
      "\u001b[90m}\u001b[39m\n",
      "\u001b[90mHTML Sanitizer\u001b[39m \u001b[90mimg.style changed\u001b[39m \u001b[90m{\u001b[39m\n",
      "\u001b[90m  change: 'changed',\u001b[39m\n",
      "\u001b[90m  tagName: 'img',\u001b[39m\n",
      "\u001b[90m  attribName: 'style',\u001b[39m\n",
      "\u001b[90m  oldValue: 'height:25vh',\u001b[39m\n",
      "\u001b[90m  newValue: 'height: 25vh'\u001b[39m\n",
      "\u001b[90m}\u001b[39m\n",
      "\u001b[90mHTML Sanitizer\u001b[39m \u001b[90mspan.style changed\u001b[39m \u001b[90m{\u001b[39m\n",
      "\u001b[90m  change: 'changed',\u001b[39m\n",
      "\u001b[90m  tagName: 'span',\u001b[39m\n",
      "\u001b[90m  attribName: 'style',\u001b[39m\n",
      "\u001b[90m  oldValue: 'color:dodgerblue',\u001b[39m\n",
      "\u001b[90m  newValue: 'color: dodgerblue'\u001b[39m\n",
      "\u001b[90m}\u001b[39m\n",
      "\u001b[90mHTML Sanitizer\u001b[39m \u001b[90mspan.style changed\u001b[39m \u001b[90m{\u001b[39m\n",
      "\u001b[90m  change: 'changed',\u001b[39m\n",
      "\u001b[90m  tagName: 'span',\u001b[39m\n",
      "\u001b[90m  attribName: 'style',\u001b[39m\n",
      "\u001b[90m  oldValue: 'color:dodgerblue',\u001b[39m\n",
      "\u001b[90m  newValue: 'color: dodgerblue'\u001b[39m\n",
      "\u001b[90m}\u001b[39m\n",
      "\u001b[90mHTML Sanitizer\u001b[39m \u001b[90mdiv.style changed\u001b[39m \u001b[90m{\u001b[39m\n",
      "\u001b[90m  change: 'changed',\u001b[39m\n",
      "\u001b[90m  tagName: 'div',\u001b[39m\n",
      "\u001b[90m  attribName: 'style',\u001b[39m\n",
      "\u001b[90m  oldValue: 'height:70vh;font-size:.9em',\u001b[39m\n",
      "\u001b[90m  newValue: 'height: 70vh ; font-size: 0.9em'\u001b[39m\n",
      "\u001b[90m}\u001b[39m\n",
      "\u001b[90mHTML Sanitizer\u001b[39m \u001b[90mspan.style changed\u001b[39m \u001b[90m{\u001b[39m\n",
      "\u001b[90m  change: 'changed',\u001b[39m\n",
      "\u001b[90m  tagName: 'span',\u001b[39m\n",
      "\u001b[90m  attribName: 'style',\u001b[39m\n",
      "\u001b[90m  oldValue: 'color:dodgerblue',\u001b[39m\n",
      "\u001b[90m  newValue: 'color: dodgerblue'\u001b[39m\n",
      "\u001b[90m}\u001b[39m\n",
      "\u001b[90mHTML Sanitizer\u001b[39m \u001b[90mdiv.style changed\u001b[39m \u001b[90m{\u001b[39m\n",
      "\u001b[90m  change: 'changed',\u001b[39m\n",
      "\u001b[90m  tagName: 'div',\u001b[39m\n",
      "\u001b[90m  attribName: 'style',\u001b[39m\n",
      "\u001b[90m  oldValue: 'height:70vh;font-size:.9em',\u001b[39m\n",
      "\u001b[90m  newValue: 'height: 70vh ; font-size: 0.9em'\u001b[39m\n",
      "\u001b[90m}\u001b[39m\n",
      "\u001b[90mHTML Sanitizer\u001b[39m \u001b[90mspan.style changed\u001b[39m \u001b[90m{\u001b[39m\n",
      "\u001b[90m  change: 'changed',\u001b[39m\n",
      "\u001b[90m  tagName: 'span',\u001b[39m\n",
      "\u001b[90m  attribName: 'style',\u001b[39m\n",
      "\u001b[90m  oldValue: 'color:dodgerblue',\u001b[39m\n",
      "\u001b[90m  newValue: 'color: dodgerblue'\u001b[39m\n",
      "\u001b[90m}\u001b[39m\n",
      "\u001b[90mHTML Sanitizer\u001b[39m \u001b[90mspan.style changed\u001b[39m \u001b[90m{\u001b[39m\n",
      "\u001b[90m  change: 'changed',\u001b[39m\n",
      "\u001b[90m  tagName: 'span',\u001b[39m\n",
      "\u001b[90m  attribName: 'style',\u001b[39m\n",
      "\u001b[90m  oldValue: 'color:dodgerblue',\u001b[39m\n",
      "\u001b[90m  newValue: 'color: dodgerblue'\u001b[39m\n",
      "\u001b[90m}\u001b[39m\n",
      "\u001b[90mHTML Sanitizer\u001b[39m \u001b[90mdiv.style changed\u001b[39m \u001b[90m{\u001b[39m\n",
      "\u001b[90m  change: 'changed',\u001b[39m\n",
      "\u001b[90m  tagName: 'div',\u001b[39m\n",
      "\u001b[90m  attribName: 'style',\u001b[39m\n",
      "\u001b[90m  oldValue: 'height:70vh;font-size:.9em',\u001b[39m\n",
      "\u001b[90m  newValue: 'height: 70vh ; font-size: 0.9em'\u001b[39m\n",
      "\u001b[90m}\u001b[39m\n",
      "\u001b[90mHTML Sanitizer\u001b[39m \u001b[90mspan.style changed\u001b[39m \u001b[90m{\u001b[39m\n",
      "\u001b[90m  change: 'changed',\u001b[39m\n",
      "\u001b[90m  tagName: 'span',\u001b[39m\n",
      "\u001b[90m  attribName: 'style',\u001b[39m\n",
      "\u001b[90m  oldValue: 'color:dodgerblue',\u001b[39m\n",
      "\u001b[90m  newValue: 'color: dodgerblue'\u001b[39m\n",
      "\u001b[90m}\u001b[39m\n",
      "\u001b[90mHTML Sanitizer\u001b[39m \u001b[90mspan.style changed\u001b[39m \u001b[90m{\u001b[39m\n",
      "\u001b[90m  change: 'changed',\u001b[39m\n",
      "\u001b[90m  tagName: 'span',\u001b[39m\n",
      "\u001b[90m  attribName: 'style',\u001b[39m\n",
      "\u001b[90m  oldValue: 'color:firebrick',\u001b[39m\n",
      "\u001b[90m  newValue: 'color: firebrick'\u001b[39m\n",
      "\u001b[90m}\u001b[39m\n",
      "\u001b[90mHTML Sanitizer\u001b[39m \u001b[90mspan.style changed\u001b[39m \u001b[90m{\u001b[39m\n",
      "\u001b[90m  change: 'changed',\u001b[39m\n",
      "\u001b[90m  tagName: 'span',\u001b[39m\n",
      "\u001b[90m  attribName: 'style',\u001b[39m\n",
      "\u001b[90m  oldValue: 'color:dodgerblue',\u001b[39m\n",
      "\u001b[90m  newValue: 'color: dodgerblue'\u001b[39m\n",
      "\u001b[90m}\u001b[39m\n",
      "\u001b[90mHTML Sanitizer\u001b[39m \u001b[90mdiv.style changed\u001b[39m \u001b[90m{\u001b[39m\n",
      "\u001b[90m  change: 'changed',\u001b[39m\n",
      "\u001b[90m  tagName: 'div',\u001b[39m\n",
      "\u001b[90m  attribName: 'style',\u001b[39m\n",
      "\u001b[90m  oldValue: 'height:70vh',\u001b[39m\n",
      "\u001b[90m  newValue: 'height: 70vh'\u001b[39m\n",
      "\u001b[90m}\u001b[39m\n",
      "\u001b[90mHTML Sanitizer\u001b[39m \u001b[90mdiv.style changed\u001b[39m \u001b[90m{\u001b[39m\n",
      "\u001b[90m  change: 'changed',\u001b[39m\n",
      "\u001b[90m  tagName: 'div',\u001b[39m\n",
      "\u001b[90m  attribName: 'style',\u001b[39m\n",
      "\u001b[90m  oldValue: 'display:flex;height:70vh',\u001b[39m\n",
      "\u001b[90m  newValue: 'display: flex ; height: 70vh'\u001b[39m\n",
      "\u001b[90m}\u001b[39m\n",
      "\u001b[90mHTML Sanitizer\u001b[39m \u001b[90mdiv.style changed\u001b[39m \u001b[90m{\u001b[39m\n",
      "\u001b[90m  change: 'changed',\u001b[39m\n",
      "\u001b[90m  tagName: 'div',\u001b[39m\n",
      "\u001b[90m  attribName: 'style',\u001b[39m\n",
      "\u001b[90m  oldValue: 'visibility: visible;',\u001b[39m\n",
      "\u001b[90m  newValue: 'visibility: visible'\u001b[39m\n",
      "\u001b[90m}\u001b[39m\n",
      "\u001b[90mHTML Sanitizer\u001b[39m \u001b[90mimg.style changed\u001b[39m \u001b[90m{\u001b[39m\n",
      "\u001b[90m  change: 'changed',\u001b[39m\n",
      "\u001b[90m  tagName: 'img',\u001b[39m\n",
      "\u001b[90m  attribName: 'style',\u001b[39m\n",
      "\u001b[90m  oldValue: 'max-height:60vh',\u001b[39m\n",
      "\u001b[90m  newValue: 'max-height: 60vh'\u001b[39m\n",
      "\u001b[90m}\u001b[39m\n",
      "\u001b[90mHTML Sanitizer\u001b[39m \u001b[90mdiv.style changed\u001b[39m \u001b[90m{\u001b[39m\n",
      "\u001b[90m  change: 'changed',\u001b[39m\n",
      "\u001b[90m  tagName: 'div',\u001b[39m\n",
      "\u001b[90m  attribName: 'style',\u001b[39m\n",
      "\u001b[90m  oldValue: 'visibility: visible;',\u001b[39m\n",
      "\u001b[90m  newValue: 'visibility: visible'\u001b[39m\n",
      "\u001b[90m}\u001b[39m\n",
      "\u001b[90mHTML Sanitizer\u001b[39m \u001b[90mul.style changed\u001b[39m \u001b[90m{\u001b[39m\n",
      "\u001b[90m  change: 'changed',\u001b[39m\n",
      "\u001b[90m  tagName: 'ul',\u001b[39m\n",
      "\u001b[90m  attribName: 'style',\u001b[39m\n",
      "\u001b[90m  oldValue: 'font-size:.9em',\u001b[39m\n",
      "\u001b[90m  newValue: 'font-size: 0.9em'\u001b[39m\n",
      "\u001b[90m}\u001b[39m\n",
      "\u001b[90mHTML Sanitizer\u001b[39m \u001b[90mdiv.style changed\u001b[39m \u001b[90m{\u001b[39m\n",
      "\u001b[90m  change: 'changed',\u001b[39m\n",
      "\u001b[90m  tagName: 'div',\u001b[39m\n",
      "\u001b[90m  attribName: 'style',\u001b[39m\n",
      "\u001b[90m  oldValue: 'display:flex;height:70vh',\u001b[39m\n",
      "\u001b[90m  newValue: 'display: flex ; height: 70vh'\u001b[39m\n",
      "\u001b[90m}\u001b[39m\n",
      "\u001b[90mHTML Sanitizer\u001b[39m \u001b[90mdiv.style changed\u001b[39m \u001b[90m{\u001b[39m\n",
      "\u001b[90m  change: 'changed',\u001b[39m\n",
      "\u001b[90m  tagName: 'div',\u001b[39m\n",
      "\u001b[90m  attribName: 'style',\u001b[39m\n",
      "\u001b[90m  oldValue: 'visibility: visible;',\u001b[39m\n",
      "\u001b[90m  newValue: 'visibility: visible'\u001b[39m\n",
      "\u001b[90m}\u001b[39m\n",
      "\u001b[90mHTML Sanitizer\u001b[39m \u001b[90mimg.style changed\u001b[39m \u001b[90m{\u001b[39m\n",
      "\u001b[90m  change: 'changed',\u001b[39m\n",
      "\u001b[90m  tagName: 'img',\u001b[39m\n",
      "\u001b[90m  attribName: 'style',\u001b[39m\n",
      "\u001b[90m  oldValue: 'max-height:60vh',\u001b[39m\n",
      "\u001b[90m  newValue: 'max-height: 60vh'\u001b[39m\n",
      "\u001b[90m}\u001b[39m\n",
      "\u001b[90mHTML Sanitizer\u001b[39m \u001b[90mdiv.style changed\u001b[39m \u001b[90m{\u001b[39m\n",
      "\u001b[90m  change: 'changed',\u001b[39m\n",
      "\u001b[90m  tagName: 'div',\u001b[39m\n",
      "\u001b[90m  attribName: 'style',\u001b[39m\n",
      "\u001b[90m  oldValue: 'visibility: visible;',\u001b[39m\n",
      "\u001b[90m  newValue: 'visibility: visible'\u001b[39m\n",
      "\u001b[90m}\u001b[39m\n",
      "\u001b[90mHTML Sanitizer\u001b[39m \u001b[90mul.style changed\u001b[39m \u001b[90m{\u001b[39m\n",
      "\u001b[90m  change: 'changed',\u001b[39m\n",
      "\u001b[90m  tagName: 'ul',\u001b[39m\n",
      "\u001b[90m  attribName: 'style',\u001b[39m\n",
      "\u001b[90m  oldValue: 'font-size:.9em',\u001b[39m\n",
      "\u001b[90m  newValue: 'font-size: 0.9em'\u001b[39m\n",
      "\u001b[90m}\u001b[39m\n",
      "\u001b[90mHTML Sanitizer\u001b[39m \u001b[90mdiv.style changed\u001b[39m \u001b[90m{\u001b[39m\n",
      "\u001b[90m  change: 'changed',\u001b[39m\n",
      "\u001b[90m  tagName: 'div',\u001b[39m\n",
      "\u001b[90m  attribName: 'style',\u001b[39m\n",
      "\u001b[90m  oldValue: 'display:flex;height:70vh',\u001b[39m\n",
      "\u001b[90m  newValue: 'display: flex ; height: 70vh'\u001b[39m\n",
      "\u001b[90m}\u001b[39m\n",
      "\u001b[90mHTML Sanitizer\u001b[39m \u001b[90mdiv.style changed\u001b[39m \u001b[90m{\u001b[39m\n",
      "\u001b[90m  change: 'changed',\u001b[39m\n",
      "\u001b[90m  tagName: 'div',\u001b[39m\n",
      "\u001b[90m  attribName: 'style',\u001b[39m\n",
      "\u001b[90m  oldValue: 'visibility: visible;',\u001b[39m\n",
      "\u001b[90m  newValue: 'visibility: visible'\u001b[39m\n",
      "\u001b[90m}\u001b[39m\n",
      "\u001b[90mHTML Sanitizer\u001b[39m \u001b[90mimg.style changed\u001b[39m \u001b[90m{\u001b[39m\n",
      "\u001b[90m  change: 'changed',\u001b[39m\n",
      "\u001b[90m  tagName: 'img',\u001b[39m\n",
      "\u001b[90m  attribName: 'style',\u001b[39m\n",
      "\u001b[90m  oldValue: 'height:55vh',\u001b[39m\n",
      "\u001b[90m  newValue: 'height: 55vh'\u001b[39m\n",
      "\u001b[90m}\u001b[39m\n",
      "\u001b[90mHTML Sanitizer\u001b[39m \u001b[90mdiv.style changed\u001b[39m \u001b[90m{\u001b[39m\n",
      "\u001b[90m  change: 'changed',\u001b[39m\n",
      "\u001b[90m  tagName: 'div',\u001b[39m\n",
      "\u001b[90m  attribName: 'style',\u001b[39m\n",
      "\u001b[90m  oldValue: 'visibility: visible;',\u001b[39m\n",
      "\u001b[90m  newValue: 'visibility: visible'\u001b[39m\n",
      "\u001b[90m}\u001b[39m\n",
      "\u001b[90mHTML Sanitizer\u001b[39m \u001b[90mimg.style changed\u001b[39m \u001b[90m{\u001b[39m\n",
      "\u001b[90m  change: 'changed',\u001b[39m\n",
      "\u001b[90m  tagName: 'img',\u001b[39m\n",
      "\u001b[90m  attribName: 'style',\u001b[39m\n",
      "\u001b[90m  oldValue: 'height:55vh',\u001b[39m\n",
      "\u001b[90m  newValue: 'height: 55vh'\u001b[39m\n",
      "\u001b[90m}\u001b[39m\n",
      "\u001b[90mHTML Sanitizer\u001b[39m \u001b[90mspan.style changed\u001b[39m \u001b[90m{\u001b[39m\n",
      "\u001b[90m  change: 'changed',\u001b[39m\n",
      "\u001b[90m  tagName: 'span',\u001b[39m\n",
      "\u001b[90m  attribName: 'style',\u001b[39m\n",
      "\u001b[90m  oldValue: 'font-size:.6em',\u001b[39m\n",
      "\u001b[90m  newValue: 'font-size: 0.6em'\u001b[39m\n",
      "\u001b[90m}\u001b[39m\n",
      "\u001b[90mHTML Sanitizer\u001b[39m \u001b[90mimg.style changed\u001b[39m \u001b[90m{\u001b[39m\n",
      "\u001b[90m  change: 'changed',\u001b[39m\n",
      "\u001b[90m  tagName: 'img',\u001b[39m\n",
      "\u001b[90m  attribName: 'style',\u001b[39m\n",
      "\u001b[90m  oldValue: 'height:70vh',\u001b[39m\n",
      "\u001b[90m  newValue: 'height: 70vh'\u001b[39m\n",
      "\u001b[90m}\u001b[39m\n",
      "\u001b[90mSession: kernel_created (089cb6c4-3362-445d-917d-eccde36e48fa)\u001b[39m\n",
      "\u001b[90mStarting WebSockets:\u001b[39m \u001b[90mws://localhost:8888/api/kernels/ac1f270c-4275-4978-ae80-917fe19dc993\u001b[39m\n"
     ]
    },
    {
     "name": "stdout",
     "output_type": "stream",
     "text": [
      "\u001b[31mFailed to load extension:\u001b[39m \u001b[31m[ 'nbextensions/hide_code/hide_code' ]\u001b[39m \u001b[31m{\u001b[39m\n",
      "\u001b[31m  requireType: 'scripterror',\u001b[39m\n",
      "\u001b[31m  requireModules: [ 'nbextensions/hide_code/hide_code' ],\u001b[39m\n",
      "\u001b[31m  originalError: { isTrusted: true }\u001b[39m\n",
      "\u001b[31m}\u001b[39m\n",
      "\u001b[90mLoading extension: nbextensions_configurator/config_menu/main\u001b[39m\n",
      "\u001b[90mLoading extension: contrib_nbextensions_help_item/main\u001b[39m\n",
      "\u001b[90mLoading extension: rise/main\u001b[39m\n",
      "\u001b[90mLoading extension: hide_input/main\u001b[39m\n",
      "\u001b[90mLoading extension: splitcell/splitcell\u001b[39m\n",
      "\u001b[90mcenter\u001b[39m\n",
      "\u001b[90mcenter\u001b[39m\n",
      "\u001b[90mcenter\u001b[39m\n",
      "\u001b[90mcenter\u001b[39m\n",
      "\u001b[90mcenter\u001b[39m\n",
      "\u001b[90mcenter\u001b[39m\n",
      "\u001b[90mcenter\u001b[39m\n",
      "\u001b[90mLoading extension: jupyter-js-widgets/extension\u001b[39m\n",
      "\u001b[31mFailed to load resource: the server responded with a status of 404 (Not Found)\u001b[39m\n",
      "\u001b[38;2;255;165;0mWidgets are not available.  Please install widgetsnbextension or ipywidgets 4.0\u001b[39m\n",
      "\u001b[90mLoading extension: jupyter-black-master/jupyter-black\u001b[39m\n",
      "\u001b[90mLoading extension: toc2/main\u001b[39m\n",
      "\u001b[90m[toc2] Notebook fully loaded -- toc2 initialized \u001b[39m\n",
      "\u001b[90mLoading extension: codefolding/main\u001b[39m\n",
      "\u001b[90mKernel: kernel_connected (ac1f270c-4275-4978-ae80-917fe19dc993)\u001b[39m\n",
      "\u001b[31mAccess to font at 'about:blank' from origin 'http://localhost:8888' has been blocked by CORS policy: Cross origin requests are only supported for protocol schemes: http, data, chrome, chrome-untrusted, https.\u001b[39m\n",
      "\n",
      "\u001b[38;2;255;165;0mUnable to load resource from URL: about:blank\u001b[39m\n",
      "\u001b[31mFailed to load resource: net::ERR_FAILED\u001b[39m\n",
      "\u001b[90mKernel: kernel_ready (ac1f270c-4275-4978-ae80-917fe19dc993)\u001b[39m\n",
      "\u001b[90m[jupyter-black]\u001b[39m \u001b[90mrestarting for new kernel_ready.Kernel event\u001b[39m\n",
      "Loading page finished with status: \u001b[33m200\u001b[39m\n",
      "\u001b[36m\u001b[1mRISE\u001b[22m\u001b[39m\u001b[36m plugin activated\u001b[39m\n",
      "\u001b[31mRefused to apply style from 'http://localhost:8888/notebooks/Lecture04_Seafloor3.css' because its MIME type ('text/html') is not a supported stylesheet MIME type, and strict MIME checking is enabled.\u001b[39m\n",
      "\u001b[90mCodefolding: Wait for\u001b[39m \u001b[90m1000\u001b[39m \u001b[90mms\u001b[39m\n",
      "\u001b[31mFailed to load resource: the server responded with a status of 404 (Not Found)\u001b[39m\n",
      "\u001b[38;2;255;165;0mFailed to get file Lecture1.json. ReadyState: 4, Status: 404\u001b[39m\n",
      "Printing slide #/slide-14-0 (21/15) ...\u001b[32m\u001b[39m\n",
      "\u001b[32mPrinted \u001b[39m\u001b[32m\u001b[1m21\u001b[22m\u001b[39m\u001b[32m slides\u001b[39m\n"
     ]
    }
   ],
   "source": [
    "nb_list = !jupyter notebook list\n",
    "server = [l for l in nb_list if 'eos408' in l][0].split(' :: ')[0]\n",
    "prefix = server.split('?')[0]\n",
    "token = server.split('?')[1]\n",
    "notebook = 'Lecture04_Seafloor3.ipynb'\n",
    "url = prefix+'notebooks/'+notebook+'?'+token\n",
    "!decktape -s '1920x1080' rise $url pdf_slides/Lecture04_Seafloor3.pdf"
   ]
  },
  {
   "cell_type": "markdown",
   "metadata": {
    "cell_style": "center",
    "slideshow": {
     "slide_type": "slide"
    }
   },
   "source": [
    "# Lecture 4: Sea-floor depth, age, and heat flow\n",
    "<br>"
   ]
  },
  {
   "cell_type": "markdown",
   "metadata": {
    "slideshow": {
     "slide_type": "-"
    }
   },
   "source": [
    "<div data-id=\"columns\" style=\"display:flex;height:60vh\">\n",
    "    <div class=\"clearpanel_start\" style=\"visibility: visible;\">\n",
    "    \n",
    "        \n",
    "- How do we map the seafloor today?\n",
    "  - Gravity, strain, and the geoid\n",
    "- Stochastic reheating model\n",
    "\n",
    "        \n",
    "        \n",
    "</div>\n",
    "    <div class=\"clearpanel\" style=\"visibility: visible;\">\n",
    "    <center><img src='images/Tharp-Map-scaled-atlantic.jpg'style='height:60vh;display:block; margin:auto'/></center>\n",
    "    </div>\n",
    "</div>"
   ]
  },
  {
   "cell_type": "markdown",
   "metadata": {
    "slideshow": {
     "slide_type": "-"
    }
   },
   "source": [
    "<div style='font-size:25px'> <i>We acknowledge and respect the lək̓ʷəŋən peoples on whose traditional territory the university stands and the Songhees, Esquimalt and W̱SÁNE&#262; peoples whose historical relationships with the land continue to this day.</i></div>"
   ]
  },
  {
   "cell_type": "markdown",
   "metadata": {
    "slideshow": {
     "slide_type": "slide"
    }
   },
   "source": [
    "### Mapping the sea-floor\n",
    "<br>"
   ]
  },
  {
   "cell_type": "markdown",
   "metadata": {
    "cell_style": "center",
    "slideshow": {
     "slide_type": "-"
    }
   },
   "source": [
    "<center><img style='height:60vh' src='images/smith_sandwell_bathymetry.png'></center>"
   ]
  },
  {
   "cell_type": "markdown",
   "metadata": {
    "cell_style": "center",
    "slideshow": {
     "slide_type": "-"
    }
   },
   "source": [
    "<center><span style='color:dodgerblue'>How do we map the bathymetry of the sea-floor?</span></center>\n"
   ]
  },
  {
   "cell_type": "markdown",
   "metadata": {
    "slideshow": {
     "slide_type": "slide"
    }
   },
   "source": [
    "#### Mapping the sea-floor\n",
    "<br>"
   ]
  },
  {
   "cell_type": "markdown",
   "metadata": {
    "slideshow": {
     "slide_type": "-"
    }
   },
   "source": [
    "<div data-id=\"columns\" style=\"display:flex;height:60vh\">\n",
    "    <div class=\"clearpanel_start\" style=\"visibility: visible;\">\n",
    "    <center><img style='max-height:60vh' src='images/smith_sandwell_bathymetry.png'></center>\n",
    "</div>\n",
    "    <div class=\"clearpanel\" style=\"visibility: visible;\">\n",
    "    <span style='color:dodgerblue'>How do we map the bathymetry of the sea-floor?</span>\n",
    "        <ul style=\"list-style-type:none;\">\n",
    "<li>A combination of:<ul>\n",
    "<li>Depth Soundings</li>\n",
    "<li>Satellite Altimetry</li>\n",
    "</ul>\n",
    "</li>\n",
    "</ul>\n",
    "    </div>\n",
    "</div>"
   ]
  },
  {
   "cell_type": "markdown",
   "metadata": {
    "slideshow": {
     "slide_type": "slide"
    }
   },
   "source": [
    "##### Bathymetric Prediction From SEASAT Altimeter Data (Dixon et al. 1983)"
   ]
  },
  {
   "cell_type": "markdown",
   "metadata": {
    "cell_style": "center",
    "slideshow": {
     "slide_type": "-"
    }
   },
   "source": [
    "<center><img style='height:65vh' src='images/musician_seamounts.png'></center>"
   ]
  },
  {
   "cell_type": "markdown",
   "metadata": {
    "slideshow": {
     "slide_type": "slide"
    }
   },
   "source": [
    "##### Bathymetric Prediction From SEASAT Altimeter Data (Dixon et al. 1983)"
   ]
  },
  {
   "cell_type": "markdown",
   "metadata": {
    "cell_style": "center",
    "slideshow": {
     "slide_type": "-"
    }
   },
   "source": [
    "<center><img style='height:65vh' src='images/musician_seamounts_profile.png'></center>"
   ]
  },
  {
   "cell_type": "markdown",
   "metadata": {
    "slideshow": {
     "slide_type": "slide"
    }
   },
   "source": [
    "##### Gravitational potential"
   ]
  },
  {
   "cell_type": "markdown",
   "metadata": {
    "slideshow": {
     "slide_type": "-"
    }
   },
   "source": [
    "Gravitational potential is the the work (energy transferred) per unit mass that would be needed to move an object to that point from a distance infinitely far away. Recall that: $\\mathrm{work = force~\\times~displacement}$"
   ]
  },
  {
   "cell_type": "markdown",
   "metadata": {
    "slideshow": {
     "slide_type": "fragment"
    }
   },
   "source": [
    "The acceleration due to gravity is constant along an **equipotential surface**. <span style='color:dodgerblue'>How is the **geoid** related to gravitational potential?</span>"
   ]
  },
  {
   "cell_type": "markdown",
   "metadata": {
    "cell_style": "center",
    "slideshow": {
     "slide_type": "fragment"
    }
   },
   "source": [
    "<center><img style='height:25vh' src='images/geoid.png'></center>"
   ]
  },
  {
   "cell_type": "markdown",
   "metadata": {
    "slideshow": {
     "slide_type": "fragment"
    }
   },
   "source": [
    "The **geoid** (a model) is the ocean surface elevation if winds and tides were absent."
   ]
  },
  {
   "cell_type": "markdown",
   "metadata": {
    "slideshow": {
     "slide_type": "slide"
    }
   },
   "source": [
    "##### <span style='color:dodgerblue'>If the Earth is isostatically compensated, why does the geoid (sea-surface) vary?</span>"
   ]
  },
  {
   "cell_type": "markdown",
   "metadata": {
    "slideshow": {
     "slide_type": "fragment"
    }
   },
   "source": [
    "Strain in the asthenosphere removes any stress that exists due to force imbalances (ie density contrasts).. so geoid variations must:\n",
    "- be small enough that the lithosphere can hold that stress\n",
    "- be caused by other dynamic forces:\n",
    "    - convection/dynamic topography\n",
    "    - topography that changes faster than the asthenosphere can compensate (faster than the strain rate)"
   ]
  },
  {
   "cell_type": "markdown",
   "metadata": {
    "slideshow": {
     "slide_type": "slide"
    }
   },
   "source": [
    "##### <span style='color:dodgerblue'>If the Earth is isostatically compensated, why does the geoid (sea-surface) vary?</span>"
   ]
  },
  {
   "cell_type": "markdown",
   "metadata": {
    "slideshow": {
     "slide_type": "fragment"
    }
   },
   "source": [
    "<div style='height:70vh;font-size:.9em'>\n",
    "Consider (sketch and calculate) the acceleration due to gravity above Hawaii's big island (<i>for this back-of-the-envelope calculation, you can assume the masses are point-masses</i>). Gravitational potential energy $\\propto$ force due to gravity and $$F=-G\\frac{m_1 m_2}{r^2}~~~~F=m\\times a~~~~a=-G\\frac{m_1}{r^2}$$. \n",
    "<ul>\n",
    "    <li>G=6.6743e-11 $\\frac{m^3}{kg~s^2}$</li>\n",
    "<li>Mass of the big island: 1.6e15 kg</li>\n",
    "<li>Mass of Earth: 5.97e24 kg</li>\n",
    "<li>Radius of Earth: 6.378e6 m</li>\n",
    "<li>Depth of seafloor: 6e3 m</li>\n",
    "</ul>\n",
    "    \n",
    "Assume that the island is exactly 6 km tall. How is the acceleration due to gravity at sea level different above this island when compared to some far away location in the Pacific that has no island? Is it higher/lower? How much so?\n",
    "\n",
    "</div>"
   ]
  },
  {
   "cell_type": "markdown",
   "metadata": {
    "slideshow": {
     "slide_type": "slide"
    }
   },
   "source": [
    "##### <span style='color:dodgerblue'>If the Earth is isostatically compensated, why does the geoid (sea-surface) vary?</span>"
   ]
  },
  {
   "cell_type": "markdown",
   "metadata": {
    "slideshow": {
     "slide_type": "-"
    }
   },
   "source": [
    "<div style='height:70vh;font-size:.9em'>\n",
    "Consider (sketch and calculate) the acceleration due to gravity above Hawaii's big island (<i>for this back-of-the-envelope calculation, you can assume the masses are point-masses</i>). Gravitational potential energy $\\propto$ force due to gravity and $$F=-G\\frac{m_1 m_2}{r^2}~~~~F=m\\times a~~~~a=-G\\frac{m_1}{r^2}$$. \n",
    "<ul>\n",
    "    <li>G=6.6743e-11 $\\frac{m^3}{kg~s^2}$</li>\n",
    "<li>Mass of the big island: 1.6e15 kg</li>\n",
    "<li>Mass of Earth: 5.97e24 kg</li>\n",
    "<li>Radius of Earth: 6.378e6 m</li>\n",
    "<li>Depth of seafloor: 6e3 m</li>\n",
    "</ul>\n",
    "    \n",
    "Assume that the island is exactly 6 km tall. How is the acceleration due to gravity at sea level different above this island when compared to some far away location in the Pacific that has no island? Is it higher/lower? How much so? <span style='color:dodgerblue'>Now consider the force 3 km away from the island. What percent of the force is felt at this distance?</span>\n",
    "\n",
    "</div>"
   ]
  },
  {
   "cell_type": "markdown",
   "metadata": {
    "slideshow": {
     "slide_type": "slide"
    }
   },
   "source": [
    "##### <span style='color:dodgerblue'>If the Earth is isostatically compensated, why does the geoid (sea-surface) vary?</span>"
   ]
  },
  {
   "cell_type": "markdown",
   "metadata": {
    "slideshow": {
     "slide_type": "-"
    }
   },
   "source": [
    "<div style='height:70vh;font-size:.9em'>\n",
    "Consider (sketch and calculate) the acceleration due to gravity above Hawaii's big island (<i>for this back-of-the-envelope calculation, you can assume the masses are point-masses</i>). Gravitational potential energy $\\propto$ force due to gravity and $$F=-G\\frac{m_1 m_2}{r^2}~~~~F=m\\times a~~~~a=-G\\frac{m_1}{r^2}$$. \n",
    "<ul>\n",
    "    <li>G=6.6743e-11 $\\frac{m^3}{kg~s^2}$</li>\n",
    "<li>Mass of the big island: 1.6e15 kg</li>\n",
    "<li>Mass of Earth: 5.97e24 kg</li>\n",
    "<li>Radius of Earth: 6.378e6 m</li>\n",
    "<li>Depth of seafloor: 6e3 m</li>\n",
    "</ul>\n",
    "    \n",
    "Assume that the island is exactly 6 km tall. How is the acceleration due to gravity at sea level different above this island when compared to some far away location in the Pacific that has no island? Is it higher/lower? How much so? <span style='color:dodgerblue'>Now consider the force 3 km away from the island. What percent of the force is felt at this distance?</span> <span style='color:firebrick'>Repeat this same exercise using a point mass that is on the sea-floor (ie deeper than the previous calculation). The exact mass here doesn't matter. What percent of the force due to that mass is experienced 3 km away on the sea surface?</span>\n",
    "\n",
    "</div>"
   ]
  },
  {
   "cell_type": "code",
   "execution_count": 11,
   "metadata": {
    "slideshow": {
     "slide_type": "-"
    }
   },
   "outputs": [
    {
     "data": {
      "image/png": "[encoded data removed]",
      "text/plain": [
       "<Figure size 432x288 with 1 Axes>"
      ]
     },
     "metadata": {
      "needs_background": "light"
     },
     "output_type": "display_data"
    }
   ],
   "source": [
    "import numpy as np\n",
    "from matplotlib import pyplot as plt\n",
    "G=6.6743e-11# m3 kg-1 s-2\n",
    "## point mass at 0,-6km\n",
    "r2 = np.linspace(0,6)\n",
    "mass = 1\n",
    "f = G*mass/((r2**2+6**2)**(1/2))\n",
    "plt.plot(r2,100*f/np.max(f),label='6km deep')\n",
    "f = G*mass/((r2**2+3**2)**(1/2))\n",
    "plt.plot(r2,100*f/np.max(f),label='3km deep')\n",
    "f = G*mass/((r2**2+1**2)**(1/2))\n",
    "plt.plot(r2,100*f/np.max(f),label='1km deep')\n",
    "plt.legend(loc='lower left')\n",
    "_=plt.gca().set_xlabel('Lateral distance from mass')\n",
    "_=plt.gca().set_ylabel('% of force experienced')"
   ]
  },
  {
   "cell_type": "markdown",
   "metadata": {
    "slideshow": {
     "slide_type": "slide"
    }
   },
   "source": [
    "##### <span style='color:dodgerblue'>If the Earth is isostatically compensated, why does the geoid (sea-surface) vary?</span> (Summary)"
   ]
  },
  {
   "cell_type": "markdown",
   "metadata": {
    "slideshow": {
     "slide_type": "fragment"
    }
   },
   "source": [
    "<div style='height:70vh'>\n",
    "<ul>\n",
    "<li>small amplitude differences in gravitational potential are maintained by lithosphere strength</li>\n",
    "<li>due to lateral differences in density (ie ocean at 3km next to basalt at 3km)</li>\n",
    "<li>low frequency (long wavelength) variations in gravitational potential are due to difference deeper in the Earth</li>\n",
    "<li>high frequency (short wavelength) variations are due to differences near the surface of the Earth</li>\n",
    "    </ul> \n",
    "</div>"
   ]
  },
  {
   "cell_type": "markdown",
   "metadata": {
    "slideshow": {
     "slide_type": "slide"
    }
   },
   "source": [
    "#### Mapping the sea-floor\n",
    "<br>"
   ]
  },
  {
   "cell_type": "markdown",
   "metadata": {
    "slideshow": {
     "slide_type": "-"
    }
   },
   "source": [
    "<div data-id=\"columns\" style=\"display:flex;height:70vh\">\n",
    "    <div class=\"clearpanel_start\" style=\"visibility: visible;\">\n",
    "    <center><img style='max-height:60vh' src='images/fft_cartoon.gif'></center>\n",
    "</div>\n",
    "    <div class=\"clearpanel\" style=\"visibility: visible;\">\n",
    "    <ul style='font-size:.9em'>\n",
    "<li>Altimetry data decomposed into high frequency (low wavelength) and low frequency (high wavelength) <em>spectral</em> components</li>\n",
    "<li>Low frequency components are combined with ship soundings to estimate deeper Earth density structures</li>\n",
    "<li>High frequency components are used to interpolate between soundings, assuming deep structure constant</li>\n",
    "<li>High frequency components are used to resolve very shallow density contrasts (such as sea-mounts)</li>\n",
    "</ul>\n",
    "        <br>\n",
    "    </div>\n",
    "        <br> \n",
    "</div>\n",
    "<br>"
   ]
  },
  {
   "cell_type": "markdown",
   "metadata": {
    "slideshow": {
     "slide_type": "slide"
    }
   },
   "source": [
    "#### Mapping the sea-floor\n",
    "<br>"
   ]
  },
  {
   "cell_type": "markdown",
   "metadata": {
    "slideshow": {
     "slide_type": "-"
    }
   },
   "source": [
    "<div data-id=\"columns\" style=\"display:flex;height:70vh\">\n",
    "    <div class=\"clearpanel_start\" style=\"visibility: visible;\">\n",
    "    <center><img style='max-height:60vh' src='images/smith_sandwell_bathymetry.png'></center>\n",
    "</div>\n",
    "    <div class=\"clearpanel\" style=\"visibility: visible;\">\n",
    "    <ul style='font-size:.9em'>\n",
    "<li>Altimetry data decomposed into high frequency (low wavelength) and low frequency (high wavelength) <em>spectral</em> components</li>\n",
    "<li>Low frequency components are combined with ship soundings to estimate deeper Earth density structures</li>\n",
    "<li>High frequency components are used to interpolate between soundings, assuming deep structure constant</li>\n",
    "<li>High frequency components are used to resolve very shallow density contrasts (such as sea-mounts)</li>\n",
    "</ul>\n",
    "        <br>\n",
    "    </div>\n",
    "        <br> \n",
    "</div>\n",
    "<br>"
   ]
  },
  {
   "cell_type": "markdown",
   "metadata": {
    "slideshow": {
     "slide_type": "slide"
    }
   },
   "source": [
    "#### Returning to the plate model and old oceanic lithosphere"
   ]
  },
  {
   "cell_type": "markdown",
   "metadata": {
    "slideshow": {
     "slide_type": "-"
    }
   },
   "source": [
    "<div data-id=\"columns\" style=\"display:flex;height:70vh\">\n",
    "    <div class=\"clearpanel_start\" style=\"visibility: visible;\">\n",
    "    <center><img style='height:55vh' src='images/smith_sandwell_age_depth.png'></center>\n",
    "    </div>\n",
    "    <div class=\"clearpanel\" style=\"visibility: visible;\">\n",
    "    <center><img style='height:55vh' src='images/smith_sandwell_histogram.png'></center></div>\n",
    "    \n",
    "</div>\n",
    "<center><i><span style='font-size:.6em'>(left) A and B show sea-floor depth (km) versus age (0 to 180 Ma). Lines are three different \"plate\" models. (right) Histogram of depth. Plate models are the dashed and dotted lines. \"Random reheating\" model is the solid line.</span></i></center>"
   ]
  },
  {
   "cell_type": "markdown",
   "metadata": {
    "slideshow": {
     "slide_type": "slide"
    }
   },
   "source": [
    "#### Returning to the plate model and old oceanic lithosphere"
   ]
  },
  {
   "cell_type": "markdown",
   "metadata": {
    "cell_style": "center",
    "slideshow": {
     "slide_type": "-"
    }
   },
   "source": [
    "<center><img style='height:70vh' src='images/hawaii.jpg'></center>"
   ]
  },
  {
   "cell_type": "markdown",
   "metadata": {
    "slideshow": {
     "slide_type": "skip"
    }
   },
   "source": [
    "- Attempt to sketch the following surfaces above the surface depicted on the board:\n",
    "    - far\n",
    "    - med\n",
    "    - close\n",
    "    \n",
    "- consider potential near infinite, what shape?\n",
    "    - what happens as you approach the surface of the earth\n",
    "    \n",
    "- high freq is seeing closer, low freq sees deeper\n",
    "    - to combine satellite and soundings, soundings used with the low freq to get the main deep structures and 'pin' the high freq variations which are assumed to be shallow. the signals are decomposed using fourier transforms and calculations are made in frequency space"
   ]
  },
  {
   "cell_type": "markdown",
   "metadata": {
    "slideshow": {
     "slide_type": "skip"
    }
   },
   "source": [
    "Marks figures showing seismic imaging of sed/crust/litho\n",
    "geology of seafloor\n",
    "- the crust tells us whats happening at the ridge\n",
    "- seafloor has other features\n",
    "    - plumes\n",
    "    - seamounts\n",
    "    - lips\n",
    "    - geochemistry gives us some clues to the source of these features\n",
    "    - topography helps too"
   ]
  },
  {
   "cell_type": "markdown",
   "metadata": {
    "slideshow": {
     "slide_type": "skip"
    }
   },
   "source": [
    "smith and sandwell 1997\n",
    "how do we measure topography of seafloor using gravity? dixon first try using altimetry in 1980s\n",
    "closer look at gravity calculations\n",
    "\n",
    "back to the data, with bathymetry from S and S, do the plate models make sense? hypsometry suggests poor fit, so they propose a reheating model. basically boundary layer with older crust having an increased probability of seeing a plume or hot spot (effectily resetting the temperature at the base)"
   ]
  },
  {
   "cell_type": "code",
   "execution_count": 7,
   "metadata": {
    "slideshow": {
     "slide_type": "skip"
    }
   },
   "outputs": [],
   "source": [
    "#calculating the accel due to gravity at the surface of the earth\n",
    "G=6.6743e-11# m3 kg-1 s-2\n",
    "Rb=6378e3 #m\n",
    "Rt=0.01\n",
    "Emass=5.97e24 # kg\n",
    "\n",
    "hdensity = 2800 #kg/m^3\n",
    "hvolume = 5.79e11 #m^3\n",
    "hawaii = hdensity*hvolume #(kg)\n",
    "aG=(-G*Emass)/(Rb**2)\n",
    "# ((-G*hawaii)/(2750**2))/(aG)*100 #(percent) #real variations on earth are around 0.7%"
   ]
  },
  {
   "cell_type": "code",
   "execution_count": 10,
   "metadata": {
    "slideshow": {
     "slide_type": "skip"
    }
   },
   "outputs": [
    {
     "data": {
      "image/png": "[encoded data removed]",
      "text/plain": [
       "<Figure size 432x288 with 1 Axes>"
      ]
     },
     "metadata": {
      "needs_background": "light"
     },
     "output_type": "display_data"
    }
   ],
   "source": [
    "import numpy as np\n",
    "from matplotlib import pyplot as plt\n",
    "## point mass at 0,-6km\n",
    "r2 = np.linspace(0,6)\n",
    "mass = 1\n",
    "f = G*mass/((r2**2+6**2)**(1/2))\n",
    "plt.plot(r2,100*f/np.max(f),label='6km deep')\n",
    "f = G*mass/((r2**2+3**2)**(1/2))\n",
    "plt.plot(r2,100*f/np.max(f),label='3km deep')\n",
    "f = G*mass/((r2**2+1**2)**(1/2))\n",
    "plt.plot(r2,100*f/np.max(f),label='1km deep')\n",
    "plt.legend(loc='lower left')\n",
    "_=plt.gca().set_xlabel('Lateral distance from mass')\n",
    "_=plt.gca().set_ylabel('% of force experienced')"
   ]
  },
  {
   "cell_type": "code",
   "execution_count": null,
   "metadata": {
    "slideshow": {
     "slide_type": "skip"
    }
   },
   "outputs": [],
   "source": []
  }
 ],
 "metadata": {
  "celltoolbar": "Slideshow",
  "kernelspec": {
   "display_name": "Python 3",
   "language": "python",
   "name": "python3"
  },
  "language_info": {
   "codemirror_mode": {
    "name": "ipython",
    "version": 3
   },
   "file_extension": ".py",
   "mimetype": "text/x-python",
   "name": "python",
   "nbconvert_exporter": "python",
   "pygments_lexer": "ipython3",
   "version": "3.9.1"
  },
  "rise": {
   "chalkboard": {
    "chalkEffect": 1,
    "chalkWidth": 7,
    "color": [
     "rgb(200,47,62)",
     "rgb(200,47,62)"
    ],
    "readOnly": false,
    "src": "Lecture1.json",
    "theme": "whiteboard"
   },
   "enable_chalkboard": true,
   "transition": "fade"
  },
  "toc": {
   "base_numbering": 1,
   "nav_menu": {
    "height": "229px",
    "width": "213px"
   },
   "number_sections": false,
   "sideBar": true,
   "skip_h1_title": false,
   "title_cell": "Table of Contents",
   "title_sidebar": "Contents",
   "toc_cell": false,
   "toc_position": {
    "height": "calc(100% - 180px)",
    "left": "10px",
    "top": "150px",
    "width": "426.664px"
   },
   "toc_section_display": true,
   "toc_window_display": false
  },
  "toc-autonumbering": true,
  "toc-showcode": false,
  "toc-showmarkdowntxt": false,
  "toc-showtags": false
 },
 "nbformat": 4,
 "nbformat_minor": 4
}
