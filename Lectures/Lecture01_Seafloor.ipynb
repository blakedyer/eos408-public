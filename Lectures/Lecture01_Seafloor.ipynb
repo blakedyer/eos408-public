{
 "cells": [
  {
   "cell_type": "code",
   "execution_count": null,
   "metadata": {
    "slideshow": {
     "slide_type": "skip"
    }
   },
   "outputs": [],
   "source": [
    "Lecture 2: Sea-floor depth, age, and heat flow"
   ]
  },
  {
   "cell_type": "code",
   "execution_count": 1,
   "metadata": {
    "slideshow": {
     "slide_type": "skip"
    }
   },
   "outputs": [],
   "source": [
    "import numpy as np\n",
    "from IPython.core.display import HTML\n",
    "from matplotlib import pyplot as plt"
   ]
  },
  {
   "cell_type": "markdown",
   "metadata": {
    "slideshow": {
     "slide_type": "skip"
    }
   },
   "source": [
    "<div data-id=\"columns\" style=\"display:flex;height:60vh\">\n",
    "    <div class=\"clearpanel_start\" style=\"visibility: visible;\">\n",
    "    <center><img id=\"bordered_img\" src=\"images/fieldwork.jpg\" style='height:60vh'></center>\n",
    "    </div>\n",
    "    <div class=\"clearpanel\" style=\"visibility: visible;\">\n",
    "        <center><img id=\"bordered_img\" src=\"images/fieldwork.jpg\" style='height:60vh'></center>\n",
    "    </div>\n",
    "</div>"
   ]
  },
  {
   "cell_type": "code",
   "execution_count": 1,
   "metadata": {
    "slideshow": {
     "slide_type": "skip"
    }
   },
   "outputs": [
    {
     "name": "stdout",
     "output_type": "stream",
     "text": [
      "Loading page http://localhost:8888/notebooks/Lecture1_Seafloor.ipynb?token=bf35f0c281d17446ce09c3fad9a6efa45149670fc2fe7978 ...\n",
      "\u001b[38;2;255;165;0mactions\u001b[39m \u001b[38;2;255;165;0mjupyter-notebook:find-and-replace\u001b[39m \u001b[38;2;255;165;0mdoes not exist, still binding it in case it will be defined later...\u001b[39m\n",
      "\u001b[90mload_extensions\u001b[39m \u001b[90m{\u001b[39m\n",
      "\u001b[90m  '0': 'nbextensions_configurator/config_menu/main',\u001b[39m\n",
      "\u001b[90m  '1': 'contrib_nbextensions_help_item/main',\u001b[39m\n",
      "\u001b[90m  '2': 'rise/main',\u001b[39m\n",
      "\u001b[90m  '3': 'jupyter-js-widgets/extension',\u001b[39m\n",
      "\u001b[90m  '4': 'jupyter-black-master/jupyter-black',\u001b[39m\n",
      "\u001b[90m  '5': 'toc2/main',\u001b[39m\n",
      "\u001b[90m  '6': 'hide_code/hide_code',\u001b[39m\n",
      "\u001b[90m  '7': 'hide_input/main',\u001b[39m\n",
      "\u001b[90m  '8': 'codefolding/main',\u001b[39m\n",
      "\u001b[90m  '9': 'splitcell/splitcell'\u001b[39m\n",
      "\u001b[90m}\u001b[39m\n",
      "\u001b[90mLoaded moment locale\u001b[39m \u001b[90men-gb\u001b[39m\n",
      "\u001b[31mFailed to load resource: the server responded with a status of 404 (Not Found)\u001b[39m\n",
      "\u001b[90mHTML Sanitizer\u001b[39m \u001b[90mdiv.style changed\u001b[39m \u001b[90m{\u001b[39m\n",
      "\u001b[90m  change: 'changed',\u001b[39m\n",
      "\u001b[90m  tagName: 'div',\u001b[39m\n",
      "\u001b[90m  attribName: 'style',\u001b[39m\n",
      "\u001b[90m  oldValue: 'height:59vh;',\u001b[39m\n",
      "\u001b[90m  newValue: 'height: 59vh'\u001b[39m\n",
      "\u001b[90m}\u001b[39m\n",
      "\u001b[90mHTML Sanitizer\u001b[39m \u001b[90mimg.style changed\u001b[39m \u001b[90m{\u001b[39m\n",
      "\u001b[90m  change: 'changed',\u001b[39m\n",
      "\u001b[90m  tagName: 'img',\u001b[39m\n",
      "\u001b[90m  attribName: 'style',\u001b[39m\n",
      "\u001b[90m  oldValue: 'height:59vh;display:block; margin:auto',\u001b[39m\n",
      "\u001b[90m  newValue: 'height: 59vh ; display: block ; margin: auto'\u001b[39m\n",
      "\u001b[90m}\u001b[39m\n",
      "\u001b[90mHTML Sanitizer\u001b[39m \u001b[90mdiv.style changed\u001b[39m \u001b[90m{\u001b[39m\n",
      "\u001b[90m  change: 'changed',\u001b[39m\n",
      "\u001b[90m  tagName: 'div',\u001b[39m\n",
      "\u001b[90m  attribName: 'style',\u001b[39m\n",
      "\u001b[90m  oldValue: 'font-size:25px',\u001b[39m\n",
      "\u001b[90m  newValue: 'font-size: 25px'\u001b[39m\n",
      "\u001b[90m}\u001b[39m\n",
      "\u001b[90mHTML Sanitizer\u001b[39m \u001b[90mdiv.style changed\u001b[39m \u001b[90m{\u001b[39m\n",
      "\u001b[90m  change: 'changed',\u001b[39m\n",
      "\u001b[90m  tagName: 'div',\u001b[39m\n",
      "\u001b[90m  attribName: 'style',\u001b[39m\n",
      "\u001b[90m  oldValue: 'height:70vh',\u001b[39m\n",
      "\u001b[90m  newValue: 'height: 70vh'\u001b[39m\n",
      "\u001b[90m}\u001b[39m\n",
      "\u001b[90mHTML Sanitizer\u001b[39m \u001b[90mspan.style changed\u001b[39m \u001b[90m{\u001b[39m\n",
      "\u001b[90m  change: 'changed',\u001b[39m\n",
      "\u001b[90m  tagName: 'span',\u001b[39m\n",
      "\u001b[90m  attribName: 'style',\u001b[39m\n",
      "\u001b[90m  oldValue: 'color:DarkGray',\u001b[39m\n",
      "\u001b[90m  newValue: 'color: darkgray'\u001b[39m\n",
      "\u001b[90m}\u001b[39m\n",
      "\u001b[90mHTML Sanitizer\u001b[39m \u001b[90mspan.style changed\u001b[39m \u001b[90m{\u001b[39m\n",
      "\u001b[90m  change: 'changed',\u001b[39m\n",
      "\u001b[90m  tagName: 'span',\u001b[39m\n",
      "\u001b[90m  attribName: 'style',\u001b[39m\n",
      "\u001b[90m  oldValue: 'float:right',\u001b[39m\n",
      "\u001b[90m  newValue: 'float: right'\u001b[39m\n",
      "\u001b[90m}\u001b[39m\n",
      "\u001b[90mHTML Sanitizer\u001b[39m \u001b[90mdiv.style changed\u001b[39m \u001b[90m{\u001b[39m\n",
      "\u001b[90m  change: 'changed',\u001b[39m\n",
      "\u001b[90m  tagName: 'div',\u001b[39m\n",
      "\u001b[90m  attribName: 'style',\u001b[39m\n",
      "\u001b[90m  oldValue: 'height:70vh',\u001b[39m\n",
      "\u001b[90m  newValue: 'height: 70vh'\u001b[39m\n",
      "\u001b[90m}\u001b[39m\n",
      "\u001b[90mHTML Sanitizer\u001b[39m \u001b[90mdiv.style changed\u001b[39m \u001b[90m{\u001b[39m\n",
      "\u001b[90m  change: 'changed',\u001b[39m\n",
      "\u001b[90m  tagName: 'div',\u001b[39m\n",
      "\u001b[90m  attribName: 'style',\u001b[39m\n",
      "\u001b[90m  oldValue: 'height:70vh',\u001b[39m\n",
      "\u001b[90m  newValue: 'height: 70vh'\u001b[39m\n",
      "\u001b[90m}\u001b[39m\n",
      "\u001b[90mHTML Sanitizer\u001b[39m \u001b[90mimg.style changed\u001b[39m \u001b[90m{\u001b[39m\n",
      "\u001b[90m  change: 'changed',\u001b[39m\n",
      "\u001b[90m  tagName: 'img',\u001b[39m\n",
      "\u001b[90m  attribName: 'style',\u001b[39m\n",
      "\u001b[90m  oldValue: 'height:60vh',\u001b[39m\n",
      "\u001b[90m  newValue: 'height: 60vh'\u001b[39m\n",
      "\u001b[90m}\u001b[39m\n",
      "\u001b[90mHTML Sanitizer\u001b[39m \u001b[90mdiv.style changed\u001b[39m \u001b[90m{\u001b[39m\n",
      "\u001b[90m  change: 'changed',\u001b[39m\n",
      "\u001b[90m  tagName: 'div',\u001b[39m\n",
      "\u001b[90m  attribName: 'style',\u001b[39m\n",
      "\u001b[90m  oldValue: 'height:70vh',\u001b[39m\n",
      "\u001b[90m  newValue: 'height: 70vh'\u001b[39m\n",
      "\u001b[90m}\u001b[39m\n",
      "\u001b[90mHTML Sanitizer\u001b[39m \u001b[90mimg.style changed\u001b[39m \u001b[90m{\u001b[39m\n",
      "\u001b[90m  change: 'changed',\u001b[39m\n",
      "\u001b[90m  tagName: 'img',\u001b[39m\n",
      "\u001b[90m  attribName: 'style',\u001b[39m\n",
      "\u001b[90m  oldValue: 'height:60vh',\u001b[39m\n",
      "\u001b[90m  newValue: 'height: 60vh'\u001b[39m\n",
      "\u001b[90m}\u001b[39m\n",
      "\u001b[90mHTML Sanitizer\u001b[39m \u001b[90mspan.style changed\u001b[39m \u001b[90m{\u001b[39m\n",
      "\u001b[90m  change: 'changed',\u001b[39m\n",
      "\u001b[90m  tagName: 'span',\u001b[39m\n",
      "\u001b[90m  attribName: 'style',\u001b[39m\n",
      "\u001b[90m  oldValue: 'color:dodgerblue',\u001b[39m\n",
      "\u001b[90m  newValue: 'color: dodgerblue'\u001b[39m\n",
      "\u001b[90m}\u001b[39m\n",
      "\u001b[90mHTML Sanitizer\u001b[39m \u001b[90mdiv.style changed\u001b[39m \u001b[90m{\u001b[39m\n",
      "\u001b[90m  change: 'changed',\u001b[39m\n",
      "\u001b[90m  tagName: 'div',\u001b[39m\n",
      "\u001b[90m  attribName: 'style',\u001b[39m\n",
      "\u001b[90m  oldValue: 'height:70vh',\u001b[39m\n",
      "\u001b[90m  newValue: 'height: 70vh'\u001b[39m\n",
      "\u001b[90m}\u001b[39m\n",
      "\u001b[90mHTML Sanitizer\u001b[39m \u001b[90mspan.style changed\u001b[39m \u001b[90m{\u001b[39m\n",
      "\u001b[90m  change: 'changed',\u001b[39m\n",
      "\u001b[90m  tagName: 'span',\u001b[39m\n",
      "\u001b[90m  attribName: 'style',\u001b[39m\n",
      "\u001b[90m  oldValue: 'color:DarkGray',\u001b[39m\n",
      "\u001b[90m  newValue: 'color: darkgray'\u001b[39m\n",
      "\u001b[90m}\u001b[39m\n",
      "\u001b[90mHTML Sanitizer\u001b[39m \u001b[90mspan.style changed\u001b[39m \u001b[90m{\u001b[39m\n",
      "\u001b[90m  change: 'changed',\u001b[39m\n",
      "\u001b[90m  tagName: 'span',\u001b[39m\n",
      "\u001b[90m  attribName: 'style',\u001b[39m\n",
      "\u001b[90m  oldValue: 'color:rgb(0,0,0,0)',\u001b[39m\n",
      "\u001b[90m  newValue: 'color: rgb(0 , 0 , 0 , 0)'\u001b[39m\n",
      "\u001b[90m}\u001b[39m\n",
      "\u001b[90mHTML Sanitizer\u001b[39m \u001b[90mspan.style changed\u001b[39m \u001b[90m{\u001b[39m\n",
      "\u001b[90m  change: 'changed',\u001b[39m\n",
      "\u001b[90m  tagName: 'span',\u001b[39m\n",
      "\u001b[90m  attribName: 'style',\u001b[39m\n",
      "\u001b[90m  oldValue: 'float:right',\u001b[39m\n",
      "\u001b[90m  newValue: 'float: right'\u001b[39m\n",
      "\u001b[90m}\u001b[39m\n",
      "\u001b[90mHTML Sanitizer\u001b[39m \u001b[90mdiv.style changed\u001b[39m \u001b[90m{\u001b[39m\n",
      "\u001b[90m  change: 'changed',\u001b[39m\n",
      "\u001b[90m  tagName: 'div',\u001b[39m\n",
      "\u001b[90m  attribName: 'style',\u001b[39m\n",
      "\u001b[90m  oldValue: 'height:70vh',\u001b[39m\n",
      "\u001b[90m  newValue: 'height: 70vh'\u001b[39m\n",
      "\u001b[90m}\u001b[39m\n",
      "\u001b[90mHTML Sanitizer\u001b[39m \u001b[90mspan.style changed\u001b[39m \u001b[90m{\u001b[39m\n",
      "\u001b[90m  change: 'changed',\u001b[39m\n",
      "\u001b[90m  tagName: 'span',\u001b[39m\n",
      "\u001b[90m  attribName: 'style',\u001b[39m\n",
      "\u001b[90m  oldValue: 'color:DarkGray',\u001b[39m\n",
      "\u001b[90m  newValue: 'color: darkgray'\u001b[39m\n",
      "\u001b[90m}\u001b[39m\n",
      "\u001b[90mHTML Sanitizer\u001b[39m \u001b[90mspan.style changed\u001b[39m \u001b[90m{\u001b[39m\n",
      "\u001b[90m  change: 'changed',\u001b[39m\n",
      "\u001b[90m  tagName: 'span',\u001b[39m\n",
      "\u001b[90m  attribName: 'style',\u001b[39m\n",
      "\u001b[90m  oldValue: 'float:right',\u001b[39m\n",
      "\u001b[90m  newValue: 'float: right'\u001b[39m\n",
      "\u001b[90m}\u001b[39m\n",
      "\u001b[90mHTML Sanitizer\u001b[39m \u001b[90mdiv.style changed\u001b[39m \u001b[90m{\u001b[39m\n",
      "\u001b[90m  change: 'changed',\u001b[39m\n",
      "\u001b[90m  tagName: 'div',\u001b[39m\n",
      "\u001b[90m  attribName: 'style',\u001b[39m\n",
      "\u001b[90m  oldValue: 'height:70vh',\u001b[39m\n",
      "\u001b[90m  newValue: 'height: 70vh'\u001b[39m\n",
      "\u001b[90m}\u001b[39m\n",
      "\u001b[90mHTML Sanitizer\u001b[39m \u001b[90mspan.style changed\u001b[39m \u001b[90m{\u001b[39m\n",
      "\u001b[90m  change: 'changed',\u001b[39m\n",
      "\u001b[90m  tagName: 'span',\u001b[39m\n",
      "\u001b[90m  attribName: 'style',\u001b[39m\n",
      "\u001b[90m  oldValue: 'color:DarkGray',\u001b[39m\n",
      "\u001b[90m  newValue: 'color: darkgray'\u001b[39m\n",
      "\u001b[90m}\u001b[39m\n",
      "\u001b[90mHTML Sanitizer\u001b[39m \u001b[90mspan.style changed\u001b[39m \u001b[90m{\u001b[39m\n",
      "\u001b[90m  change: 'changed',\u001b[39m\n",
      "\u001b[90m  tagName: 'span',\u001b[39m\n",
      "\u001b[90m  attribName: 'style',\u001b[39m\n",
      "\u001b[90m  oldValue: 'float:right',\u001b[39m\n",
      "\u001b[90m  newValue: 'float: right'\u001b[39m\n",
      "\u001b[90m}\u001b[39m\n",
      "\u001b[90mHTML Sanitizer\u001b[39m \u001b[90mspan.style changed\u001b[39m \u001b[90m{\u001b[39m\n",
      "\u001b[90m  change: 'changed',\u001b[39m\n",
      "\u001b[90m  tagName: 'span',\u001b[39m\n",
      "\u001b[90m  attribName: 'style',\u001b[39m\n",
      "\u001b[90m  oldValue: 'color:dodgerblue',\u001b[39m\n",
      "\u001b[90m  newValue: 'color: dodgerblue'\u001b[39m\n",
      "\u001b[90m}\u001b[39m\n",
      "\u001b[90mHTML Sanitizer\u001b[39m \u001b[90mdiv.style changed\u001b[39m \u001b[90m{\u001b[39m\n",
      "\u001b[90m  change: 'changed',\u001b[39m\n",
      "\u001b[90m  tagName: 'div',\u001b[39m\n",
      "\u001b[90m  attribName: 'style',\u001b[39m\n",
      "\u001b[90m  oldValue: 'height:20vh',\u001b[39m\n",
      "\u001b[90m  newValue: 'height: 20vh'\u001b[39m\n",
      "\u001b[90m}\u001b[39m\n",
      "\u001b[90mHTML Sanitizer\u001b[39m \u001b[90mspan.style changed\u001b[39m \u001b[90m{\u001b[39m\n",
      "\u001b[90m  change: 'changed',\u001b[39m\n",
      "\u001b[90m  tagName: 'span',\u001b[39m\n",
      "\u001b[90m  attribName: 'style',\u001b[39m\n",
      "\u001b[90m  oldValue: 'color:DarkGray',\u001b[39m\n",
      "\u001b[90m  newValue: 'color: darkgray'\u001b[39m\n",
      "\u001b[90m}\u001b[39m\n",
      "\u001b[90mHTML Sanitizer\u001b[39m \u001b[90mspan.style changed\u001b[39m \u001b[90m{\u001b[39m\n",
      "\u001b[90m  change: 'changed',\u001b[39m\n",
      "\u001b[90m  tagName: 'span',\u001b[39m\n",
      "\u001b[90m  attribName: 'style',\u001b[39m\n",
      "\u001b[90m  oldValue: 'float:right',\u001b[39m\n",
      "\u001b[90m  newValue: 'float: right'\u001b[39m\n",
      "\u001b[90m}\u001b[39m\n",
      "\u001b[90mHTML Sanitizer\u001b[39m \u001b[90mdiv.style changed\u001b[39m \u001b[90m{\u001b[39m\n",
      "\u001b[90m  change: 'changed',\u001b[39m\n",
      "\u001b[90m  tagName: 'div',\u001b[39m\n",
      "\u001b[90m  attribName: 'style',\u001b[39m\n",
      "\u001b[90m  oldValue: 'height:37vh',\u001b[39m\n",
      "\u001b[90m  newValue: 'height: 37vh'\u001b[39m\n",
      "\u001b[90m}\u001b[39m\n",
      "\u001b[90mHTML Sanitizer\u001b[39m \u001b[90mdiv.style changed\u001b[39m \u001b[90m{\u001b[39m\n",
      "\u001b[90m  change: 'changed',\u001b[39m\n",
      "\u001b[90m  tagName: 'div',\u001b[39m\n",
      "\u001b[90m  attribName: 'style',\u001b[39m\n",
      "\u001b[90m  oldValue: 'height:37vh',\u001b[39m\n",
      "\u001b[90m  newValue: 'height: 37vh'\u001b[39m\n",
      "\u001b[90m}\u001b[39m\n",
      "\u001b[90mHTML Sanitizer\u001b[39m \u001b[90mspan.style changed\u001b[39m \u001b[90m{\u001b[39m\n",
      "\u001b[90m  change: 'changed',\u001b[39m\n",
      "\u001b[90m  tagName: 'span',\u001b[39m\n",
      "\u001b[90m  attribName: 'style',\u001b[39m\n",
      "\u001b[90m  oldValue: 'color:dodgerblue',\u001b[39m\n",
      "\u001b[90m  newValue: 'color: dodgerblue'\u001b[39m\n",
      "\u001b[90m}\u001b[39m\n",
      "\u001b[90mHTML Sanitizer\u001b[39m \u001b[90mdiv.style changed\u001b[39m \u001b[90m{\u001b[39m\n",
      "\u001b[90m  change: 'changed',\u001b[39m\n",
      "\u001b[90m  tagName: 'div',\u001b[39m\n",
      "\u001b[90m  attribName: 'style',\u001b[39m\n",
      "\u001b[90m  oldValue: 'height:70vh',\u001b[39m\n",
      "\u001b[90m  newValue: 'height: 70vh'\u001b[39m\n",
      "\u001b[90m}\u001b[39m\n",
      "\u001b[90mHTML Sanitizer\u001b[39m \u001b[90mspan.style changed\u001b[39m \u001b[90m{\u001b[39m\n",
      "\u001b[90m  change: 'changed',\u001b[39m\n",
      "\u001b[90m  tagName: 'span',\u001b[39m\n",
      "\u001b[90m  attribName: 'style',\u001b[39m\n",
      "\u001b[90m  oldValue: 'color:FireBrick',\u001b[39m\n",
      "\u001b[90m  newValue: 'color: firebrick'\u001b[39m\n",
      "\u001b[90m}\u001b[39m\n",
      "\u001b[90mHTML Sanitizer\u001b[39m \u001b[90mspan.style changed\u001b[39m \u001b[90m{\u001b[39m\n",
      "\u001b[90m  change: 'changed',\u001b[39m\n",
      "\u001b[90m  tagName: 'span',\u001b[39m\n",
      "\u001b[90m  attribName: 'style',\u001b[39m\n",
      "\u001b[90m  oldValue: 'color:dodgerblue',\u001b[39m\n",
      "\u001b[90m  newValue: 'color: dodgerblue'\u001b[39m\n",
      "\u001b[90m}\u001b[39m\n",
      "\u001b[90mHTML Sanitizer\u001b[39m \u001b[90mdiv.style changed\u001b[39m \u001b[90m{\u001b[39m\n",
      "\u001b[90m  change: 'changed',\u001b[39m\n",
      "\u001b[90m  tagName: 'div',\u001b[39m\n",
      "\u001b[90m  attribName: 'style',\u001b[39m\n",
      "\u001b[90m  oldValue: 'height:70vh',\u001b[39m\n",
      "\u001b[90m  newValue: 'height: 70vh'\u001b[39m\n",
      "\u001b[90m}\u001b[39m\n",
      "\u001b[90mHTML Sanitizer\u001b[39m \u001b[90mdiv.style changed\u001b[39m \u001b[90m{\u001b[39m\n",
      "\u001b[90m  change: 'changed',\u001b[39m\n",
      "\u001b[90m  tagName: 'div',\u001b[39m\n",
      "\u001b[90m  attribName: 'style',\u001b[39m\n",
      "\u001b[90m  oldValue: 'height:70vh;',\u001b[39m\n",
      "\u001b[90m  newValue: 'height: 70vh'\u001b[39m\n",
      "\u001b[90m}\u001b[39m\n",
      "\u001b[90mHTML Sanitizer\u001b[39m \u001b[90mimg.style changed\u001b[39m \u001b[90m{\u001b[39m\n",
      "\u001b[90m  change: 'changed',\u001b[39m\n",
      "\u001b[90m  tagName: 'img',\u001b[39m\n",
      "\u001b[90m  attribName: 'style',\u001b[39m\n",
      "\u001b[90m  oldValue: 'height:70vh;display:block; margin:auto',\u001b[39m\n",
      "\u001b[90m  newValue: 'height: 70vh ; display: block ; margin: auto'\u001b[39m\n",
      "\u001b[90m}\u001b[39m\n",
      "\u001b[90mHTML Sanitizer\u001b[39m \u001b[90mdiv.style changed\u001b[39m \u001b[90m{\u001b[39m\n",
      "\u001b[90m  change: 'changed',\u001b[39m\n",
      "\u001b[90m  tagName: 'div',\u001b[39m\n",
      "\u001b[90m  attribName: 'style',\u001b[39m\n",
      "\u001b[90m  oldValue: 'height:70vh;',\u001b[39m\n",
      "\u001b[90m  newValue: 'height: 70vh'\u001b[39m\n",
      "\u001b[90m}\u001b[39m\n",
      "\u001b[90mHTML Sanitizer\u001b[39m \u001b[90mimg.style changed\u001b[39m \u001b[90m{\u001b[39m\n",
      "\u001b[90m  change: 'changed',\u001b[39m\n",
      "\u001b[90m  tagName: 'img',\u001b[39m\n",
      "\u001b[90m  attribName: 'style',\u001b[39m\n",
      "\u001b[90m  oldValue: 'height:70vh;display:block; margin:auto',\u001b[39m\n",
      "\u001b[90m  newValue: 'height: 70vh ; display: block ; margin: auto'\u001b[39m\n",
      "\u001b[90m}\u001b[39m\n",
      "\u001b[90mHTML Sanitizer\u001b[39m \u001b[90mdiv.style changed\u001b[39m \u001b[90m{\u001b[39m\n",
      "\u001b[90m  change: 'changed',\u001b[39m\n",
      "\u001b[90m  tagName: 'div',\u001b[39m\n",
      "\u001b[90m  attribName: 'style',\u001b[39m\n",
      "\u001b[90m  oldValue: 'height:70vh;color:dodgerblue',\u001b[39m\n",
      "\u001b[90m  newValue: 'height: 70vh ; color: dodgerblue'\u001b[39m\n",
      "\u001b[90m}\u001b[39m\n",
      "\u001b[90mHTML Sanitizer\u001b[39m \u001b[90mdiv.style changed\u001b[39m \u001b[90m{\u001b[39m\n",
      "\u001b[90m  change: 'changed',\u001b[39m\n",
      "\u001b[90m  tagName: 'div',\u001b[39m\n",
      "\u001b[90m  attribName: 'style',\u001b[39m\n",
      "\u001b[90m  oldValue: 'height:70vh;color:dodgerblue',\u001b[39m\n",
      "\u001b[90m  newValue: 'height: 70vh ; color: dodgerblue'\u001b[39m\n",
      "\u001b[90m}\u001b[39m\n",
      "\u001b[90mHTML Sanitizer\u001b[39m \u001b[90mimg.style changed\u001b[39m \u001b[90m{\u001b[39m\n",
      "\u001b[90m  change: 'changed',\u001b[39m\n",
      "\u001b[90m  tagName: 'img',\u001b[39m\n",
      "\u001b[90m  attribName: 'style',\u001b[39m\n",
      "\u001b[90m  oldValue: 'height:45vh',\u001b[39m\n",
      "\u001b[90m  newValue: 'height: 45vh'\u001b[39m\n",
      "\u001b[90m}\u001b[39m\n",
      "\u001b[90mHTML Sanitizer\u001b[39m \u001b[90mdiv.style changed\u001b[39m \u001b[90m{\u001b[39m\n",
      "\u001b[90m  change: 'changed',\u001b[39m\n",
      "\u001b[90m  tagName: 'div',\u001b[39m\n",
      "\u001b[90m  attribName: 'style',\u001b[39m\n",
      "\u001b[90m  oldValue: 'height:48.5vh',\u001b[39m\n",
      "\u001b[90m  newValue: 'height: 48.5vh'\u001b[39m\n",
      "\u001b[90m}\u001b[39m\n",
      "\u001b[90mHTML Sanitizer\u001b[39m \u001b[90mspan.style changed\u001b[39m \u001b[90m{\u001b[39m\n",
      "\u001b[90m  change: 'changed',\u001b[39m\n",
      "\u001b[90m  tagName: 'span',\u001b[39m\n",
      "\u001b[90m  attribName: 'style',\u001b[39m\n",
      "\u001b[90m  oldValue: 'color:DarkGray',\u001b[39m\n",
      "\u001b[90m  newValue: 'color: darkgray'\u001b[39m\n",
      "\u001b[90m}\u001b[39m\n",
      "\u001b[90mHTML Sanitizer\u001b[39m \u001b[90mspan.style changed\u001b[39m \u001b[90m{\u001b[39m\n",
      "\u001b[90m  change: 'changed',\u001b[39m\n",
      "\u001b[90m  tagName: 'span',\u001b[39m\n",
      "\u001b[90m  attribName: 'style',\u001b[39m\n",
      "\u001b[90m  oldValue: 'float:right',\u001b[39m\n",
      "\u001b[90m  newValue: 'float: right'\u001b[39m\n",
      "\u001b[90m}\u001b[39m\n",
      "\u001b[90mHTML Sanitizer\u001b[39m \u001b[90mspan.style changed\u001b[39m \u001b[90m{\u001b[39m\n",
      "\u001b[90m  change: 'changed',\u001b[39m\n",
      "\u001b[90m  tagName: 'span',\u001b[39m\n",
      "\u001b[90m  attribName: 'style',\u001b[39m\n",
      "\u001b[90m  oldValue: 'color:dodgerblue',\u001b[39m\n",
      "\u001b[90m  newValue: 'color: dodgerblue'\u001b[39m\n",
      "\u001b[90m}\u001b[39m\n",
      "\u001b[90mHTML Sanitizer\u001b[39m \u001b[90mspan.style changed\u001b[39m \u001b[90m{\u001b[39m\n",
      "\u001b[90m  change: 'changed',\u001b[39m\n",
      "\u001b[90m  tagName: 'span',\u001b[39m\n",
      "\u001b[90m  attribName: 'style',\u001b[39m\n",
      "\u001b[90m  oldValue: 'color:dodgerblue',\u001b[39m\n",
      "\u001b[90m  newValue: 'color: dodgerblue'\u001b[39m\n",
      "\u001b[90m}\u001b[39m\n",
      "\u001b[90mHTML Sanitizer\u001b[39m \u001b[90mdiv.style changed\u001b[39m \u001b[90m{\u001b[39m\n",
      "\u001b[90m  change: 'changed',\u001b[39m\n",
      "\u001b[90m  tagName: 'div',\u001b[39m\n",
      "\u001b[90m  attribName: 'style',\u001b[39m\n",
      "\u001b[90m  oldValue: 'height:70vh;',\u001b[39m\n",
      "\u001b[90m  newValue: 'height: 70vh'\u001b[39m\n",
      "\u001b[90m}\u001b[39m\n",
      "\u001b[90mHTML Sanitizer\u001b[39m \u001b[90mimg.style changed\u001b[39m \u001b[90m{\u001b[39m\n",
      "\u001b[90m  change: 'changed',\u001b[39m\n",
      "\u001b[90m  tagName: 'img',\u001b[39m\n",
      "\u001b[90m  attribName: 'style',\u001b[39m\n",
      "\u001b[90m  oldValue: 'height:70vh;display:block; margin:auto',\u001b[39m\n",
      "\u001b[90m  newValue: 'height: 70vh ; display: block ; margin: auto'\u001b[39m\n",
      "\u001b[90m}\u001b[39m\n",
      "\u001b[90mHTML Sanitizer\u001b[39m \u001b[90mdiv.style changed\u001b[39m \u001b[90m{\u001b[39m\n",
      "\u001b[90m  change: 'changed',\u001b[39m\n",
      "\u001b[90m  tagName: 'div',\u001b[39m\n",
      "\u001b[90m  attribName: 'style',\u001b[39m\n",
      "\u001b[90m  oldValue: 'height:70vh;',\u001b[39m\n",
      "\u001b[90m  newValue: 'height: 70vh'\u001b[39m\n",
      "\u001b[90m}\u001b[39m\n",
      "\u001b[90mHTML Sanitizer\u001b[39m \u001b[90mimg.style changed\u001b[39m \u001b[90m{\u001b[39m\n",
      "\u001b[90m  change: 'changed',\u001b[39m\n",
      "\u001b[90m  tagName: 'img',\u001b[39m\n",
      "\u001b[90m  attribName: 'style',\u001b[39m\n",
      "\u001b[90m  oldValue: 'height:70vh;display:block; margin:auto',\u001b[39m\n",
      "\u001b[90m  newValue: 'height: 70vh ; display: block ; margin: auto'\u001b[39m\n",
      "\u001b[90m}\u001b[39m\n",
      "\u001b[90mHTML Sanitizer\u001b[39m \u001b[90mspan.style changed\u001b[39m \u001b[90m{\u001b[39m\n",
      "\u001b[90m  change: 'changed',\u001b[39m\n",
      "\u001b[90m  tagName: 'span',\u001b[39m\n",
      "\u001b[90m  attribName: 'style',\u001b[39m\n",
      "\u001b[90m  oldValue: 'color:dodgerblue',\u001b[39m\n",
      "\u001b[90m  newValue: 'color: dodgerblue'\u001b[39m\n",
      "\u001b[90m}\u001b[39m\n",
      "\u001b[90mHTML Sanitizer\u001b[39m \u001b[90mspan.style changed\u001b[39m \u001b[90m{\u001b[39m\n",
      "\u001b[90m  change: 'changed',\u001b[39m\n",
      "\u001b[90m  tagName: 'span',\u001b[39m\n",
      "\u001b[90m  attribName: 'style',\u001b[39m\n",
      "\u001b[90m  oldValue: 'color:dodgerblue',\u001b[39m\n",
      "\u001b[90m  newValue: 'color: dodgerblue'\u001b[39m\n",
      "\u001b[90m}\u001b[39m\n",
      "\u001b[90mHTML Sanitizer\u001b[39m \u001b[90mdiv.style changed\u001b[39m \u001b[90m{\u001b[39m\n",
      "\u001b[90m  change: 'changed',\u001b[39m\n",
      "\u001b[90m  tagName: 'div',\u001b[39m\n",
      "\u001b[90m  attribName: 'style',\u001b[39m\n",
      "\u001b[90m  oldValue: 'height:70vh;',\u001b[39m\n",
      "\u001b[90m  newValue: 'height: 70vh'\u001b[39m\n",
      "\u001b[90m}\u001b[39m\n",
      "\u001b[90mHTML Sanitizer\u001b[39m \u001b[90mimg.style changed\u001b[39m \u001b[90m{\u001b[39m\n",
      "\u001b[90m  change: 'changed',\u001b[39m\n",
      "\u001b[90m  tagName: 'img',\u001b[39m\n",
      "\u001b[90m  attribName: 'style',\u001b[39m\n",
      "\u001b[90m  oldValue: 'height:70vh',\u001b[39m\n",
      "\u001b[90m  newValue: 'height: 70vh'\u001b[39m\n",
      "\u001b[90m}\u001b[39m\n",
      "\u001b[90mHTML Sanitizer\u001b[39m \u001b[90mspan.style changed\u001b[39m \u001b[90m{\u001b[39m\n",
      "\u001b[90m  change: 'changed',\u001b[39m\n",
      "\u001b[90m  tagName: 'span',\u001b[39m\n",
      "\u001b[90m  attribName: 'style',\u001b[39m\n",
      "\u001b[90m  oldValue: 'color:dodgerblue',\u001b[39m\n",
      "\u001b[90m  newValue: 'color: dodgerblue'\u001b[39m\n",
      "\u001b[90m}\u001b[39m\n",
      "\u001b[90mHTML Sanitizer\u001b[39m \u001b[90mspan.style changed\u001b[39m \u001b[90m{\u001b[39m\n",
      "\u001b[90m  change: 'changed',\u001b[39m\n",
      "\u001b[90m  tagName: 'span',\u001b[39m\n",
      "\u001b[90m  attribName: 'style',\u001b[39m\n",
      "\u001b[90m  oldValue: 'color:firebrick',\u001b[39m\n",
      "\u001b[90m  newValue: 'color: firebrick'\u001b[39m\n",
      "\u001b[90m}\u001b[39m\n",
      "\u001b[90mHTML Sanitizer\u001b[39m \u001b[90mspan.style changed\u001b[39m \u001b[90m{\u001b[39m\n",
      "\u001b[90m  change: 'changed',\u001b[39m\n",
      "\u001b[90m  tagName: 'span',\u001b[39m\n",
      "\u001b[90m  attribName: 'style',\u001b[39m\n",
      "\u001b[90m  oldValue: 'color:dodgerblue',\u001b[39m\n",
      "\u001b[90m  newValue: 'color: dodgerblue'\u001b[39m\n",
      "\u001b[90m}\u001b[39m\n",
      "\u001b[90mHTML Sanitizer\u001b[39m \u001b[90mspan.style changed\u001b[39m \u001b[90m{\u001b[39m\n",
      "\u001b[90m  change: 'changed',\u001b[39m\n",
      "\u001b[90m  tagName: 'span',\u001b[39m\n",
      "\u001b[90m  attribName: 'style',\u001b[39m\n",
      "\u001b[90m  oldValue: 'color:dodgerblue',\u001b[39m\n",
      "\u001b[90m  newValue: 'color: dodgerblue'\u001b[39m\n",
      "\u001b[90m}\u001b[39m\n",
      "\u001b[90mHTML Sanitizer\u001b[39m \u001b[90mspan.style changed\u001b[39m \u001b[90m{\u001b[39m\n",
      "\u001b[90m  change: 'changed',\u001b[39m\n",
      "\u001b[90m  tagName: 'span',\u001b[39m\n",
      "\u001b[90m  attribName: 'style',\u001b[39m\n",
      "\u001b[90m  oldValue: 'color:firebrick',\u001b[39m\n",
      "\u001b[90m  newValue: 'color: firebrick'\u001b[39m\n",
      "\u001b[90m}\u001b[39m\n",
      "\u001b[90mHTML Sanitizer\u001b[39m \u001b[90mspan.style changed\u001b[39m \u001b[90m{\u001b[39m\n",
      "\u001b[90m  change: 'changed',\u001b[39m\n",
      "\u001b[90m  tagName: 'span',\u001b[39m\n",
      "\u001b[90m  attribName: 'style',\u001b[39m\n",
      "\u001b[90m  oldValue: 'color:seagreen',\u001b[39m\n",
      "\u001b[90m  newValue: 'color: seagreen'\u001b[39m\n",
      "\u001b[90m}\u001b[39m\n",
      "\u001b[90mHTML Sanitizer\u001b[39m \u001b[90mspan.style changed\u001b[39m \u001b[90m{\u001b[39m\n",
      "\u001b[90m  change: 'changed',\u001b[39m\n",
      "\u001b[90m  tagName: 'span',\u001b[39m\n",
      "\u001b[90m  attribName: 'style',\u001b[39m\n",
      "\u001b[90m  oldValue: 'color:dodgerblue',\u001b[39m\n",
      "\u001b[90m  newValue: 'color: dodgerblue'\u001b[39m\n",
      "\u001b[90m}\u001b[39m\n",
      "\u001b[90mHTML Sanitizer\u001b[39m \u001b[90mdiv.style changed\u001b[39m \u001b[90m{\u001b[39m\n",
      "\u001b[90m  change: 'changed',\u001b[39m\n",
      "\u001b[90m  tagName: 'div',\u001b[39m\n",
      "\u001b[90m  attribName: 'style',\u001b[39m\n",
      "\u001b[90m  oldValue: 'height:20vh',\u001b[39m\n",
      "\u001b[90m  newValue: 'height: 20vh'\u001b[39m\n",
      "\u001b[90m}\u001b[39m\n",
      "\u001b[90mHTML Sanitizer\u001b[39m \u001b[90mspan.style changed\u001b[39m \u001b[90m{\u001b[39m\n",
      "\u001b[90m  change: 'changed',\u001b[39m\n",
      "\u001b[90m  tagName: 'span',\u001b[39m\n",
      "\u001b[90m  attribName: 'style',\u001b[39m\n",
      "\u001b[90m  oldValue: 'color:DarkGray',\u001b[39m\n",
      "\u001b[90m  newValue: 'color: darkgray'\u001b[39m\n",
      "\u001b[90m}\u001b[39m\n",
      "\u001b[90mHTML Sanitizer\u001b[39m \u001b[90mspan.style changed\u001b[39m \u001b[90m{\u001b[39m\n",
      "\u001b[90m  change: 'changed',\u001b[39m\n",
      "\u001b[90m  tagName: 'span',\u001b[39m\n",
      "\u001b[90m  attribName: 'style',\u001b[39m\n",
      "\u001b[90m  oldValue: 'float:right',\u001b[39m\n",
      "\u001b[90m  newValue: 'float: right'\u001b[39m\n",
      "\u001b[90m}\u001b[39m\n",
      "\u001b[90mHTML Sanitizer\u001b[39m \u001b[90mdiv.style changed\u001b[39m \u001b[90m{\u001b[39m\n",
      "\u001b[90m  change: 'changed',\u001b[39m\n",
      "\u001b[90m  tagName: 'div',\u001b[39m\n",
      "\u001b[90m  attribName: 'style',\u001b[39m\n",
      "\u001b[90m  oldValue: 'height:20vh',\u001b[39m\n",
      "\u001b[90m  newValue: 'height: 20vh'\u001b[39m\n",
      "\u001b[90m}\u001b[39m\n",
      "\u001b[90mHTML Sanitizer\u001b[39m \u001b[90mspan.style changed\u001b[39m \u001b[90m{\u001b[39m\n",
      "\u001b[90m  change: 'changed',\u001b[39m\n",
      "\u001b[90m  tagName: 'span',\u001b[39m\n",
      "\u001b[90m  attribName: 'style',\u001b[39m\n",
      "\u001b[90m  oldValue: 'color:DarkGray',\u001b[39m\n",
      "\u001b[90m  newValue: 'color: darkgray'\u001b[39m\n",
      "\u001b[90m}\u001b[39m\n",
      "\u001b[90mHTML Sanitizer\u001b[39m \u001b[90mspan.style changed\u001b[39m \u001b[90m{\u001b[39m\n",
      "\u001b[90m  change: 'changed',\u001b[39m\n",
      "\u001b[90m  tagName: 'span',\u001b[39m\n",
      "\u001b[90m  attribName: 'style',\u001b[39m\n",
      "\u001b[90m  oldValue: 'color:dodgerblue',\u001b[39m\n",
      "\u001b[90m  newValue: 'color: dodgerblue'\u001b[39m\n",
      "\u001b[90m}\u001b[39m\n",
      "\u001b[90mHTML Sanitizer\u001b[39m \u001b[90mspan.style changed\u001b[39m \u001b[90m{\u001b[39m\n",
      "\u001b[90m  change: 'changed',\u001b[39m\n",
      "\u001b[90m  tagName: 'span',\u001b[39m\n",
      "\u001b[90m  attribName: 'style',\u001b[39m\n",
      "\u001b[90m  oldValue: 'float:right',\u001b[39m\n",
      "\u001b[90m  newValue: 'float: right'\u001b[39m\n",
      "\u001b[90m}\u001b[39m\n",
      "\u001b[90mHTML Sanitizer\u001b[39m \u001b[90mdiv.style changed\u001b[39m \u001b[90m{\u001b[39m\n",
      "\u001b[90m  change: 'changed',\u001b[39m\n",
      "\u001b[90m  tagName: 'div',\u001b[39m\n",
      "\u001b[90m  attribName: 'style',\u001b[39m\n",
      "\u001b[90m  oldValue: 'height:20vh',\u001b[39m\n",
      "\u001b[90m  newValue: 'height: 20vh'\u001b[39m\n",
      "\u001b[90m}\u001b[39m\n",
      "\u001b[90mHTML Sanitizer\u001b[39m \u001b[90mspan.style changed\u001b[39m \u001b[90m{\u001b[39m\n",
      "\u001b[90m  change: 'changed',\u001b[39m\n",
      "\u001b[90m  tagName: 'span',\u001b[39m\n",
      "\u001b[90m  attribName: 'style',\u001b[39m\n",
      "\u001b[90m  oldValue: 'color:DarkGray',\u001b[39m\n",
      "\u001b[90m  newValue: 'color: darkgray'\u001b[39m\n",
      "\u001b[90m}\u001b[39m\n",
      "\u001b[90mHTML Sanitizer\u001b[39m \u001b[90mspan.style changed\u001b[39m \u001b[90m{\u001b[39m\n",
      "\u001b[90m  change: 'changed',\u001b[39m\n",
      "\u001b[90m  tagName: 'span',\u001b[39m\n",
      "\u001b[90m  attribName: 'style',\u001b[39m\n",
      "\u001b[90m  oldValue: 'color:dodgerblue',\u001b[39m\n",
      "\u001b[90m  newValue: 'color: dodgerblue'\u001b[39m\n",
      "\u001b[90m}\u001b[39m\n",
      "\u001b[90mHTML Sanitizer\u001b[39m \u001b[90mspan.style changed\u001b[39m \u001b[90m{\u001b[39m\n",
      "\u001b[90m  change: 'changed',\u001b[39m\n",
      "\u001b[90m  tagName: 'span',\u001b[39m\n",
      "\u001b[90m  attribName: 'style',\u001b[39m\n",
      "\u001b[90m  oldValue: 'float:right',\u001b[39m\n",
      "\u001b[90m  newValue: 'float: right'\u001b[39m\n",
      "\u001b[90m}\u001b[39m\n",
      "\u001b[90mHTML Sanitizer\u001b[39m \u001b[90mdiv.style changed\u001b[39m \u001b[90m{\u001b[39m\n",
      "\u001b[90m  change: 'changed',\u001b[39m\n",
      "\u001b[90m  tagName: 'div',\u001b[39m\n",
      "\u001b[90m  attribName: 'style',\u001b[39m\n",
      "\u001b[90m  oldValue: 'height:20vh',\u001b[39m\n",
      "\u001b[90m  newValue: 'height: 20vh'\u001b[39m\n",
      "\u001b[90m}\u001b[39m\n",
      "\u001b[90mHTML Sanitizer\u001b[39m \u001b[90mspan.style changed\u001b[39m \u001b[90m{\u001b[39m\n",
      "\u001b[90m  change: 'changed',\u001b[39m\n",
      "\u001b[90m  tagName: 'span',\u001b[39m\n",
      "\u001b[90m  attribName: 'style',\u001b[39m\n",
      "\u001b[90m  oldValue: 'color:DarkGray',\u001b[39m\n",
      "\u001b[90m  newValue: 'color: darkgray'\u001b[39m\n",
      "\u001b[90m}\u001b[39m\n",
      "\u001b[90mHTML Sanitizer\u001b[39m \u001b[90mspan.style changed\u001b[39m \u001b[90m{\u001b[39m\n",
      "\u001b[90m  change: 'changed',\u001b[39m\n",
      "\u001b[90m  tagName: 'span',\u001b[39m\n",
      "\u001b[90m  attribName: 'style',\u001b[39m\n",
      "\u001b[90m  oldValue: 'float:right',\u001b[39m\n",
      "\u001b[90m  newValue: 'float: right'\u001b[39m\n",
      "\u001b[90m}\u001b[39m\n",
      "\u001b[90mHTML Sanitizer\u001b[39m \u001b[90mspan.style changed\u001b[39m \u001b[90m{\u001b[39m\n",
      "\u001b[90m  change: 'changed',\u001b[39m\n",
      "\u001b[90m  tagName: 'span',\u001b[39m\n",
      "\u001b[90m  attribName: 'style',\u001b[39m\n",
      "\u001b[90m  oldValue: 'color:seagreen',\u001b[39m\n",
      "\u001b[90m  newValue: 'color: seagreen'\u001b[39m\n",
      "\u001b[90m}\u001b[39m\n",
      "\u001b[90mHTML Sanitizer\u001b[39m \u001b[90mimg.style changed\u001b[39m \u001b[90m{\u001b[39m\n",
      "\u001b[90m  change: 'changed',\u001b[39m\n",
      "\u001b[90m  tagName: 'img',\u001b[39m\n",
      "\u001b[90m  attribName: 'style',\u001b[39m\n",
      "\u001b[90m  oldValue: 'height:80vh',\u001b[39m\n",
      "\u001b[90m  newValue: 'height: 80vh'\u001b[39m\n",
      "\u001b[90m}\u001b[39m\n",
      "\u001b[90mHTML Sanitizer\u001b[39m \u001b[90mspan.style changed\u001b[39m \u001b[90m{\u001b[39m\n",
      "\u001b[90m  change: 'changed',\u001b[39m\n",
      "\u001b[90m  tagName: 'span',\u001b[39m\n",
      "\u001b[90m  attribName: 'style',\u001b[39m\n",
      "\u001b[90m  oldValue: 'color:dodgerblue',\u001b[39m\n",
      "\u001b[90m  newValue: 'color: dodgerblue'\u001b[39m\n",
      "\u001b[90m}\u001b[39m\n",
      "\u001b[90mHTML Sanitizer\u001b[39m \u001b[90mspan.style changed\u001b[39m \u001b[90m{\u001b[39m\n",
      "\u001b[90m  change: 'changed',\u001b[39m\n",
      "\u001b[90m  tagName: 'span',\u001b[39m\n",
      "\u001b[90m  attribName: 'style',\u001b[39m\n",
      "\u001b[90m  oldValue: 'color:seagreen',\u001b[39m\n",
      "\u001b[90m  newValue: 'color: seagreen'\u001b[39m\n",
      "\u001b[90m}\u001b[39m\n",
      "\u001b[90mHTML Sanitizer\u001b[39m \u001b[90mspan.style changed\u001b[39m \u001b[90m{\u001b[39m\n",
      "\u001b[90m  change: 'changed',\u001b[39m\n",
      "\u001b[90m  tagName: 'span',\u001b[39m\n",
      "\u001b[90m  attribName: 'style',\u001b[39m\n",
      "\u001b[90m  oldValue: 'color:dodgerblue',\u001b[39m\n",
      "\u001b[90m  newValue: 'color: dodgerblue'\u001b[39m\n",
      "\u001b[90m}\u001b[39m\n"
     ]
    },
    {
     "name": "stdout",
     "output_type": "stream",
     "text": [
      "\u001b[31mFailed to load extension:\u001b[39m \u001b[31m[ 'nbextensions/hide_code/hide_code' ]\u001b[39m \u001b[31m{\u001b[39m\n",
      "\u001b[31m  requireType: 'scripterror',\u001b[39m\n",
      "\u001b[31m  requireModules: [ 'nbextensions/hide_code/hide_code' ],\u001b[39m\n",
      "\u001b[31m  originalError: { isTrusted: true }\u001b[39m\n",
      "\u001b[31m}\u001b[39m\n",
      "\u001b[90mSession: kernel_created (9ec95676-1e79-465b-aec5-72a14b8e83ff)\u001b[39m\n",
      "\u001b[90mStarting WebSockets:\u001b[39m \u001b[90mws://localhost:8888/api/kernels/8f6c3b30-a9a4-4176-98f8-65483843c652\u001b[39m\n",
      "\u001b[90mLoading extension: nbextensions_configurator/config_menu/main\u001b[39m\n",
      "\u001b[90mLoading extension: contrib_nbextensions_help_item/main\u001b[39m\n",
      "\u001b[90mLoading extension: hide_input/main\u001b[39m\n",
      "\u001b[90mLoading extension: splitcell/splitcell\u001b[39m\n",
      "\u001b[90mcenter\u001b[39m\n",
      "\u001b[90msplit\u001b[39m\n",
      "\u001b[90msplit\u001b[39m\n",
      "\u001b[90msplit\u001b[39m\n",
      "\u001b[90msplit\u001b[39m\n",
      "\u001b[90mcenter\u001b[39m\n",
      "\u001b[90msplit\u001b[39m\n",
      "\u001b[90msplit\u001b[39m\n",
      "\u001b[90mcenter\u001b[39m\n",
      "\u001b[90msplit\u001b[39m\n",
      "\u001b[90msplit\u001b[39m\n",
      "\u001b[90msplit\u001b[39m\n",
      "\u001b[90msplit\u001b[39m\n",
      "\u001b[90msplit\u001b[39m\n",
      "\u001b[90msplit\u001b[39m\n",
      "\u001b[90msplit\u001b[39m\n",
      "\u001b[90msplit\u001b[39m\n",
      "\u001b[90msplit\u001b[39m\n",
      "\u001b[90msplit\u001b[39m\n",
      "\u001b[90msplit\u001b[39m\n",
      "\u001b[90msplit\u001b[39m\n",
      "\u001b[90msplit\u001b[39m\n",
      "\u001b[90msplit\u001b[39m\n",
      "\u001b[90msplit\u001b[39m\n",
      "\u001b[90msplit\u001b[39m\n",
      "\u001b[90mcenter\u001b[39m\n",
      "\u001b[90msplit\u001b[39m\n",
      "\u001b[90msplit\u001b[39m\n",
      "\u001b[90mcenter\u001b[39m\n",
      "\u001b[90mcenter\u001b[39m\n",
      "\u001b[90mcenter\u001b[39m\n",
      "\u001b[90mLoading extension: jupyter-js-widgets/extension\u001b[39m\n",
      "\u001b[90mLoading extension: rise/main\u001b[39m\n",
      "\u001b[90mKernel: kernel_connected (8f6c3b30-a9a4-4176-98f8-65483843c652)\u001b[39m\n",
      "\u001b[31mFailed to load resource: the server responded with a status of 404 (Not Found)\u001b[39m\n",
      "\u001b[90mLoading extension: jupyter-black-master/jupyter-black\u001b[39m\n",
      "\u001b[38;2;255;165;0mWidgets are not available.  Please install widgetsnbextension or ipywidgets 4.0\u001b[39m\n",
      "\u001b[90mLoading extension: toc2/main\u001b[39m\n",
      "\u001b[90m[toc2] Notebook fully loaded -- toc2 initialized \u001b[39m\n",
      "\u001b[90mLoading extension: codefolding/main\u001b[39m\n",
      "\u001b[31mAccess to font at 'about:blank' from origin 'http://localhost:8888' has been blocked by CORS policy: Cross origin requests are only supported for protocol schemes: http, data, chrome, chrome-untrusted, https.\u001b[39m\n",
      "\n",
      "\u001b[38;2;255;165;0mUnable to load resource from URL: about:blank\u001b[39m\n",
      "\u001b[31mFailed to load resource: net::ERR_FAILED\u001b[39m\n",
      "Loading page finished with status: \u001b[33m200\u001b[39m\n",
      "\u001b[36m\u001b[1mRISE\u001b[22m\u001b[39m\u001b[36m plugin activated\u001b[39m\n",
      "\u001b[31mRefused to apply style from 'http://localhost:8888/notebooks/Lecture1_Seafloor.css' because its MIME type ('text/html') is not a supported stylesheet MIME type, and strict MIME checking is enabled.\u001b[39m\n",
      "\u001b[90mCodefolding: Wait for\u001b[39m \u001b[90m1000\u001b[39m \u001b[90mms\u001b[39m\n",
      "\u001b[31mFailed to load resource: the server responded with a status of 404 (Not Found)\u001b[39m\n",
      "\u001b[38;2;255;165;0mFailed to get file Lecture1.json. ReadyState: 4, Status: 404\u001b[39m\n",
      "Printing slide #/slide-16-0 (20/30) ...\u001b[32m\u001b[39m\n",
      "\u001b[32mPrinted \u001b[39m\u001b[32m\u001b[1m20\u001b[22m\u001b[39m\u001b[32m slides\u001b[39m\n"
     ]
    }
   ],
   "source": [
    "nb_list = !jupyter notebook list\n",
    "server = [l for l in nb_list if 'EOS408' in l][0].split(' :: ')[0]\n",
    "prefix = server.split('?')[0]\n",
    "token = server.split('?')[1]\n",
    "notebook = 'Lecture1_Seafloor.ipynb'\n",
    "url = prefix+'notebooks/'+notebook+'?'+token\n",
    "!decktape --slides 1-20 -s '1920x1080' rise $url PDF_Slides/2023/Lecture1_Seafloor.pdf"
   ]
  },
  {
   "cell_type": "markdown",
   "metadata": {
    "cell_style": "center",
    "slideshow": {
     "slide_type": "slide"
    }
   },
   "source": [
    "## Lecture 2: Sea-floor depth, age, and heat flow\n",
    "<br>"
   ]
  },
  {
   "cell_type": "markdown",
   "metadata": {
    "slideshow": {
     "slide_type": "-"
    }
   },
   "source": [
    "<div data-id=\"columns\" style=\"display:flex;height:60vh\">\n",
    "    <div class=\"clearpanel_start\" style=\"visibility: visible;\">\n",
    "<ul>\n",
    "<li>Why do we have ocean basins?</li>\n",
    "<li>Mid ocean ridges and the topography of the sea-floor</li>\n",
    "<li>Heat transport in the Earth</li>\n",
    "</ul>\n",
    "</div>\n",
    "    <div class=\"clearpanel\" style=\"visibility: visible;\">\n",
    "    <center><img src='images/Tharp-Map-scaled-atlantic.jpg'style='height:60vh;display:block; margin:auto'/></center>\n",
    "    </div>\n",
    "</div>"
   ]
  },
  {
   "cell_type": "markdown",
   "metadata": {
    "slideshow": {
     "slide_type": "-"
    }
   },
   "source": [
    "<div style='font-size:25px'> <i>We acknowledge and respect the lək̓ʷəŋən peoples on whose traditional territory the university stands and the Songhees, Esquimalt and W̱SÁNE&#262; peoples whose historical relationships with the land continue to this day.</i></div>"
   ]
  },
  {
   "cell_type": "markdown",
   "metadata": {
    "slideshow": {
     "slide_type": "slide"
    }
   },
   "source": [
    "A volunteer Notetaker is needed for this course.\n",
    "\n",
    "As a Notetaker, you will be asked to share accurate and timely lecture notes to support the needs of your peers who require equal access to academic programs.\n",
    "\n",
    "If you would like to volunteer to share your notes in this course, please e-mail me (blakedyer@uvic.ca). Thank you very much!"
   ]
  },
  {
   "cell_type": "markdown",
   "metadata": {
    "slideshow": {
     "slide_type": "slide"
    }
   },
   "source": [
    "### What are ocean basins?\n",
    "<br>"
   ]
  },
  {
   "cell_type": "markdown",
   "metadata": {
    "slideshow": {
     "slide_type": "-"
    }
   },
   "source": [
    "<div style='height:70vh'>\n",
    "<span style='color:DarkGray'><i><b>\"We can only sense that in the deep and turbulent recesses of the sea are hidden mysteries far greater than any we have solved.\"</i></b></span>\n",
    "    <span style='float:right'><b>-Rachel Carson, <i>The Sea Around Us</i>, 1957</b>\n",
    "</div>"
   ]
  },
  {
   "cell_type": "markdown",
   "metadata": {
    "slideshow": {
     "slide_type": "notes"
    }
   },
   "source": [
    "Ask the class what we know about oceans, list ideas and topics on the board. Move the discussion towards topography and the why of topography."
   ]
  },
  {
   "cell_type": "markdown",
   "metadata": {
    "slideshow": {
     "slide_type": "slide"
    }
   },
   "source": [
    "### What are ocean basins?\n",
    "<br>"
   ]
  },
  {
   "cell_type": "markdown",
   "metadata": {
    "slideshow": {
     "slide_type": "-"
    }
   },
   "source": [
    "<div style='height:70vh'><center><img src='images/global_topo_curves_cawood2022.png' style='height:69vh'></center></div><br>"
   ]
  },
  {
   "cell_type": "markdown",
   "metadata": {
    "slideshow": {
     "slide_type": "notes"
    }
   },
   "source": [
    "- Why does this topography exist?\n",
    "- Crustal thickness. \n",
    "    - What is crust? Different rocks than mantle, peridotite vs basalt/andesite\n",
    "    - often defined by Distance to Mohorovičić discontinuity"
   ]
  },
  {
   "cell_type": "markdown",
   "metadata": {
    "slideshow": {
     "slide_type": "slide"
    }
   },
   "source": [
    "#### Mohorovičić discontinuity\n",
    "<br>"
   ]
  },
  {
   "cell_type": "markdown",
   "metadata": {
    "slideshow": {
     "slide_type": "-"
    }
   },
   "source": [
    "<div style='height:70vh'><center>\n",
    "    <img style='height:60vh' src='images/Mohomap.png'><br>\n",
    "    <span style='visibility:hidden;color:dodgerblue'>What are the differences between lithosphere and asthenosphere and crust and mantle?\n",
    "</center></div>"
   ]
  },
  {
   "cell_type": "markdown",
   "metadata": {
    "slideshow": {
     "slide_type": "notes"
    }
   },
   "source": [
    "- The Moho marks the transition in composition between the Earth's <b>crust</b> and the <b>lithospheric mantle</b>. \n",
    "- Defined by wave speed: \n",
    "    - above moho (P-waves) are consistent with those through basalt (6.7–7.2 km/s)\n",
    "    - below they are similar to those through peridotite or dunite (7.6–8.6 km/s).\n",
    "    - commonly accepted as the lower limit of the Earth's crust.\n",
    "    - lith/astheno boundary at mid ocean ridge"
   ]
  },
  {
   "cell_type": "markdown",
   "metadata": {
    "slideshow": {
     "slide_type": "slide"
    }
   },
   "source": [
    "#### Mohorovičić discontinuity\n",
    "<br>"
   ]
  },
  {
   "cell_type": "markdown",
   "metadata": {
    "slideshow": {
     "slide_type": "-"
    }
   },
   "source": [
    "<div style='height:70vh'><center>\n",
    "    <img style='height:60vh' src='images/Mohomap.png'><br>\n",
    "    <span style='color:dodgerblue'>What are the differences between lithosphere and asthenosphere and crust and mantle?\n",
    "</center></div>"
   ]
  },
  {
   "cell_type": "markdown",
   "metadata": {
    "slideshow": {
     "slide_type": "slide"
    }
   },
   "source": [
    "#### Mohorovičić discontinuity\n",
    "<br>"
   ]
  },
  {
   "cell_type": "markdown",
   "metadata": {
    "slideshow": {
     "slide_type": "-"
    }
   },
   "source": [
    "<div style='height:70vh'>\n",
    "<span style='color:DarkGray'><i><b>\"Seismic evidence shows that the so-called crustal thickness-depth to the M discontinuity-is 6 km under oceans and 34 km under continents on the average.\"</i></b></span> <span style='color:rgb(0,0,0,0)'><i><b>Gravity data prove that these two types of crustal columns have the same mass-the pressure at some arbitrary level beneath them, such as 40 km, would be the same. They are in hydrostatic equilibrium.\"</i></b></span>\n",
    "    <span style='float:right'><b>-Harry Hess, <i>History of Ocean Basins</i>, 1962</b>\n",
    "</div>"
   ]
  },
  {
   "cell_type": "markdown",
   "metadata": {
    "slideshow": {
     "slide_type": "slide"
    }
   },
   "source": [
    "#### Mohorovičić discontinuity\n",
    "<br>"
   ]
  },
  {
   "cell_type": "markdown",
   "metadata": {
    "slideshow": {
     "slide_type": "-"
    }
   },
   "source": [
    "<div style='height:70vh'>\n",
    "<span style='color:DarkGray'><i><b>\"Seismic evidence shows that the so-called crustal thickness-depth to the M discontinuity-is 6 km under oceans and 34 km under continents on the average. Gravity data prove that these two types of crustal columns have the same mass-the pressure at some arbitrary level beneath them, such as 40 km, would be the same. They are in <u>hydrostatic equilibrium</u>.\"</i></b></span>\n",
    "    <span style='float:right'><b>-Harry Hess, <i>History of Ocean Basins</i>, 1962</b>\n",
    "</div>"
   ]
  },
  {
   "cell_type": "markdown",
   "metadata": {
    "slideshow": {
     "slide_type": "slide"
    }
   },
   "source": [
    "#### Mohorovičić discontinuity\n",
    "<br>"
   ]
  },
  {
   "cell_type": "markdown",
   "metadata": {
    "slideshow": {
     "slide_type": "-"
    }
   },
   "source": [
    "<div style='height:70vh'>\n",
    "<span style='color:DarkGray'><i><b>\"Seismic evidence shows that the so-called crustal thickness-depth to the M discontinuity-is 6 km under oceans and 34 km under continents on the average. Gravity data prove that these two types of crustal columns have the same mass-the pressure at some arbitrary level beneath them, such as 40 km, would be the same. They are in <u>hydrostatic equilibrium</u>.\"</i></b></span>\n",
    "    <span style='float:right'><b>-Harry Hess, <i>History of Ocean Basins</i>, 1962</b></span><br><br><br><br>\n",
    "    <span style='color:dodgerblue'><center><b>How can we test this assumption?</center></b></span>\n",
    "</div>"
   ]
  },
  {
   "cell_type": "markdown",
   "metadata": {
    "slideshow": {
     "slide_type": "slide"
    }
   },
   "source": [
    "#### Testing isostatic equilibrium\n",
    "<br>"
   ]
  },
  {
   "cell_type": "markdown",
   "metadata": {
    "slideshow": {
     "slide_type": "-"
    }
   },
   "source": [
    "<div style='height:20vh'>\n",
    "<span style='color:DarkGray'><i><b>\"Seismic evidence shows that the so-called crustal thickness-depth to the M discontinuity-is 6 km under oceans and 34 km under continents on the average. Gravity data prove that these two types of crustal columns have the same mass-the pressure at some arbitrary level beneath them, such as 40 km, would be the same. They are in <u>hydrostatic equilibrium</u>.\"</i></b></span>\n",
    "    <span style='float:right'><b>-Harry Hess, <i>History of Ocean Basins</i>, 1962</b></span>\n",
    "</div>"
   ]
  },
  {
   "cell_type": "markdown",
   "metadata": {
    "slideshow": {
     "slide_type": "-"
    }
   },
   "source": [
    "<div data-id=\"columns\" style=\"display:flex;height:45vh\">\n",
    "    <div class=\"clearpanel_start\" style=\"visibility: visible;font-size:1em\">\n",
    "        \n",
    "<ul><li>Continental crust:</li>\n",
    "    <ul><li>Mean elevation: 797 m</li>\n",
    "    <li>Mean thickness: 34 km</li>\n",
    "    <li>Andesite with density: 2.8 g/cm<sup>3</sup></li>\n",
    "    </ul>\n",
    "</ul>\n",
    "        <ul><li>Density of water: 1 g/cm<sup>3</sup></li></ul> \n",
    "    </div>\n",
    "    <div class=\"clearpanel\" style=\"visibility: visible\">\n",
    "        <ul><li>Oceanic crust:</li> \n",
    "            <ul><li>Mean elevation: -3686 m</li>\n",
    "                <li>Mean thickness: 6 km</li>\n",
    "                <li>Basalt with density: 2.9 g/cm<sup>3</sup></li>\n",
    "            </ul>\n",
    "        </ul>\n",
    "    </div>\n",
    "</div>"
   ]
  },
  {
   "cell_type": "markdown",
   "metadata": {
    "cell_style": "center",
    "slideshow": {
     "slide_type": "fragment"
    }
   },
   "source": [
    "<center><span style='color:dodgerblue'>What is the density of the mantle in g/cm<sup>3</sup>?</span></center>\n",
    "    "
   ]
  },
  {
   "cell_type": "markdown",
   "metadata": {
    "slideshow": {
     "slide_type": "slide"
    }
   },
   "source": [
    "#### Testing isostatic equilibrium\n",
    "<br>"
   ]
  },
  {
   "cell_type": "markdown",
   "metadata": {
    "slideshow": {
     "slide_type": "-"
    }
   },
   "source": [
    "<div style='height:70vh'>\n",
    "    \n",
    "You should get <span style='color:FireBrick'><b>3.46 g/cm<sup>3</sup></b></span> (<span style='color:dodgerblue'>density of peridotite: 3.1–3.4 g/cm<sup>3</sup></span>) using the following mass balance:\n",
    "\n",
    "$$\n",
    "\\mathrm{\n",
    "\\Delta H_{cc}\\rho_{cc} = \\Delta H_{w}\\rho_{w} + \\Delta H_{oc}\\rho_{oc} + \\Delta H_m\\rho_m \\\\\n",
    "~\\\\\n",
    "\\Delta H_{cc}\\rho_{cc} - \\Delta H_{w}\\rho_{w} - \\Delta H_{oc}\\rho_{oc} = \\Delta H_m\\rho_m \\\\\n",
    "~\\\\\n",
    "\\frac{\\Delta H_{cc}\\rho_{cc} - \\Delta H_{w}\\rho_{w} - \\Delta H_{oc}\\rho_{oc}}{\\Delta H_m} = \\rho_m \\\\\n",
    "~\\\\\n",
    "\\Delta H_m = \\Delta H_{cc} - \\Delta H_{oc} - E_{cc} - E_{oc}\\\\}\n",
    "$$\n",
    "\n",
    "\n",
    "where $\\Delta H$ is thickness, $E$ is elevation, $\\rho$ is density, and the subscripts $w$, $cc$, $oc$, and $m$ correspond to the water in the ocean, the continental crust, the oceanic crust, and the mantle, respectively.\n",
    "\n",
    "</div>\n",
    "<br>"
   ]
  },
  {
   "cell_type": "code",
   "execution_count": 20,
   "metadata": {
    "slideshow": {
     "slide_type": "skip"
    }
   },
   "outputs": [
    {
     "data": {
      "text/plain": [
       "3.4649827784156138"
      ]
     },
     "execution_count": 20,
     "metadata": {},
     "output_type": "execute_result"
    }
   ],
   "source": [
    "crust_thickness = 34\n",
    "crust_elevation = .797\n",
    "crust_density = 2.8 #kg/m^3\n",
    "ocean_thickness = 6\n",
    "ocean_elevation = -3.686\n",
    "ocean_density = 2.9 #kg/m^3\n",
    "water_density = 1\n",
    "water_thickness = 3.686\n",
    "mantle_root = crust_thickness-ocean_thickness-(crust_elevation-ocean_elevation)\n",
    "\n",
    "#crust_thickness*crust_density = water_thickness*water_density + ocean_thickness*ocean_density + mantle_density*mantle_root\n",
    "mantle_density = (water_thickness*water_density + crust_thickness*crust_density - ocean_thickness*ocean_density)/mantle_root \n",
    "mantle_density"
   ]
  },
  {
   "cell_type": "markdown",
   "metadata": {
    "slideshow": {
     "slide_type": "slide"
    }
   },
   "source": [
    "### The topography of the sea-floor\n",
    "<br>"
   ]
  },
  {
   "cell_type": "markdown",
   "metadata": {
    "slideshow": {
     "slide_type": "-"
    }
   },
   "source": [
    "<div style='height:70vh'><center><img src='images/global_topo_curves_cawood2022.png' style='height:69vh'></center></div><br>"
   ]
  },
  {
   "cell_type": "markdown",
   "metadata": {
    "slideshow": {
     "slide_type": "slide"
    }
   },
   "source": [
    "### The topography of the sea-floor\n",
    "<br>"
   ]
  },
  {
   "cell_type": "markdown",
   "metadata": {
    "slideshow": {
     "slide_type": "-"
    }
   },
   "source": [
    "<div data-id=\"columns\" style=\"display:flex;height:75vh\">\n",
    "    <div class=\"clearpanel_start\" style=\"visibility: visible;\">\n",
    "    <center><img src='images/Tharp-Map-scaled-pacific.jpg'style='height:75vh;display:block; margin:auto'/></center>\n",
    "    </div>\n",
    "    <div class=\"clearpanel\" style=\"visibility: visible;\">\n",
    "    <center><img src='images/Tharp-Map-scaled-atlantic.jpg'style='height:75vh;display:block; margin:auto'/></center>\n",
    "    </div>\n",
    "</div>\n",
    "<br>"
   ]
  },
  {
   "cell_type": "markdown",
   "metadata": {
    "slideshow": {
     "slide_type": "slide"
    }
   },
   "source": [
    "### The topography of the sea-floor\n",
    "<br>"
   ]
  },
  {
   "cell_type": "markdown",
   "metadata": {
    "slideshow": {
     "slide_type": "-"
    }
   },
   "source": [
    "<div style='height:70vh;color:dodgerblue'><center>\n",
    "    Consider at least two ways that the topography of the sea-floor (mid-ocean ridges and the increase in depth away from ridges) can be in isostatic equilibrium. Draw a sketch for both.\n",
    "</center></div>"
   ]
  },
  {
   "cell_type": "markdown",
   "metadata": {
    "slideshow": {
     "slide_type": "slide"
    }
   },
   "source": [
    "### The topography of the sea-floor\n",
    "<br>"
   ]
  },
  {
   "cell_type": "markdown",
   "metadata": {
    "slideshow": {
     "slide_type": "-"
    }
   },
   "source": [
    "<div style='height:70vh;color:dodgerblue'>\n",
    "    <center>\n",
    "     Consider at least two ways that the topography of the sea-floor (mid-ocean ridges and the increase in depth away from ridges) can be in isostatic equilibrium. Draw a sketch for both. <br>\n",
    "    <img style='height:45vh' src='images/airy_pratt.webp'><br>\n",
    "    Which model is better at explaining sea-floor topography? Why?   \n",
    "    </center>\n",
    "</div>"
   ]
  },
  {
   "cell_type": "markdown",
   "metadata": {
    "slideshow": {
     "slide_type": "notes"
    }
   },
   "source": [
    "- Heat flow highest at ridge (unlikely to be thicker crust)\n",
    "- lowest density under the ridge somehow (thermal?)\n",
    "    - how to make density go up with distance? cooling + transport (convection)\n"
   ]
  },
  {
   "cell_type": "markdown",
   "metadata": {
    "slideshow": {
     "slide_type": "slide"
    }
   },
   "source": [
    "### The topography of the sea-floor\n",
    "<br>"
   ]
  },
  {
   "cell_type": "markdown",
   "metadata": {
    "slideshow": {
     "slide_type": "-"
    }
   },
   "source": [
    "<div style='height:48.5vh'>\n",
    "<span style='color:DarkGray'><i><b>\"Nevertheless, mantle convection is considered a radical hypothesis not widely accepted by geologists and geophysicists. If it were accepted, a rather reasonable story could be constructed to describe the evolution of ocean basins and the waters within them. Whole realms of previously unrelated facts fall into a regular pattern, which suggests that close approach to satisfactory theory is being attained.\"</i></b></span>\n",
    "    <span style='float:right'><b>-Harry Hess, <i>History of Ocean Basins</i>, 1962</b></span>\n",
    "</div>"
   ]
  },
  {
   "cell_type": "markdown",
   "metadata": {
    "cell_style": "center",
    "slideshow": {
     "slide_type": "fragment"
    }
   },
   "source": [
    "<center><span style='color:dodgerblue'>What observations supported this radical hypothesis?</span></center>\n",
    "    "
   ]
  },
  {
   "cell_type": "code",
   "execution_count": null,
   "metadata": {
    "slideshow": {
     "slide_type": "skip"
    }
   },
   "outputs": [],
   "source": []
  },
  {
   "cell_type": "markdown",
   "metadata": {
    "slideshow": {
     "slide_type": "notes"
    }
   },
   "source": [
    "- Heat flow highest at ridge (unlikely to be thicker crust)\n",
    "- sed accumulation rates suggest seafloor significantly younger than 4ga\n",
    "- continents have moved\n",
    "- lower density, viscous layer that crustal plates ride across\n"
   ]
  }
 ],
 "metadata": {
  "celltoolbar": "Slideshow",
  "kernelspec": {
   "display_name": "Python 3",
   "language": "python",
   "name": "python3"
  },
  "language_info": {
   "codemirror_mode": {
    "name": "ipython",
    "version": 3
   },
   "file_extension": ".py",
   "mimetype": "text/x-python",
   "name": "python",
   "nbconvert_exporter": "python",
   "pygments_lexer": "ipython3",
   "version": "3.9.1"
  },
  "rise": {
   "chalkboard": {
    "chalkEffect": 1,
    "chalkWidth": 7,
    "color": [
     "rgb(200,47,62)",
     "rgb(200,47,62)"
    ],
    "readOnly": false,
    "src": "Lecture1.json",
    "theme": "whiteboard"
   },
   "enable_chalkboard": true,
   "transition": "fade"
  },
  "toc": {
   "base_numbering": 1,
   "nav_menu": {
    "height": "229px",
    "width": "213px"
   },
   "number_sections": false,
   "sideBar": true,
   "skip_h1_title": false,
   "title_cell": "Table of Contents",
   "title_sidebar": "Contents",
   "toc_cell": false,
   "toc_position": {
    "height": "calc(100% - 180px)",
    "left": "10px",
    "top": "150px",
    "width": "426.664px"
   },
   "toc_section_display": true,
   "toc_window_display": false
  },
  "toc-autonumbering": true,
  "toc-showcode": false,
  "toc-showmarkdowntxt": false,
  "toc-showtags": false
 },
 "nbformat": 4,
 "nbformat_minor": 4
}
