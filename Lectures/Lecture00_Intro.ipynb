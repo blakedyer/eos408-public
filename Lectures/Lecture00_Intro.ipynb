{
 "cells": [
  {
   "cell_type": "code",
   "execution_count": null,
   "metadata": {
    "slideshow": {
     "slide_type": "skip"
    }
   },
   "outputs": [],
   "source": [
    "Lecture 1: Course introduction"
   ]
  },
  {
   "cell_type": "code",
   "execution_count": 1,
   "metadata": {
    "slideshow": {
     "slide_type": "skip"
    }
   },
   "outputs": [],
   "source": [
    "import numpy as np\n",
    "from IPython.core.display import HTML\n",
    "from matplotlib import pyplot as plt"
   ]
  },
  {
   "cell_type": "markdown",
   "metadata": {
    "slideshow": {
     "slide_type": "skip"
    }
   },
   "source": [
    "Some templates:"
   ]
  },
  {
   "cell_type": "markdown",
   "metadata": {
    "slideshow": {
     "slide_type": "skip"
    }
   },
   "source": [
    "<div data-id=\"columns\" style=\"display:flex;height:60vh\">\n",
    "    <div class=\"clearpanel_start\" style=\"visibility: visible;\">\n",
    "    <center><img id=\"bordered_img\" src=\"images/fieldwork.jpg\" style='height:60vh'></center>\n",
    "    </div>\n",
    "    <div class=\"clearpanel\" style=\"visibility: visible;\">\n",
    "        <center><img id=\"bordered_img\" src=\"images/fieldwork.jpg\" style='height:60vh'></center>\n",
    "    </div>\n",
    "</div>"
   ]
  },
  {
   "cell_type": "code",
   "execution_count": 1,
   "metadata": {
    "slideshow": {
     "slide_type": "skip"
    }
   },
   "outputs": [
    {
     "name": "stdout",
     "output_type": "stream",
     "text": [
      "Loading page http://localhost:8888/notebooks/Lecture00_Intro.ipynb?token=8c9ee22068dfe5b9dc8defbd49cae9ea230c780df1f7f47f ...\n",
      "\u001b[38;2;255;165;0mactions\u001b[39m \u001b[38;2;255;165;0mjupyter-notebook:find-and-replace\u001b[39m \u001b[38;2;255;165;0mdoes not exist, still binding it in case it will be defined later...\u001b[39m\n",
      "\u001b[90mload_extensions\u001b[39m \u001b[90m{\u001b[39m\n",
      "\u001b[90m  '0': 'nbextensions_configurator/config_menu/main',\u001b[39m\n",
      "\u001b[90m  '1': 'contrib_nbextensions_help_item/main',\u001b[39m\n",
      "\u001b[90m  '2': 'rise/main',\u001b[39m\n",
      "\u001b[90m  '3': 'jupyter-js-widgets/extension',\u001b[39m\n",
      "\u001b[90m  '4': 'jupyter-black-master/jupyter-black',\u001b[39m\n",
      "\u001b[90m  '5': 'toc2/main',\u001b[39m\n",
      "\u001b[90m  '6': 'hide_code/hide_code',\u001b[39m\n",
      "\u001b[90m  '7': 'hide_input/main',\u001b[39m\n",
      "\u001b[90m  '8': 'codefolding/main',\u001b[39m\n",
      "\u001b[90m  '9': 'splitcell/splitcell'\u001b[39m\n",
      "\u001b[90m}\u001b[39m\n",
      "\u001b[90mLoaded moment locale\u001b[39m \u001b[90men-gb\u001b[39m\n",
      "\u001b[31mFailed to load resource: the server responded with a status of 404 (Not Found)\u001b[39m\n",
      "\u001b[90mHTML Sanitizer\u001b[39m \u001b[90mdiv.style changed\u001b[39m \u001b[90m{\u001b[39m\n",
      "\u001b[90m  change: 'changed',\u001b[39m\n",
      "\u001b[90m  tagName: 'div',\u001b[39m\n",
      "\u001b[90m  attribName: 'style',\u001b[39m\n",
      "\u001b[90m  oldValue: 'display:flex;height:60vh',\u001b[39m\n",
      "\u001b[90m  newValue: 'display: flex ; height: 60vh'\u001b[39m\n",
      "\u001b[90m}\u001b[39m\n",
      "\u001b[90mHTML Sanitizer\u001b[39m \u001b[90mdiv.style changed\u001b[39m \u001b[90m{\u001b[39m\n",
      "\u001b[90m  change: 'changed',\u001b[39m\n",
      "\u001b[90m  tagName: 'div',\u001b[39m\n",
      "\u001b[90m  attribName: 'style',\u001b[39m\n",
      "\u001b[90m  oldValue: 'visibility: visible;',\u001b[39m\n",
      "\u001b[90m  newValue: 'visibility: visible'\u001b[39m\n",
      "\u001b[90m}\u001b[39m\n",
      "\u001b[90mHTML Sanitizer\u001b[39m \u001b[90mimg.style changed\u001b[39m \u001b[90m{\u001b[39m\n",
      "\u001b[90m  change: 'changed',\u001b[39m\n",
      "\u001b[90m  tagName: 'img',\u001b[39m\n",
      "\u001b[90m  attribName: 'style',\u001b[39m\n",
      "\u001b[90m  oldValue: 'height:60vh',\u001b[39m\n",
      "\u001b[90m  newValue: 'height: 60vh'\u001b[39m\n",
      "\u001b[90m}\u001b[39m\n",
      "\u001b[90mHTML Sanitizer\u001b[39m \u001b[90mdiv.style changed\u001b[39m \u001b[90m{\u001b[39m\n",
      "\u001b[90m  change: 'changed',\u001b[39m\n",
      "\u001b[90m  tagName: 'div',\u001b[39m\n",
      "\u001b[90m  attribName: 'style',\u001b[39m\n",
      "\u001b[90m  oldValue: 'visibility: visible;',\u001b[39m\n",
      "\u001b[90m  newValue: 'visibility: visible'\u001b[39m\n",
      "\u001b[90m}\u001b[39m\n",
      "\u001b[90mHTML Sanitizer\u001b[39m \u001b[90mimg.style changed\u001b[39m \u001b[90m{\u001b[39m\n",
      "\u001b[90m  change: 'changed',\u001b[39m\n",
      "\u001b[90m  tagName: 'img',\u001b[39m\n",
      "\u001b[90m  attribName: 'style',\u001b[39m\n",
      "\u001b[90m  oldValue: 'height:60vh',\u001b[39m\n",
      "\u001b[90m  newValue: 'height: 60vh'\u001b[39m\n",
      "\u001b[90m}\u001b[39m\n",
      "\u001b[90mHTML Sanitizer\u001b[39m \u001b[90mdiv.style changed\u001b[39m \u001b[90m{\u001b[39m\n",
      "\u001b[90m  change: 'changed',\u001b[39m\n",
      "\u001b[90m  tagName: 'div',\u001b[39m\n",
      "\u001b[90m  attribName: 'style',\u001b[39m\n",
      "\u001b[90m  oldValue: 'display:flex;height:50vh',\u001b[39m\n",
      "\u001b[90m  newValue: 'display: flex ; height: 50vh'\u001b[39m\n",
      "\u001b[90m}\u001b[39m\n",
      "\u001b[90mHTML Sanitizer\u001b[39m \u001b[90mdiv.style changed\u001b[39m \u001b[90m{\u001b[39m\n",
      "\u001b[90m  change: 'changed',\u001b[39m\n",
      "\u001b[90m  tagName: 'div',\u001b[39m\n",
      "\u001b[90m  attribName: 'style',\u001b[39m\n",
      "\u001b[90m  oldValue: 'visibility: visible;',\u001b[39m\n",
      "\u001b[90m  newValue: 'visibility: visible'\u001b[39m\n",
      "\u001b[90m}\u001b[39m\n",
      "\u001b[90mHTML Sanitizer\u001b[39m \u001b[90mdiv.style changed\u001b[39m \u001b[90m{\u001b[39m\n",
      "\u001b[90m  change: 'changed',\u001b[39m\n",
      "\u001b[90m  tagName: 'div',\u001b[39m\n",
      "\u001b[90m  attribName: 'style',\u001b[39m\n",
      "\u001b[90m  oldValue: 'visibility: visible;',\u001b[39m\n",
      "\u001b[90m  newValue: 'visibility: visible'\u001b[39m\n",
      "\u001b[90m}\u001b[39m\n",
      "\u001b[90mHTML Sanitizer\u001b[39m \u001b[90mdiv.style changed\u001b[39m \u001b[90m{\u001b[39m\n",
      "\u001b[90m  change: 'changed',\u001b[39m\n",
      "\u001b[90m  tagName: 'div',\u001b[39m\n",
      "\u001b[90m  attribName: 'style',\u001b[39m\n",
      "\u001b[90m  oldValue: 'height:39vh;background-color:white;font-size:.5em',\u001b[39m\n",
      "\u001b[90m  newValue: 'height: 39vh ; background-color: white ; font-size: 0.5em'\u001b[39m\n",
      "\u001b[90m}\u001b[39m\n",
      "\u001b[90mHTML Sanitizer\u001b[39m \u001b[90mimg.style changed\u001b[39m \u001b[90m{\u001b[39m\n",
      "\u001b[90m  change: 'changed',\u001b[39m\n",
      "\u001b[90m  tagName: 'img',\u001b[39m\n",
      "\u001b[90m  attribName: 'style',\u001b[39m\n",
      "\u001b[90m  oldValue: 'height:49vh',\u001b[39m\n",
      "\u001b[90m  newValue: 'height: 49vh'\u001b[39m\n",
      "\u001b[90m}\u001b[39m\n",
      "\u001b[90mHTML Sanitizer\u001b[39m \u001b[90mdiv.style changed\u001b[39m \u001b[90m{\u001b[39m\n",
      "\u001b[90m  change: 'changed',\u001b[39m\n",
      "\u001b[90m  tagName: 'div',\u001b[39m\n",
      "\u001b[90m  attribName: 'style',\u001b[39m\n",
      "\u001b[90m  oldValue: 'font-size:25px',\u001b[39m\n",
      "\u001b[90m  newValue: 'font-size: 25px'\u001b[39m\n",
      "\u001b[90m}\u001b[39m\n",
      "\u001b[90mHTML Sanitizer\u001b[39m \u001b[90mdiv.style changed\u001b[39m \u001b[90m{\u001b[39m\n",
      "\u001b[90m  change: 'changed',\u001b[39m\n",
      "\u001b[90m  tagName: 'div',\u001b[39m\n",
      "\u001b[90m  attribName: 'style',\u001b[39m\n",
      "\u001b[90m  oldValue: 'display:flex;height:70vh',\u001b[39m\n",
      "\u001b[90m  newValue: 'display: flex ; height: 70vh'\u001b[39m\n",
      "\u001b[90m}\u001b[39m\n",
      "\u001b[90mHTML Sanitizer\u001b[39m \u001b[90mdiv.style changed\u001b[39m \u001b[90m{\u001b[39m\n",
      "\u001b[90m  change: 'changed',\u001b[39m\n",
      "\u001b[90m  tagName: 'div',\u001b[39m\n",
      "\u001b[90m  attribName: 'style',\u001b[39m\n",
      "\u001b[90m  oldValue: 'visibility: visible;',\u001b[39m\n",
      "\u001b[90m  newValue: 'visibility: visible'\u001b[39m\n",
      "\u001b[90m}\u001b[39m\n",
      "\u001b[90mHTML Sanitizer\u001b[39m \u001b[90mimg.style changed\u001b[39m \u001b[90m{\u001b[39m\n",
      "\u001b[90m  change: 'changed',\u001b[39m\n",
      "\u001b[90m  tagName: 'img',\u001b[39m\n",
      "\u001b[90m  attribName: 'style',\u001b[39m\n",
      "\u001b[90m  oldValue: 'height:550px',\u001b[39m\n",
      "\u001b[90m  newValue: 'height: 550px'\u001b[39m\n",
      "\u001b[90m}\u001b[39m\n",
      "\u001b[90mHTML Sanitizer\u001b[39m \u001b[90mdiv.style changed\u001b[39m \u001b[90m{\u001b[39m\n",
      "\u001b[90m  change: 'changed',\u001b[39m\n",
      "\u001b[90m  tagName: 'div',\u001b[39m\n",
      "\u001b[90m  attribName: 'style',\u001b[39m\n",
      "\u001b[90m  oldValue: 'visibility: visible;',\u001b[39m\n",
      "\u001b[90m  newValue: 'visibility: visible'\u001b[39m\n",
      "\u001b[90m}\u001b[39m\n",
      "\u001b[90mHTML Sanitizer\u001b[39m \u001b[90mul.style changed\u001b[39m \u001b[90m{\u001b[39m\n",
      "\u001b[90m  change: 'changed',\u001b[39m\n",
      "\u001b[90m  tagName: 'ul',\u001b[39m\n",
      "\u001b[90m  attribName: 'style',\u001b[39m\n",
      "\u001b[90m  oldValue: 'font-size:.8em',\u001b[39m\n",
      "\u001b[90m  newValue: 'font-size: 0.8em'\u001b[39m\n",
      "\u001b[90m}\u001b[39m\n",
      "\u001b[90mHTML Sanitizer\u001b[39m \u001b[90mdiv.style changed\u001b[39m \u001b[90m{\u001b[39m\n",
      "\u001b[90m  change: 'changed',\u001b[39m\n",
      "\u001b[90m  tagName: 'div',\u001b[39m\n",
      "\u001b[90m  attribName: 'style',\u001b[39m\n",
      "\u001b[90m  oldValue: 'background: url(images/honaker_snow.jpg) 50% 35% no-repeat;\\n' +\u001b[39m\n",
      "\u001b[90m    '  height: 60vh; background-size: 100%;border: 1px solid #555;',\u001b[39m\n",
      "\u001b[90m  newValue: 'background: url(\"images/honaker_snow.jpg\") 50% 35% no-repeat ; height: 60vh ; background-size: 100% ; border: 1px solid #555'\u001b[39m\n",
      "\u001b[90m}\u001b[39m\n",
      "\u001b[90mHTML Sanitizer\u001b[39m \u001b[90mdiv.style changed\u001b[39m \u001b[90m{\u001b[39m\n",
      "\u001b[90m  change: 'changed',\u001b[39m\n",
      "\u001b[90m  tagName: 'div',\u001b[39m\n",
      "\u001b[90m  attribName: 'style',\u001b[39m\n",
      "\u001b[90m  oldValue: 'background: url(images/Oahu_reef_tides.jpg) 50% 55% no-repeat;\\n' +\u001b[39m\n",
      "\u001b[90m    '  height: 60vh; background-size: 100%;border: 1px solid #555;',\u001b[39m\n",
      "\u001b[90m  newValue: 'background: url(\"images/Oahu_reef_tides.jpg\") 50% 55% no-repeat ; height: 60vh ; background-size: 100% ; border: 1px solid #555'\u001b[39m\n",
      "\u001b[90m}\u001b[39m\n",
      "\u001b[90mHTML Sanitizer\u001b[39m \u001b[90mdiv.style changed\u001b[39m \u001b[90m{\u001b[39m\n",
      "\u001b[90m  change: 'changed',\u001b[39m\n",
      "\u001b[90m  tagName: 'div',\u001b[39m\n",
      "\u001b[90m  attribName: 'style',\u001b[39m\n",
      "\u001b[90m  oldValue: 'display:flex;height:62vh',\u001b[39m\n",
      "\u001b[90m  newValue: 'display: flex ; height: 62vh'\u001b[39m\n",
      "\u001b[90m}\u001b[39m\n",
      "\u001b[90mHTML Sanitizer\u001b[39m \u001b[90mdiv.style changed\u001b[39m \u001b[90m{\u001b[39m\n",
      "\u001b[90m  change: 'changed',\u001b[39m\n",
      "\u001b[90m  tagName: 'div',\u001b[39m\n",
      "\u001b[90m  attribName: 'style',\u001b[39m\n",
      "\u001b[90m  oldValue: 'visibility: visible;',\u001b[39m\n",
      "\u001b[90m  newValue: 'visibility: visible'\u001b[39m\n",
      "\u001b[90m}\u001b[39m\n",
      "\u001b[90mHTML Sanitizer\u001b[39m \u001b[90mli.style changed\u001b[39m \u001b[90m{\u001b[39m\n",
      "\u001b[90m  change: 'changed',\u001b[39m\n",
      "\u001b[90m  tagName: 'li',\u001b[39m\n",
      "\u001b[90m  attribName: 'style',\u001b[39m\n",
      "\u001b[90m  oldValue: 'visibility: hidden;',\u001b[39m\n",
      "\u001b[90m  newValue: 'visibility: hidden'\u001b[39m\n",
      "\u001b[90m}\u001b[39m\n",
      "\u001b[90mHTML Sanitizer\u001b[39m \u001b[90mli.style changed\u001b[39m \u001b[90m{\u001b[39m\n",
      "\u001b[90m  change: 'changed',\u001b[39m\n",
      "\u001b[90m  tagName: 'li',\u001b[39m\n",
      "\u001b[90m  attribName: 'style',\u001b[39m\n",
      "\u001b[90m  oldValue: 'visibility: hidden;',\u001b[39m\n",
      "\u001b[90m  newValue: 'visibility: hidden'\u001b[39m\n",
      "\u001b[90m}\u001b[39m\n",
      "\u001b[90mHTML Sanitizer\u001b[39m \u001b[90mli.style changed\u001b[39m \u001b[90m{\u001b[39m\n",
      "\u001b[90m  change: 'changed',\u001b[39m\n",
      "\u001b[90m  tagName: 'li',\u001b[39m\n",
      "\u001b[90m  attribName: 'style',\u001b[39m\n",
      "\u001b[90m  oldValue: 'visibility: hidden;',\u001b[39m\n",
      "\u001b[90m  newValue: 'visibility: hidden'\u001b[39m\n",
      "\u001b[90m}\u001b[39m\n",
      "\u001b[90mHTML Sanitizer\u001b[39m \u001b[90mdiv.style changed\u001b[39m \u001b[90m{\u001b[39m\n",
      "\u001b[90m  change: 'changed',\u001b[39m\n",
      "\u001b[90m  tagName: 'div',\u001b[39m\n",
      "\u001b[90m  attribName: 'style',\u001b[39m\n",
      "\u001b[90m  oldValue: 'visibility: visible;',\u001b[39m\n",
      "\u001b[90m  newValue: 'visibility: visible'\u001b[39m\n",
      "\u001b[90m}\u001b[39m\n",
      "\u001b[90mHTML Sanitizer\u001b[39m \u001b[90mimg.style changed\u001b[39m \u001b[90m{\u001b[39m\n",
      "\u001b[90m  change: 'changed',\u001b[39m\n",
      "\u001b[90m  tagName: 'img',\u001b[39m\n",
      "\u001b[90m  attribName: 'style',\u001b[39m\n",
      "\u001b[90m  oldValue: 'height:60vh',\u001b[39m\n",
      "\u001b[90m  newValue: 'height: 60vh'\u001b[39m\n",
      "\u001b[90m}\u001b[39m\n",
      "\u001b[90mHTML Sanitizer\u001b[39m \u001b[90mdiv.style changed\u001b[39m \u001b[90m{\u001b[39m\n",
      "\u001b[90m  change: 'changed',\u001b[39m\n",
      "\u001b[90m  tagName: 'div',\u001b[39m\n",
      "\u001b[90m  attribName: 'style',\u001b[39m\n",
      "\u001b[90m  oldValue: 'display:flex;height:62vh',\u001b[39m\n",
      "\u001b[90m  newValue: 'display: flex ; height: 62vh'\u001b[39m\n",
      "\u001b[90m}\u001b[39m\n",
      "\u001b[90mHTML Sanitizer\u001b[39m \u001b[90mdiv.style changed\u001b[39m \u001b[90m{\u001b[39m\n",
      "\u001b[90m  change: 'changed',\u001b[39m\n",
      "\u001b[90m  tagName: 'div',\u001b[39m\n",
      "\u001b[90m  attribName: 'style',\u001b[39m\n",
      "\u001b[90m  oldValue: 'visibility: visible;',\u001b[39m\n",
      "\u001b[90m  newValue: 'visibility: visible'\u001b[39m\n",
      "\u001b[90m}\u001b[39m\n",
      "\u001b[90mHTML Sanitizer\u001b[39m \u001b[90mli.style changed\u001b[39m \u001b[90m{\u001b[39m\n",
      "\u001b[90m  change: 'changed',\u001b[39m\n",
      "\u001b[90m  tagName: 'li',\u001b[39m\n",
      "\u001b[90m  attribName: 'style',\u001b[39m\n",
      "\u001b[90m  oldValue: 'visibility: visible;',\u001b[39m\n",
      "\u001b[90m  newValue: 'visibility: visible'\u001b[39m\n",
      "\u001b[90m}\u001b[39m\n",
      "\u001b[90mHTML Sanitizer\u001b[39m \u001b[90mli.style changed\u001b[39m \u001b[90m{\u001b[39m\n",
      "\u001b[90m  change: 'changed',\u001b[39m\n",
      "\u001b[90m  tagName: 'li',\u001b[39m\n",
      "\u001b[90m  attribName: 'style',\u001b[39m\n",
      "\u001b[90m  oldValue: 'visibility: hidden;',\u001b[39m\n",
      "\u001b[90m  newValue: 'visibility: hidden'\u001b[39m\n",
      "\u001b[90m}\u001b[39m\n",
      "\u001b[90mHTML Sanitizer\u001b[39m \u001b[90mli.style changed\u001b[39m \u001b[90m{\u001b[39m\n",
      "\u001b[90m  change: 'changed',\u001b[39m\n",
      "\u001b[90m  tagName: 'li',\u001b[39m\n",
      "\u001b[90m  attribName: 'style',\u001b[39m\n",
      "\u001b[90m  oldValue: 'visibility: hidden;',\u001b[39m\n",
      "\u001b[90m  newValue: 'visibility: hidden'\u001b[39m\n",
      "\u001b[90m}\u001b[39m\n",
      "\u001b[90mHTML Sanitizer\u001b[39m \u001b[90mdiv.style changed\u001b[39m \u001b[90m{\u001b[39m\n",
      "\u001b[90m  change: 'changed',\u001b[39m\n",
      "\u001b[90m  tagName: 'div',\u001b[39m\n",
      "\u001b[90m  attribName: 'style',\u001b[39m\n",
      "\u001b[90m  oldValue: 'visibility: visible;',\u001b[39m\n",
      "\u001b[90m  newValue: 'visibility: visible'\u001b[39m\n",
      "\u001b[90m}\u001b[39m\n",
      "\u001b[90mHTML Sanitizer\u001b[39m \u001b[90mimg.style changed\u001b[39m \u001b[90m{\u001b[39m\n",
      "\u001b[90m  change: 'changed',\u001b[39m\n",
      "\u001b[90m  tagName: 'img',\u001b[39m\n",
      "\u001b[90m  attribName: 'style',\u001b[39m\n",
      "\u001b[90m  oldValue: 'width:45vw',\u001b[39m\n",
      "\u001b[90m  newValue: 'width: 45vw'\u001b[39m\n",
      "\u001b[90m}\u001b[39m\n",
      "\u001b[90mHTML Sanitizer\u001b[39m \u001b[90mdiv.style changed\u001b[39m \u001b[90m{\u001b[39m\n",
      "\u001b[90m  change: 'changed',\u001b[39m\n",
      "\u001b[90m  tagName: 'div',\u001b[39m\n",
      "\u001b[90m  attribName: 'style',\u001b[39m\n",
      "\u001b[90m  oldValue: 'display:flex;height:62vh',\u001b[39m\n",
      "\u001b[90m  newValue: 'display: flex ; height: 62vh'\u001b[39m\n",
      "\u001b[90m}\u001b[39m\n",
      "\u001b[90mHTML Sanitizer\u001b[39m \u001b[90mdiv.style changed\u001b[39m \u001b[90m{\u001b[39m\n",
      "\u001b[90m  change: 'changed',\u001b[39m\n",
      "\u001b[90m  tagName: 'div',\u001b[39m\n",
      "\u001b[90m  attribName: 'style',\u001b[39m\n",
      "\u001b[90m  oldValue: 'visibility: visible;',\u001b[39m\n",
      "\u001b[90m  newValue: 'visibility: visible'\u001b[39m\n",
      "\u001b[90m}\u001b[39m\n",
      "\u001b[90mHTML Sanitizer\u001b[39m \u001b[90mli.style changed\u001b[39m \u001b[90m{\u001b[39m\n",
      "\u001b[90m  change: 'changed',\u001b[39m\n",
      "\u001b[90m  tagName: 'li',\u001b[39m\n",
      "\u001b[90m  attribName: 'style',\u001b[39m\n",
      "\u001b[90m  oldValue: 'visibility: visible;',\u001b[39m\n",
      "\u001b[90m  newValue: 'visibility: visible'\u001b[39m\n",
      "\u001b[90m}\u001b[39m\n",
      "\u001b[90mHTML Sanitizer\u001b[39m \u001b[90mli.style changed\u001b[39m \u001b[90m{\u001b[39m\n",
      "\u001b[90m  change: 'changed',\u001b[39m\n",
      "\u001b[90m  tagName: 'li',\u001b[39m\n",
      "\u001b[90m  attribName: 'style',\u001b[39m\n",
      "\u001b[90m  oldValue: 'visibility: visible;',\u001b[39m\n",
      "\u001b[90m  newValue: 'visibility: visible'\u001b[39m\n",
      "\u001b[90m}\u001b[39m\n",
      "\u001b[90mHTML Sanitizer\u001b[39m \u001b[90mli.style changed\u001b[39m \u001b[90m{\u001b[39m\n",
      "\u001b[90m  change: 'changed',\u001b[39m\n",
      "\u001b[90m  tagName: 'li',\u001b[39m\n",
      "\u001b[90m  attribName: 'style',\u001b[39m\n",
      "\u001b[90m  oldValue: 'visibility: hidden;',\u001b[39m\n",
      "\u001b[90m  newValue: 'visibility: hidden'\u001b[39m\n",
      "\u001b[90m}\u001b[39m\n",
      "\u001b[90mHTML Sanitizer\u001b[39m \u001b[90mdiv.style changed\u001b[39m \u001b[90m{\u001b[39m\n",
      "\u001b[90m  change: 'changed',\u001b[39m\n",
      "\u001b[90m  tagName: 'div',\u001b[39m\n",
      "\u001b[90m  attribName: 'style',\u001b[39m\n",
      "\u001b[90m  oldValue: 'visibility: visible;',\u001b[39m\n",
      "\u001b[90m  newValue: 'visibility: visible'\u001b[39m\n",
      "\u001b[90m}\u001b[39m\n",
      "\u001b[90mHTML Sanitizer\u001b[39m \u001b[90mdiv.style changed\u001b[39m \u001b[90m{\u001b[39m\n",
      "\u001b[90m  change: 'changed',\u001b[39m\n",
      "\u001b[90m  tagName: 'div',\u001b[39m\n",
      "\u001b[90m  attribName: 'style',\u001b[39m\n",
      "\u001b[90m  oldValue: 'height:60vh;font-size:18px',\u001b[39m\n",
      "\u001b[90m  newValue: 'height: 60vh ; font-size: 18px'\u001b[39m\n",
      "\u001b[90m}\u001b[39m\n",
      "\u001b[90mHTML Sanitizer\u001b[39m \u001b[90mimg.style changed\u001b[39m \u001b[90m{\u001b[39m\n",
      "\u001b[90m  change: 'changed',\u001b[39m\n",
      "\u001b[90m  tagName: 'img',\u001b[39m\n",
      "\u001b[90m  attribName: 'style',\u001b[39m\n",
      "\u001b[90m  oldValue: 'height:50vh',\u001b[39m\n",
      "\u001b[90m  newValue: 'height: 50vh'\u001b[39m\n",
      "\u001b[90m}\u001b[39m\n",
      "\u001b[90mHTML Sanitizer\u001b[39m \u001b[90mdiv.style changed\u001b[39m \u001b[90m{\u001b[39m\n",
      "\u001b[90m  change: 'changed',\u001b[39m\n",
      "\u001b[90m  tagName: 'div',\u001b[39m\n",
      "\u001b[90m  attribName: 'style',\u001b[39m\n",
      "\u001b[90m  oldValue: 'display:flex;height:62vh',\u001b[39m\n",
      "\u001b[90m  newValue: 'display: flex ; height: 62vh'\u001b[39m\n",
      "\u001b[90m}\u001b[39m\n",
      "\u001b[90mHTML Sanitizer\u001b[39m \u001b[90mdiv.style changed\u001b[39m \u001b[90m{\u001b[39m\n",
      "\u001b[90m  change: 'changed',\u001b[39m\n",
      "\u001b[90m  tagName: 'div',\u001b[39m\n",
      "\u001b[90m  attribName: 'style',\u001b[39m\n",
      "\u001b[90m  oldValue: 'visibility: visible;',\u001b[39m\n",
      "\u001b[90m  newValue: 'visibility: visible'\u001b[39m\n",
      "\u001b[90m}\u001b[39m\n",
      "\u001b[90mHTML Sanitizer\u001b[39m \u001b[90mli.style changed\u001b[39m \u001b[90m{\u001b[39m\n",
      "\u001b[90m  change: 'changed',\u001b[39m\n",
      "\u001b[90m  tagName: 'li',\u001b[39m\n",
      "\u001b[90m  attribName: 'style',\u001b[39m\n",
      "\u001b[90m  oldValue: 'visibility: visible;',\u001b[39m\n",
      "\u001b[90m  newValue: 'visibility: visible'\u001b[39m\n",
      "\u001b[90m}\u001b[39m\n",
      "\u001b[90mHTML Sanitizer\u001b[39m \u001b[90mli.style changed\u001b[39m \u001b[90m{\u001b[39m\n",
      "\u001b[90m  change: 'changed',\u001b[39m\n",
      "\u001b[90m  tagName: 'li',\u001b[39m\n",
      "\u001b[90m  attribName: 'style',\u001b[39m\n",
      "\u001b[90m  oldValue: 'visibility: visible;',\u001b[39m\n",
      "\u001b[90m  newValue: 'visibility: visible'\u001b[39m\n",
      "\u001b[90m}\u001b[39m\n",
      "\u001b[90mHTML Sanitizer\u001b[39m \u001b[90mli.style changed\u001b[39m \u001b[90m{\u001b[39m\n",
      "\u001b[90m  change: 'changed',\u001b[39m\n",
      "\u001b[90m  tagName: 'li',\u001b[39m\n",
      "\u001b[90m  attribName: 'style',\u001b[39m\n",
      "\u001b[90m  oldValue: 'visibility: visible;',\u001b[39m\n",
      "\u001b[90m  newValue: 'visibility: visible'\u001b[39m\n",
      "\u001b[90m}\u001b[39m\n",
      "\u001b[90mHTML Sanitizer\u001b[39m \u001b[90mdiv.style changed\u001b[39m \u001b[90m{\u001b[39m\n",
      "\u001b[90m  change: 'changed',\u001b[39m\n",
      "\u001b[90m  tagName: 'div',\u001b[39m\n",
      "\u001b[90m  attribName: 'style',\u001b[39m\n",
      "\u001b[90m  oldValue: 'visibility: visible;',\u001b[39m\n",
      "\u001b[90m  newValue: 'visibility: visible'\u001b[39m\n",
      "\u001b[90m}\u001b[39m\n",
      "\u001b[90mHTML Sanitizer\u001b[39m \u001b[90mdiv.style changed\u001b[39m \u001b[90m{\u001b[39m\n",
      "\u001b[90m  change: 'changed',\u001b[39m\n",
      "\u001b[90m  tagName: 'div',\u001b[39m\n",
      "\u001b[90m  attribName: 'style',\u001b[39m\n",
      "\u001b[90m  oldValue: 'height:60vh;font-size:18px',\u001b[39m\n",
      "\u001b[90m  newValue: 'height: 60vh ; font-size: 18px'\u001b[39m\n",
      "\u001b[90m}\u001b[39m\n",
      "\u001b[90mHTML Sanitizer\u001b[39m \u001b[90mimg.style changed\u001b[39m \u001b[90m{\u001b[39m\n",
      "\u001b[90m  change: 'changed',\u001b[39m\n",
      "\u001b[90m  tagName: 'img',\u001b[39m\n",
      "\u001b[90m  attribName: 'style',\u001b[39m\n",
      "\u001b[90m  oldValue: 'height:50vh',\u001b[39m\n",
      "\u001b[90m  newValue: 'height: 50vh'\u001b[39m\n",
      "\u001b[90m}\u001b[39m\n",
      "\u001b[90mHTML Sanitizer\u001b[39m \u001b[90mdiv.style changed\u001b[39m \u001b[90m{\u001b[39m\n",
      "\u001b[90m  change: 'changed',\u001b[39m\n",
      "\u001b[90m  tagName: 'div',\u001b[39m\n",
      "\u001b[90m  attribName: 'style',\u001b[39m\n",
      "\u001b[90m  oldValue: 'height:60vh;',\u001b[39m\n",
      "\u001b[90m  newValue: 'height: 60vh'\u001b[39m\n",
      "\u001b[90m}\u001b[39m\n",
      "\u001b[90mHTML Sanitizer\u001b[39m \u001b[90mimg.style changed\u001b[39m \u001b[90m{\u001b[39m\n",
      "\u001b[90m  change: 'changed',\u001b[39m\n",
      "\u001b[90m  tagName: 'img',\u001b[39m\n",
      "\u001b[90m  attribName: 'style',\u001b[39m\n",
      "\u001b[90m  oldValue: 'height:30vh',\u001b[39m\n",
      "\u001b[90m  newValue: 'height: 30vh'\u001b[39m\n",
      "\u001b[90m}\u001b[39m\n",
      "\u001b[90mHTML Sanitizer\u001b[39m \u001b[90mdiv.style changed\u001b[39m \u001b[90m{\u001b[39m\n",
      "\u001b[90m  change: 'changed',\u001b[39m\n",
      "\u001b[90m  tagName: 'div',\u001b[39m\n",
      "\u001b[90m  attribName: 'style',\u001b[39m\n",
      "\u001b[90m  oldValue: 'display:flex;height:62vh',\u001b[39m\n",
      "\u001b[90m  newValue: 'display: flex ; height: 62vh'\u001b[39m\n",
      "\u001b[90m}\u001b[39m\n",
      "\u001b[90mHTML Sanitizer\u001b[39m \u001b[90mdiv.style changed\u001b[39m \u001b[90m{\u001b[39m\n",
      "\u001b[90m  change: 'changed',\u001b[39m\n",
      "\u001b[90m  tagName: 'div',\u001b[39m\n",
      "\u001b[90m  attribName: 'style',\u001b[39m\n",
      "\u001b[90m  oldValue: 'visibility: visible;',\u001b[39m\n",
      "\u001b[90m  newValue: 'visibility: visible'\u001b[39m\n",
      "\u001b[90m}\u001b[39m\n",
      "\u001b[90mHTML Sanitizer\u001b[39m \u001b[90mdiv.style changed\u001b[39m \u001b[90m{\u001b[39m\n",
      "\u001b[90m  change: 'changed',\u001b[39m\n",
      "\u001b[90m  tagName: 'div',\u001b[39m\n",
      "\u001b[90m  attribName: 'style',\u001b[39m\n",
      "\u001b[90m  oldValue: 'height:60vh;',\u001b[39m\n",
      "\u001b[90m  newValue: 'height: 60vh'\u001b[39m\n",
      "\u001b[90m}\u001b[39m\n",
      "\u001b[90mHTML Sanitizer\u001b[39m \u001b[90mimg.style changed\u001b[39m \u001b[90m{\u001b[39m\n",
      "\u001b[90m  change: 'changed',\u001b[39m\n",
      "\u001b[90m  tagName: 'img',\u001b[39m\n",
      "\u001b[90m  attribName: 'style',\u001b[39m\n",
      "\u001b[90m  oldValue: 'height:55vh',\u001b[39m\n",
      "\u001b[90m  newValue: 'height: 55vh'\u001b[39m\n",
      "\u001b[90m}\u001b[39m\n",
      "\u001b[90mHTML Sanitizer\u001b[39m \u001b[90mdiv.style changed\u001b[39m \u001b[90m{\u001b[39m\n",
      "\u001b[90m  change: 'changed',\u001b[39m\n",
      "\u001b[90m  tagName: 'div',\u001b[39m\n",
      "\u001b[90m  attribName: 'style',\u001b[39m\n",
      "\u001b[90m  oldValue: 'visibility: visible;',\u001b[39m\n",
      "\u001b[90m  newValue: 'visibility: visible'\u001b[39m\n",
      "\u001b[90m}\u001b[39m\n",
      "\u001b[90mHTML Sanitizer\u001b[39m \u001b[90mdiv.style changed\u001b[39m \u001b[90m{\u001b[39m\n",
      "\u001b[90m  change: 'changed',\u001b[39m\n",
      "\u001b[90m  tagName: 'div',\u001b[39m\n",
      "\u001b[90m  attribName: 'style',\u001b[39m\n",
      "\u001b[90m  oldValue: 'height:60vh;',\u001b[39m\n",
      "\u001b[90m  newValue: 'height: 60vh'\u001b[39m\n",
      "\u001b[90m}\u001b[39m\n",
      "\u001b[90mHTML Sanitizer\u001b[39m \u001b[90mimg.style changed\u001b[39m \u001b[90m{\u001b[39m\n",
      "\u001b[90m  change: 'changed',\u001b[39m\n",
      "\u001b[90m  tagName: 'img',\u001b[39m\n",
      "\u001b[90m  attribName: 'style',\u001b[39m\n",
      "\u001b[90m  oldValue: 'height:55vh',\u001b[39m\n",
      "\u001b[90m  newValue: 'height: 55vh'\u001b[39m\n",
      "\u001b[90m}\u001b[39m\n",
      "\u001b[90mHTML Sanitizer\u001b[39m \u001b[90mdiv.style changed\u001b[39m \u001b[90m{\u001b[39m\n",
      "\u001b[90m  change: 'changed',\u001b[39m\n",
      "\u001b[90m  tagName: 'div',\u001b[39m\n",
      "\u001b[90m  attribName: 'style',\u001b[39m\n",
      "\u001b[90m  oldValue: 'height:47.5vh',\u001b[39m\n",
      "\u001b[90m  newValue: 'height: 47.5vh'\u001b[39m\n",
      "\u001b[90m}\u001b[39m\n",
      "\u001b[90mHTML Sanitizer\u001b[39m \u001b[90mdiv.style changed\u001b[39m \u001b[90m{\u001b[39m\n",
      "\u001b[90m  change: 'changed',\u001b[39m\n",
      "\u001b[90m  tagName: 'div',\u001b[39m\n",
      "\u001b[90m  attribName: 'style',\u001b[39m\n",
      "\u001b[90m  oldValue: 'height:60vh',\u001b[39m\n",
      "\u001b[90m  newValue: 'height: 60vh'\u001b[39m\n",
      "\u001b[90m}\u001b[39m\n",
      "\u001b[90mHTML Sanitizer\u001b[39m \u001b[90mdiv.style changed\u001b[39m \u001b[90m{\u001b[39m\n",
      "\u001b[90m  change: 'changed',\u001b[39m\n",
      "\u001b[90m  tagName: 'div',\u001b[39m\n",
      "\u001b[90m  attribName: 'style',\u001b[39m\n",
      "\u001b[90m  oldValue: 'display:flex;height:62vh',\u001b[39m\n",
      "\u001b[90m  newValue: 'display: flex ; height: 62vh'\u001b[39m\n",
      "\u001b[90m}\u001b[39m\n",
      "\u001b[90mHTML Sanitizer\u001b[39m \u001b[90mdiv.style changed\u001b[39m \u001b[90m{\u001b[39m\n",
      "\u001b[90m  change: 'changed',\u001b[39m\n",
      "\u001b[90m  tagName: 'div',\u001b[39m\n",
      "\u001b[90m  attribName: 'style',\u001b[39m\n",
      "\u001b[90m  oldValue: 'visibility: visible;',\u001b[39m\n",
      "\u001b[90m  newValue: 'visibility: visible'\u001b[39m\n",
      "\u001b[90m}\u001b[39m\n",
      "\u001b[90mHTML Sanitizer\u001b[39m \u001b[90mspan.style changed\u001b[39m \u001b[90m{\u001b[39m\n",
      "\u001b[90m  change: 'changed',\u001b[39m\n",
      "\u001b[90m  tagName: 'span',\u001b[39m\n",
      "\u001b[90m  attribName: 'style',\u001b[39m\n",
      "\u001b[90m  oldValue: 'color:firebrick;font-weight:800',\u001b[39m\n",
      "\u001b[90m  newValue: 'color: firebrick ; font-weight: 800'\u001b[39m\n",
      "\u001b[90m}\u001b[39m\n",
      "\u001b[90mHTML Sanitizer\u001b[39m \u001b[90mdiv.style changed\u001b[39m \u001b[90m{\u001b[39m\n",
      "\u001b[90m  change: 'changed',\u001b[39m\n",
      "\u001b[90m  tagName: 'div',\u001b[39m\n",
      "\u001b[90m  attribName: 'style',\u001b[39m\n",
      "\u001b[90m  oldValue: 'visibility: hidden;',\u001b[39m\n",
      "\u001b[90m  newValue: 'visibility: hidden'\u001b[39m\n",
      "\u001b[90m}\u001b[39m\n",
      "\u001b[90mHTML Sanitizer\u001b[39m \u001b[90mdiv.style changed\u001b[39m \u001b[90m{\u001b[39m\n",
      "\u001b[90m  change: 'changed',\u001b[39m\n",
      "\u001b[90m  tagName: 'div',\u001b[39m\n",
      "\u001b[90m  attribName: 'style',\u001b[39m\n",
      "\u001b[90m  oldValue: 'display:flex;height:62vh',\u001b[39m\n",
      "\u001b[90m  newValue: 'display: flex ; height: 62vh'\u001b[39m\n",
      "\u001b[90m}\u001b[39m\n",
      "\u001b[90mHTML Sanitizer\u001b[39m \u001b[90mdiv.style changed\u001b[39m \u001b[90m{\u001b[39m\n",
      "\u001b[90m  change: 'changed',\u001b[39m\n",
      "\u001b[90m  tagName: 'div',\u001b[39m\n",
      "\u001b[90m  attribName: 'style',\u001b[39m\n",
      "\u001b[90m  oldValue: 'visibility: visible;',\u001b[39m\n",
      "\u001b[90m  newValue: 'visibility: visible'\u001b[39m\n",
      "\u001b[90m}\u001b[39m\n",
      "\u001b[90mHTML Sanitizer\u001b[39m \u001b[90mspan.style changed\u001b[39m \u001b[90m{\u001b[39m\n",
      "\u001b[90m  change: 'changed',\u001b[39m\n",
      "\u001b[90m  tagName: 'span',\u001b[39m\n",
      "\u001b[90m  attribName: 'style',\u001b[39m\n",
      "\u001b[90m  oldValue: 'color:firebrick;font-weight:800',\u001b[39m\n",
      "\u001b[90m  newValue: 'color: firebrick ; font-weight: 800'\u001b[39m\n",
      "\u001b[90m}\u001b[39m\n",
      "\u001b[90mHTML Sanitizer\u001b[39m \u001b[90mdiv.style changed\u001b[39m \u001b[90m{\u001b[39m\n",
      "\u001b[90m  change: 'changed',\u001b[39m\n",
      "\u001b[90m  tagName: 'div',\u001b[39m\n",
      "\u001b[90m  attribName: 'style',\u001b[39m\n",
      "\u001b[90m  oldValue: 'visibility: visible;',\u001b[39m\n",
      "\u001b[90m  newValue: 'visibility: visible'\u001b[39m\n",
      "\u001b[90m}\u001b[39m\n",
      "\u001b[90mHTML Sanitizer\u001b[39m \u001b[90mdiv.style changed\u001b[39m \u001b[90m{\u001b[39m\n",
      "\u001b[90m  change: 'changed',\u001b[39m\n",
      "\u001b[90m  tagName: 'div',\u001b[39m\n",
      "\u001b[90m  attribName: 'style',\u001b[39m\n",
      "\u001b[90m  oldValue: 'height:60vh',\u001b[39m\n",
      "\u001b[90m  newValue: 'height: 60vh'\u001b[39m\n",
      "\u001b[90m}\u001b[39m\n",
      "\u001b[90mHTML Sanitizer\u001b[39m \u001b[90mspan.style changed\u001b[39m \u001b[90m{\u001b[39m\n",
      "\u001b[90m  change: 'changed',\u001b[39m\n",
      "\u001b[90m  tagName: 'span',\u001b[39m\n",
      "\u001b[90m  attribName: 'style',\u001b[39m\n",
      "\u001b[90m  oldValue: 'color:firebrick',\u001b[39m\n",
      "\u001b[90m  newValue: 'color: firebrick'\u001b[39m\n",
      "\u001b[90m}\u001b[39m\n",
      "\u001b[90mHTML Sanitizer\u001b[39m \u001b[90mdiv.style changed\u001b[39m \u001b[90m{\u001b[39m\n",
      "\u001b[90m  change: 'changed',\u001b[39m\n",
      "\u001b[90m  tagName: 'div',\u001b[39m\n",
      "\u001b[90m  attribName: 'style',\u001b[39m\n",
      "\u001b[90m  oldValue: 'height:60vh',\u001b[39m\n",
      "\u001b[90m  newValue: 'height: 60vh'\u001b[39m\n",
      "\u001b[90m}\u001b[39m\n",
      "\u001b[90mHTML Sanitizer\u001b[39m \u001b[90mspan.style changed\u001b[39m \u001b[90m{\u001b[39m\n",
      "\u001b[90m  change: 'changed',\u001b[39m\n",
      "\u001b[90m  tagName: 'span',\u001b[39m\n",
      "\u001b[90m  attribName: 'style',\u001b[39m\n",
      "\u001b[90m  oldValue: 'color:dodgerblue',\u001b[39m\n",
      "\u001b[90m  newValue: 'color: dodgerblue'\u001b[39m\n",
      "\u001b[90m}\u001b[39m\n",
      "\u001b[90mHTML Sanitizer\u001b[39m \u001b[90mdiv.style changed\u001b[39m \u001b[90m{\u001b[39m\n",
      "\u001b[90m  change: 'changed',\u001b[39m\n",
      "\u001b[90m  tagName: 'div',\u001b[39m\n",
      "\u001b[90m  attribName: 'style',\u001b[39m\n",
      "\u001b[90m  oldValue: 'height:47vh;font-size:28px',\u001b[39m\n",
      "\u001b[90m  newValue: 'height: 47vh ; font-size: 28px'\u001b[39m\n",
      "\u001b[90m}\u001b[39m\n",
      "\u001b[90mHTML Sanitizer\u001b[39m \u001b[90mdiv.style changed\u001b[39m \u001b[90m{\u001b[39m\n",
      "\u001b[90m  change: 'changed',\u001b[39m\n",
      "\u001b[90m  tagName: 'div',\u001b[39m\n",
      "\u001b[90m  attribName: 'style',\u001b[39m\n",
      "\u001b[90m  oldValue: 'height:60vh',\u001b[39m\n",
      "\u001b[90m  newValue: 'height: 60vh'\u001b[39m\n",
      "\u001b[90m}\u001b[39m\n",
      "\u001b[90mHTML Sanitizer\u001b[39m \u001b[90mdiv.style changed\u001b[39m \u001b[90m{\u001b[39m\n",
      "\u001b[90m  change: 'changed',\u001b[39m\n",
      "\u001b[90m  tagName: 'div',\u001b[39m\n",
      "\u001b[90m  attribName: 'style',\u001b[39m\n",
      "\u001b[90m  oldValue: 'height:60vh',\u001b[39m\n",
      "\u001b[90m  newValue: 'height: 60vh'\u001b[39m\n",
      "\u001b[90m}\u001b[39m\n"
     ]
    },
    {
     "name": "stdout",
     "output_type": "stream",
     "text": [
      "\u001b[90mSession: kernel_created (dd16f93d-cb76-47ea-9f33-2f17401988eb)\u001b[39m\n",
      "\u001b[90mStarting WebSockets:\u001b[39m \u001b[90mws://localhost:8888/api/kernels/18e63c77-a4a0-43f5-b568-5b7afff4763a\u001b[39m\n",
      "\u001b[31mFailed to load extension:\u001b[39m \u001b[31m[ 'nbextensions/hide_code/hide_code' ]\u001b[39m \u001b[31m{\u001b[39m\n",
      "\u001b[31m  requireType: 'scripterror',\u001b[39m\n",
      "\u001b[31m  requireModules: [ 'nbextensions/hide_code/hide_code' ],\u001b[39m\n",
      "\u001b[31m  originalError: { isTrusted: true }\u001b[39m\n",
      "\u001b[31m}\u001b[39m\n",
      "\u001b[90mLoading extension: nbextensions_configurator/config_menu/main\u001b[39m\n",
      "\u001b[90mLoading extension: contrib_nbextensions_help_item/main\u001b[39m\n",
      "\u001b[90mLoading extension: rise/main\u001b[39m\n",
      "\u001b[90mLoading extension: hide_input/main\u001b[39m\n",
      "\u001b[90mLoading extension: splitcell/splitcell\u001b[39m\n",
      "\u001b[90mcenter\u001b[39m\n",
      "\u001b[90mcenter\u001b[39m\n",
      "\u001b[90mcenter\u001b[39m\n",
      "\u001b[90mcenter\u001b[39m\n",
      "\u001b[90mcenter\u001b[39m\n",
      "\u001b[90mLoading extension: jupyter-js-widgets/extension\u001b[39m\n",
      "\u001b[31mFailed to load resource: the server responded with a status of 404 (Not Found)\u001b[39m\n",
      "\u001b[38;2;255;165;0mWidgets are not available.  Please install widgetsnbextension or ipywidgets 4.0\u001b[39m\n",
      "\u001b[90mLoading extension: jupyter-black-master/jupyter-black\u001b[39m\n",
      "\u001b[90mLoading extension: toc2/main\u001b[39m\n",
      "\u001b[90m[toc2] Notebook fully loaded -- toc2 initialized \u001b[39m\n",
      "\u001b[90mLoading extension: codefolding/main\u001b[39m\n",
      "\u001b[90mKernel: kernel_connected (18e63c77-a4a0-43f5-b568-5b7afff4763a)\u001b[39m\n",
      "\u001b[90mKernel: kernel_ready (18e63c77-a4a0-43f5-b568-5b7afff4763a)\u001b[39m\n",
      "\u001b[90m[jupyter-black]\u001b[39m \u001b[90mrestarting for new kernel_ready.Kernel event\u001b[39m\n",
      "Loading page finished with status: \u001b[33m200\u001b[39m\n",
      "\u001b[36m\u001b[1mRISE\u001b[22m\u001b[39m\u001b[36m plugin activated\u001b[39m\n",
      "\u001b[31mRefused to apply style from 'http://localhost:8888/notebooks/Lecture00_Intro.css' because its MIME type ('text/html') is not a supported stylesheet MIME type, and strict MIME checking is enabled.\u001b[39m\n",
      "\u001b[90mCodefolding: Wait for\u001b[39m \u001b[90m1000\u001b[39m \u001b[90mms\u001b[39m\n",
      "\u001b[31mFailed to load resource: the server responded with a status of 404 (Not Found)\u001b[39m\n",
      "\u001b[38;2;255;165;0mFailed to get file Lecture1.json. ReadyState: 4, Status: 404\u001b[39m\n",
      "Printing slide #/slide-20-0 (23/21) ...\u001b[32m\u001b[39m\n",
      "\u001b[32mPrinted \u001b[39m\u001b[32m\u001b[1m23\u001b[22m\u001b[39m\u001b[32m slides\u001b[39m\n"
     ]
    }
   ],
   "source": [
    "nb_list = !jupyter notebook list\n",
    "server = [l for l in nb_list if 'eos408' in l][0].split(' :: ')[0]\n",
    "prefix = server.split('?')[0]\n",
    "token = server.split('?')[1]\n",
    "notebook = 'Lecture00_Intro.ipynb'\n",
    "url = prefix+'notebooks/'+notebook+'?'+token\n",
    "!decktape --slides 1-62 -s '1920x1080' rise $url pdf_slides/Lecture00_Intro.pdf"
   ]
  },
  {
   "cell_type": "markdown",
   "metadata": {
    "slideshow": {
     "slide_type": "slide"
    }
   },
   "source": [
    "# Lecture 1: EOS 408 Course Introduction\n",
    "<br>"
   ]
  },
  {
   "cell_type": "markdown",
   "metadata": {
    "slideshow": {
     "slide_type": "-"
    }
   },
   "source": [
    "<div data-id=\"columns\" style=\"display:flex;height:50vh\">\n",
    "    <div class=\"clearpanel_start\" style=\"visibility: visible;\">\n",
    "<ol>\n",
    "<li>introductions</li>\n",
    "<li>who am I?</li>\n",
    "<li>who are you?</li>\n",
    "<li>overview of course outline and assignments</li>\n",
    "<li>readings and assignment for next week</li>\n",
    "</ol>     \n",
    "</div>\n",
    "    <div class=\"clearpanel\" style=\"visibility: visible;\">\n",
    "<div style='height:39vh;background-color:white;font-size:.5em'><center>\n",
    "    <img style='height:49vh' src='images/marine_geo_molokai.jpg'/></center><br>\n",
    "    <center>The Pacific island of Moloka‘i</center><br>\n",
    "</div>\n",
    "</div>\n",
    "</div>\n",
    "<br>"
   ]
  },
  {
   "cell_type": "markdown",
   "metadata": {
    "slideshow": {
     "slide_type": "-"
    }
   },
   "source": [
    "<div style='font-size:25px'> <i>We acknowledge and respect the lək̓ʷəŋən peoples on whose traditional territory the university stands and the Songhees, Esquimalt and W̱SÁNE&#262; peoples whose historical relationships with the land continue to this day.</i></div>"
   ]
  },
  {
   "cell_type": "markdown",
   "metadata": {
    "slideshow": {
     "slide_type": "slide"
    }
   },
   "source": [
    "## Who am I?\n",
    "<br>"
   ]
  },
  {
   "cell_type": "markdown",
   "metadata": {
    "slideshow": {
     "slide_type": "-"
    }
   },
   "source": [
    "<div data-id=\"columns\" style=\"display:flex;height:70vh\">\n",
    "    <div class=\"clearpanel_start\" style=\"visibility: visible;\">\n",
    "    <center><img id=\"bordered_img\" src=\"images/blake2.jpg\" style='height:550px'></center>\n",
    "    </div>\n",
    "    <div class=\"clearpanel\" style=\"visibility: visible;\">\n",
    "        <ul style='font-size:.8em'>\n",
    "            <li>Blake Dyer (he/him/his)\n",
    "                <ul>\n",
    "                  <li>I prefer Blake over Dr. Dyer or Professor Dyer</li>\n",
    "                </ul>\n",
    "            </li>\n",
    "            <li>Undergraduate degree in Earth Sciences at Rice University 2006-2010</li>\n",
    "            <li>PhD in Geosciences at Princeton University 2010-2015</li>\n",
    "            <li>Postdoc at LDEO (Columbia University) 2016-2019</li>\n",
    "            <li>Started in SEOS at UVic in Nov 2019</li>\n",
    "            <li>Courses: EOS 240 Geochemistry, EOS 120 The Dynamic Earth, EOS 423 Advanced Sedimentology and Stratigraphy, EOS 408 Marine Geology</li>\n",
    "        </ul>\n",
    "    </div>\n",
    "</div>"
   ]
  },
  {
   "cell_type": "markdown",
   "metadata": {
    "slideshow": {
     "slide_type": "slide"
    }
   },
   "source": [
    "## Research program interests: the geologic history of climate and life\n",
    "<br>"
   ]
  },
  {
   "cell_type": "markdown",
   "metadata": {
    "cell_style": "center",
    "slideshow": {
     "slide_type": "-"
    }
   },
   "source": [
    "<center>\n",
    "    <div style='background: url(images/honaker_snow.jpg) 50% 35% no-repeat;\n",
    "  height: 60vh; background-size: 100%;border: 1px solid #555;'>\n",
    "    </div>\n",
    "    The Goosenecks, Utah\n",
    "</center>"
   ]
  },
  {
   "cell_type": "markdown",
   "metadata": {
    "slideshow": {
     "slide_type": "slide"
    }
   },
   "source": [
    "## Research program interests: the geologic history of climate and life\n",
    "<br>"
   ]
  },
  {
   "cell_type": "markdown",
   "metadata": {
    "cell_style": "center",
    "slideshow": {
     "slide_type": "-"
    }
   },
   "source": [
    "<center>\n",
    "    <div style=\"background: url(images/Oahu_reef_tides.jpg) 50% 55% no-repeat;\n",
    "  height: 60vh; background-size: 100%;border: 1px solid #555;\"> \n",
    "</div>\n",
    "Ka'ena Point, Oahu\n",
    "</center>\n"
   ]
  },
  {
   "cell_type": "markdown",
   "metadata": {
    "slideshow": {
     "slide_type": "slide"
    }
   },
   "source": [
    "## Research tools:\n",
    "<br>"
   ]
  },
  {
   "cell_type": "markdown",
   "metadata": {
    "slideshow": {
     "slide_type": "-"
    }
   },
   "source": [
    "<div data-id=\"columns\" style=\"display:flex;height:62vh\">\n",
    "    <div class=\"clearpanel_start\" style=\"visibility: visible;\">\n",
    "        <ul>\n",
    "            <li>primary field work</li>\n",
    "            <li style=\"visibility: hidden;\">model building</li>\n",
    "            <li style=\"visibility: hidden;\">model data comparisons (Bayesian statistics)</li>\n",
    "            <li style=\"visibility: hidden;\">machine learning</li>\n",
    "        </ul>\n",
    "    </div>\n",
    "    <div class=\"clearpanel\" style=\"visibility: visible;\">\n",
    "        <center><img id=\"bordered_img\"  src=\"images/fieldwork.jpg\" style='height:60vh'></center>\n",
    "    </div>\n",
    "    <br>\n",
    "</div>"
   ]
  },
  {
   "cell_type": "markdown",
   "metadata": {
    "slideshow": {
     "slide_type": "slide"
    }
   },
   "source": [
    "## Research tools:\n",
    "<p></p>"
   ]
  },
  {
   "cell_type": "markdown",
   "metadata": {
    "slideshow": {
     "slide_type": "-"
    }
   },
   "source": [
    "<div data-id=\"columns\" style=\"display:flex;height:62vh\">\n",
    "    <div class=\"clearpanel_start\" style=\"visibility: visible;\">\n",
    "        <ul>\n",
    "            <li>primary field work</li>\n",
    "            <li style=\"visibility: visible;\">model building</li>\n",
    "            <li style=\"visibility: hidden;\">model data comparisons (Bayesian statistics)</li>\n",
    "            <li style=\"visibility: hidden;\">machine learning</li>\n",
    "        </ul>\n",
    "    </div>\n",
    "    <div class=\"clearpanel\" style=\"visibility: visible;\">\n",
    "        <center><img id=\"bordered_img\"  src=\"images/model_building.png\" style='width:45vw'></center>\n",
    "    </div>\n",
    "</div>"
   ]
  },
  {
   "cell_type": "markdown",
   "metadata": {
    "slideshow": {
     "slide_type": "slide"
    }
   },
   "source": [
    "## Research tools:\n",
    "<p></p>"
   ]
  },
  {
   "cell_type": "markdown",
   "metadata": {
    "slideshow": {
     "slide_type": "-"
    }
   },
   "source": [
    "<div data-id=\"columns\" style=\"display:flex;height:62vh\">\n",
    "    <div class=\"clearpanel_start\" style=\"visibility: visible;\">\n",
    "        <ul>\n",
    "            <li>primary field work</li>\n",
    "            <li style=\"visibility: visible;\">model building</li>\n",
    "            <li style=\"visibility: visible;\">model data comparisons (Bayesian statistics)</li>\n",
    "            <li style=\"visibility: hidden;\">machine learning</li>\n",
    "        </ul>\n",
    "    </div>\n",
    "    <div class=\"clearpanel\" style=\"visibility: visible;\">\n",
    "    <div style='height:60vh;font-size:18px'>\n",
    "\t    <center><img id=\"bordered_img\"  src=\"images/full_all_labeled.svg\" style='height:50vh'></center><br>\n",
    "        <center>A graphical representation of a Bayesian inference model for paleo sea-level reconstructions</center>\n",
    "    </div>\n",
    "    </div>\n",
    "</div>"
   ]
  },
  {
   "cell_type": "markdown",
   "metadata": {
    "slideshow": {
     "slide_type": "slide"
    }
   },
   "source": [
    "## Research tools:\n",
    "<p></p>"
   ]
  },
  {
   "cell_type": "markdown",
   "metadata": {
    "slideshow": {
     "slide_type": "-"
    }
   },
   "source": [
    "<div data-id=\"columns\" style=\"display:flex;height:62vh\">\n",
    "    <div class=\"clearpanel_start\" style=\"visibility: visible;\">\n",
    "        <ul>\n",
    "            <li>primary field work</li>\n",
    "            <li style=\"visibility: visible;\">model building</li>\n",
    "            <li style=\"visibility: visible;\">model data comparisons (Bayesian statistics)</li>\n",
    "            <li style=\"visibility: visible;\">machine learning</li>\n",
    "        </ul>\n",
    "    </div>\n",
    "    <div class=\"clearpanel\" style=\"visibility: visible;\">\n",
    "    <div style='height:60vh;font-size:18px'>\n",
    "\t    <center><img id=\"bordered_img\"  src=\"images/full_all_labeled.svg\" style='height:50vh'></center><br>\n",
    "        <center>A graphical representation of a Bayesian inference model for paleo sea-level reconstructions</center>\n",
    "    </div>\n",
    "    </div>\n",
    "</div>"
   ]
  },
  {
   "cell_type": "markdown",
   "metadata": {
    "slideshow": {
     "slide_type": "slide"
    }
   },
   "source": [
    "## Research tools:\n",
    "<br>"
   ]
  },
  {
   "cell_type": "markdown",
   "metadata": {
    "cell_style": "center",
    "slideshow": {
     "slide_type": "-"
    }
   },
   "source": [
    "<center>\n",
    "    <div style='height:60vh;'>\n",
    "\t    <img src=\"images/ice_sens3.gif\" style='height:30vh'>\n",
    "    </div>\n",
    "</center>"
   ]
  },
  {
   "cell_type": "markdown",
   "metadata": {
    "slideshow": {
     "slide_type": "skip"
    }
   },
   "source": [
    "## Outside of work\n",
    "<br>"
   ]
  },
  {
   "cell_type": "markdown",
   "metadata": {
    "slideshow": {
     "slide_type": "skip"
    }
   },
   "source": [
    "<div data-id=\"columns\" style=\"display:flex;height:62vh\">\n",
    "    <div class=\"clearpanel_start\" style=\"visibility: visible;\">\n",
    "        <center>\n",
    "            <div style='height:60vh;'>\n",
    "                <img  id=\"bordered_img\"  src=\"images/cmuc2023blake.jpg\" style='height:55vh'>\n",
    "            </div>\n",
    "        </center>\n",
    "    </div>\n",
    "    <div class=\"clearpanel\" style=\"visibility: visible;\">\n",
    "        <center>\n",
    "        <div style='height:60vh;'>\n",
    "            <img  id=\"bordered_img\"  src=\"images/backpacking.jpg\" style='height:55vh'>\n",
    "        </div>\n",
    "        </center>\n",
    "    </div>\n",
    "</div>"
   ]
  },
  {
   "cell_type": "markdown",
   "metadata": {
    "slideshow": {
     "slide_type": "slide"
    }
   },
   "source": [
    "# Introductions: who are *you*\n",
    "<br>\n"
   ]
  },
  {
   "cell_type": "markdown",
   "metadata": {
    "slideshow": {
     "slide_type": "-"
    }
   },
   "source": [
    "Some optional prompts:\n",
    "- Name\n",
    "- Why are you here?\n",
    "    - What program are you in and/or why?\n",
    "    - What do you hope to learn in EOS 408?\n",
    "    - What challenges do you anticipate?\n",
    "    - What are you plans after graduation?\n",
    "    - What are your favorite hobbies?"
   ]
  },
  {
   "cell_type": "markdown",
   "metadata": {
    "slideshow": {
     "slide_type": "slide"
    }
   },
   "source": [
    "# Course outline\n",
    "<br>"
   ]
  },
  {
   "cell_type": "markdown",
   "metadata": {
    "slideshow": {
     "slide_type": "-"
    }
   },
   "source": [
    "<div style='height:47.5vh'>\n",
    "    \n",
    "**Course Materials:** There is no required textbook. Readings will be made available through the course website. Students are required to have a computer work on assignments.\n",
    "    \n",
    "**Course description and objectives:** In this course, we will explore geological processes in a wide range of oceanic environments: mid-ocean ridges, mid-plate volcanoes and hot spots, coastlines, continental margins and abyssal plains. The lectures, readings, and your writing will cover seminal scientific works and recent journal publications. Pre-requisites: EOS 201, EOS 310 or EOS 316.\n",
    "    \n",
    "</div>"
   ]
  },
  {
   "cell_type": "markdown",
   "metadata": {
    "slideshow": {
     "slide_type": "fragment"
    }
   },
   "source": [
    " ***If someone does not have one of these pre-reqs, please contact me ASAP!***"
   ]
  },
  {
   "cell_type": "markdown",
   "metadata": {
    "slideshow": {
     "slide_type": "slide"
    }
   },
   "source": [
    "# Course outline\n",
    "<br>"
   ]
  },
  {
   "cell_type": "markdown",
   "metadata": {
    "slideshow": {
     "slide_type": "-"
    }
   },
   "source": [
    "<div style='height:60vh'>\n",
    "    \n",
    "**Course structure:** The course will meet twice a week (M/Th) for lectures and workshops. A tentative plan for the entire term is on Brightspace and the course webpage. I will keep that schedule up to date when changes are made.\n",
    "\n",
    "</div>"
   ]
  },
  {
   "cell_type": "markdown",
   "metadata": {
    "slideshow": {
     "slide_type": "slide"
    }
   },
   "source": [
    "## Course outline: evaluation\n",
    "<br>"
   ]
  },
  {
   "cell_type": "markdown",
   "metadata": {
    "slideshow": {
     "slide_type": "-"
    }
   },
   "source": [
    "<div data-id=\"columns\" style=\"display:flex;height:62vh\">\n",
    "    <div class=\"clearpanel_start\" style=\"visibility: visible;\">\n",
    "        \n",
    "**Grading:** <span style='color:firebrick;font-weight:800'>This course is a science writing course</span>. Clear writing is one of the most important skills in science as it clarifies our own understanding of a topic and provides a pathway to communicate our ideas to others. **You will be required to submit writing and revisions to your writing almost every week**. Your final grade in this course will largely reflect your ability to demonstrate your understanding of marine geology through your writing.\n",
    "    \n",
    "        \n",
    "</div>\n",
    "<div class=\"clearpanel\" style=\"visibility: hidden;\">\n",
    "\n",
    "        Below is a breakdown of the course assessment:\n",
    "\n",
    "| | |\n",
    "|----------------------------------------------------------|-----:|\n",
    "| **Participation and contributions to workshops**         | 10\\% |\n",
    "| **Review paper outline (Due Oct 06)**                    | 10\\% |\n",
    "| **Review paper first submission (Due Nov 17)**           | 10\\% |\n",
    "| **Peer review letter (Due Nov 24)**                      | 10\\% |\n",
    "| **Cover letter and final paper submission (Due Dec 04)** | 40\\% |\n",
    "| **In class presentation**                                | 20\\% |\n",
    "        \n",
    "</div>\n",
    " </div>\n"
   ]
  },
  {
   "cell_type": "markdown",
   "metadata": {
    "slideshow": {
     "slide_type": "slide"
    }
   },
   "source": [
    "## Course outline: evaluation\n",
    "<br>"
   ]
  },
  {
   "cell_type": "markdown",
   "metadata": {
    "slideshow": {
     "slide_type": "-"
    }
   },
   "source": [
    "<div data-id=\"columns\" style=\"display:flex;height:62vh\">\n",
    "    <div class=\"clearpanel_start\" style=\"visibility: visible;\">\n",
    "        \n",
    "**Grading:** <span style='color:firebrick;font-weight:800'>This course is a science writing course</span>. Clear writing is one of the most important skills in science as it clarifies our own understanding of a topic and provides a pathway to communicate our ideas to others. **You will be required to submit writing and revisions to your writing almost every week**. Your final grade in this course will largely reflect your ability to demonstrate your understanding of marine geology through your writing.\n",
    "    \n",
    "        \n",
    "</div>\n",
    "<div class=\"clearpanel\" style=\"visibility: visible;\">\n",
    "\n",
    "    \n",
    "Below is a breakdown of the course assessment:\n",
    "    \n",
    "<br>\n",
    "    \n",
    "| | |\n",
    "|----------------------------------------------------------|-----:|\n",
    "| **Participation and contributions to workshops**         | 10\\% |\n",
    "| **Pre-workshop writings**                    | 20\\% |\n",
    "| **Final paper (Due Dec 03)**           | 50\\% |\n",
    "| **Exam (in class Nov 20)**                      | 10\\% |\n",
    "| **In class presentation** | 10\\% |\n",
    "    \n",
    "</div>\n",
    " </div>\n"
   ]
  },
  {
   "cell_type": "markdown",
   "metadata": {
    "slideshow": {
     "slide_type": "slide"
    }
   },
   "source": [
    "### Course outline: final paper\n",
    "<br>"
   ]
  },
  {
   "cell_type": "markdown",
   "metadata": {
    "slideshow": {
     "slide_type": "-"
    }
   },
   "source": [
    "<div style='height:60vh'>\n",
    "    \n",
    "\n",
    "Over the course of this term you will be writing (and rewriting) a short scientific paper on a topic of your choosing within the scope of marine geology. The paper should be around **2500 words** and must have at least **two** original figures that you have created by combining data or concepts from your background research. From the first day of class, you have <span style='color:firebrick'>**only ten**</span> days to write the first draft of this paper, and you will get very little guidance on this first draft. However, we will workshop your writing together in class throughout the term. The final paper is a **required** component of the course. Failure to submit a final paper will result in a *N* grade in the course. Additionally, your post-workshop revisions will be submitted almost every week. If your submission history at the end of the term can not clearly connect your initial submission to your final paper, the final paper will be treated as a zero (resulting in a *N* grade in the course).\n",
    "    \n",
    "    \n",
    "</div>"
   ]
  },
  {
   "cell_type": "markdown",
   "metadata": {
    "slideshow": {
     "slide_type": "slide"
    }
   },
   "source": [
    "### Course outline: workshops\n",
    "<br>"
   ]
  },
  {
   "cell_type": "markdown",
   "metadata": {
    "slideshow": {
     "slide_type": "-"
    }
   },
   "source": [
    "<div style='height:60vh'>\n",
    "    \n",
    "This course is roughly half workshop and half lecture, and it is especially important for everyone to participate and be heard. You should be honest with your classmates and with the instructor, respectful toward everyone's thoughts and opinions, and compassionate toward your subject matter and the views of your peers. A pattern of showing up to workshops unprepared will result in a zero for this aspect of your final grade. More importantly, the workshops are designed to help you with your writing, so failure to take advantage of the workshops will make it very tough to score high on your final writing submission.\n",
    "\n",
    "The workshops have two components: a pre-workshop submission and the in class workshop activity. Typically, before each workshop, you will be required to submit revisions to your writing based on the workshop the previous week. Along with the revisions, you will submit a short *post-workshop reflection* summarizing the changes you have made and why (short in this case is most likely a paragraph or two). <span style='color:dodgerblue'>Your pre-workshop revisions will be used in the following workshop, so it is really important that you stay on schedule.</span>\n",
    "    \n",
    "</div>"
   ]
  },
  {
   "cell_type": "markdown",
   "metadata": {
    "slideshow": {
     "slide_type": "slide"
    }
   },
   "source": [
    "### Course outline: workshops\n",
    "<br>"
   ]
  },
  {
   "cell_type": "markdown",
   "metadata": {
    "slideshow": {
     "slide_type": "-"
    }
   },
   "source": [
    "<div style='height:47vh;font-size:28px'>\n",
    "    \n",
    "\n",
    "    \n",
    "To get the most out of this course, you should:\n",
    "\n",
    "- be on time and well-prepared for lectures and workshops.\n",
    "- participate consistently and democratically in class, both by listening attentively and contributing thoughtful comments and questions that build on classmates' responses.\n",
    "- speak not only to the professor but to other students; work energetically in small group or pair activities; overall, improve the day-to-day quality of the course for everyone.\n",
    "- write *post-workshop reflections* that thoughtfully and critically examine your own writing.\n",
    "- submit thoughtful and complete pre-workshop drafts.\n",
    "    \n",
    "</div>"
   ]
  },
  {
   "cell_type": "markdown",
   "metadata": {
    "slideshow": {
     "slide_type": "slide"
    }
   },
   "source": [
    "### Course outline: presentations\n",
    "<br>"
   ]
  },
  {
   "cell_type": "markdown",
   "metadata": {
    "slideshow": {
     "slide_type": "-"
    }
   },
   "source": [
    "<div style='height:60vh'>\n",
    "    \n",
    "\n",
    "**Class Presentation** Towards the end of the term, you will give a 12 minute presentation for the class on the topic of your review paper.\n",
    "    \n",
    "</div>"
   ]
  },
  {
   "cell_type": "markdown",
   "metadata": {
    "slideshow": {
     "slide_type": "slide"
    }
   },
   "source": [
    "## Course policies\n",
    "<br>"
   ]
  },
  {
   "cell_type": "markdown",
   "metadata": {
    "slideshow": {
     "slide_type": "-"
    }
   },
   "source": [
    "<div style='height:60vh'>\n",
    "    \n",
    "\n",
    "**Deadlines**: Assignment due dates are considered hard deadlines, except under extra-ordinary circumstances. If you have a known conflict that will make completing an assignment impossible, please notify the instructors\n",
    "well in advance of the due date.\n",
    "    \n",
    "**Use of AI**: In this course you are not authorized to use any form of generative AI except when specifically mentioned by the instructor. On some of the later workshops, generative AI may be allowed, and prior to these workshops, the instructor will describe the specific way in which generative AI can be used. When used, your prompts and the generative AI responses must be included as an appendix to your submissions. The specific use cases for generative will not be required, and you can successfully complete all course components without the use of any generative AI.\n",
    "    \n",
    "</div>"
   ]
  },
  {
   "cell_type": "markdown",
   "metadata": {
    "slideshow": {
     "slide_type": "slide"
    }
   },
   "source": [
    "# Course calendar\n",
    "<br>\n",
    "\n",
    "https://eos-courses.readthedocs.io/en/latest/eos408-public/Outline/outline.html"
   ]
  },
  {
   "cell_type": "markdown",
   "metadata": {
    "slideshow": {
     "slide_type": "slide"
    }
   },
   "source": [
    "# Next week\n",
    "<br>"
   ]
  },
  {
   "cell_type": "markdown",
   "metadata": {
    "cell_style": "center",
    "slideshow": {
     "slide_type": "-"
    }
   },
   "source": [
    "- Monday September 8: **Lecture 1 Sea-floor depth, age, and heat flow**\n",
    "    - read *History of Ocean Basins* (Hess 1962) before class"
   ]
  },
  {
   "cell_type": "markdown",
   "metadata": {
    "cell_style": "center",
    "slideshow": {
     "slide_type": "fragment"
    }
   },
   "source": [
    "- Thursday September 11: **Workshop 1 Key papers discussion**\n",
    "    - Pre-workshop assignment: no submission, just reading (Dietz1961, Hess1962, Vine1963)\n",
    "        - These three papers will be used throughout the term in our writing workshops. This first week we will discuss the content and context of the papers without too much analysis of the writing.\n",
    "    - Readings can be found [here](https://eos-courses.readthedocs.io/en/latest/eos408-public/readings.html)"
   ]
  },
  {
   "cell_type": "code",
   "execution_count": null,
   "metadata": {
    "slideshow": {
     "slide_type": "skip"
    }
   },
   "outputs": [],
   "source": []
  }
 ],
 "metadata": {
  "celltoolbar": "Slideshow",
  "kernelspec": {
   "display_name": "Python 3",
   "language": "python",
   "name": "python3"
  },
  "language_info": {
   "codemirror_mode": {
    "name": "ipython",
    "version": 3
   },
   "file_extension": ".py",
   "mimetype": "text/x-python",
   "name": "python",
   "nbconvert_exporter": "python",
   "pygments_lexer": "ipython3",
   "version": "3.9.1"
  },
  "rise": {
   "chalkboard": {
    "chalkEffect": 1,
    "chalkWidth": 7,
    "color": [
     "rgb(200,47,62)",
     "rgb(200,47,62)"
    ],
    "readOnly": false,
    "src": "Lecture1.json",
    "theme": "whiteboard"
   },
   "enable_chalkboard": true,
   "transition": "fade"
  },
  "toc": {
   "base_numbering": 1,
   "nav_menu": {
    "height": "229px",
    "width": "213px"
   },
   "number_sections": false,
   "sideBar": true,
   "skip_h1_title": false,
   "title_cell": "Table of Contents",
   "title_sidebar": "Contents",
   "toc_cell": false,
   "toc_position": {
    "height": "calc(100% - 180px)",
    "left": "10px",
    "top": "150px",
    "width": "426.667px"
   },
   "toc_section_display": true,
   "toc_window_display": false
  },
  "toc-autonumbering": true,
  "toc-showcode": false,
  "toc-showmarkdowntxt": false,
  "toc-showtags": false
 },
 "nbformat": 4,
 "nbformat_minor": 4
}
